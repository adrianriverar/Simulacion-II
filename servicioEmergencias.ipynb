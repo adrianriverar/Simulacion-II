{
  "nbformat": 4,
  "nbformat_minor": 0,
  "metadata": {
    "colab": {
      "provenance": [],
      "authorship_tag": "ABX9TyOb5aY0Cru9OTx9a6BX0GBy",
      "include_colab_link": true
    },
    "kernelspec": {
      "name": "python3",
      "display_name": "Python 3"
    },
    "language_info": {
      "name": "python"
    }
  },
  "cells": [
    {
      "cell_type": "markdown",
      "metadata": {
        "id": "view-in-github",
        "colab_type": "text"
      },
      "source": [
        "<a href=\"https://colab.research.google.com/github/adrianriverar/Simulacion-II/blob/main/servicioEmergencias.ipynb\" target=\"_parent\"><img src=\"https://colab.research.google.com/assets/colab-badge.svg\" alt=\"Open In Colab\"/></a>"
      ]
    },
    {
      "cell_type": "markdown",
      "source": [
        "# **Problema central de emergencias**\n",
        "La central de un servicio de emergencias dispone de tres teléfonos para atender llamadas. La duración de las llamadas sigue una distribución normal con los parámetros que recoge la tabla en minutos.\n",
        "$$$$\n",
        "\n",
        "|Operador teléfono|Media|Desviación|\n",
        "|-|-|-|\n",
        "|1|2.0|0.4|\n",
        "|2|2.1|0.3|\n",
        "|3|1.9|0.5|\n",
        "\n",
        "$$$$\n",
        "Determine el tiempo medio de respuesta de la central de emergencias.\n",
        "\n",
        "# **Resolución**\n",
        "## **1. Identifique las variables.**\n",
        "\n",
        "Tenemos tres: \n",
        "\n",
        "*   $d_i:=$ Duración en minutos de una llamada al operador $\\,i$, con $\\,i = 1,2,3$.\n",
        "\n",
        "## **2. Determine la distribución de probabilidad.**\n",
        "\n",
        "Debido a los datos proporcionados durante el planteamiento del problema, se sigue que las tres variables poseen una distribución normal con diferentes parámetros.\n",
        "\n",
        "## **3. Modele las variables aleatorias.**\n",
        "\n",
        "Habiendo deducido la distribución de cada variable aleatoria, se sigue que\n",
        "\n",
        "  \\begin{align*}\n",
        "  d_1 &\\sim \\mathrm{N}(2.0, 0.4) \\\\\n",
        "  d_2 &\\sim \\mathrm{N}(2.1, 0.3) \\\\\n",
        "  d_3 &\\sim \\mathrm{N}(1.9, 0.5)\n",
        "  \\end{align*}\n",
        "\n",
        "## **4. Defina el modelo del sistema y los objetivos de la simulación.**\n",
        "Al no proporcionarse una tasa de llegada de las llamadas a la central de emergencias, se estimará el tiempo de respuesta real mediante el tiempo que tardaría una persona en ser atendida si llamase a la central justo en el momento en el que los tres operadores acaban, literalmente, de atender cada uno una llamada al mismo tiempo.\n",
        "\n",
        "### **Objetivo:**\n",
        "Se calculará el promedio de la estimación para el tiempo de respuesta y, transitivamente, este será tomado como el tiempo de respuesta promedio de la central de emergencias para atender una llamada.\n",
        "\n",
        "Por lo tanto, implementamos el siguiente código:"
      ],
      "metadata": {
        "id": "7MaI2Pp0MX1P"
      }
    },
    {
      "cell_type": "code",
      "source": [
        "import random\n",
        "import numpy as np\n",
        "from scipy.stats import norm\n",
        "import matplotlib.pyplot as plt"
      ],
      "metadata": {
        "id": "-9JA9Ha6luMK"
      },
      "execution_count": 46,
      "outputs": []
    },
    {
      "cell_type": "code",
      "source": [
        "def observacion():\n",
        "  d1 = random.gauss(2, 0.4)\n",
        "  d2 = random.gauss(2.1, 0.3)\n",
        "  d3 = random.gauss(1.9, 0.5)\n",
        "  return d1,d2,d3"
      ],
      "metadata": {
        "id": "Sr8t9Jb4mEYr"
      },
      "execution_count": 47,
      "outputs": []
    },
    {
      "cell_type": "code",
      "source": [
        "observacion()"
      ],
      "metadata": {
        "colab": {
          "base_uri": "https://localhost:8080/"
        },
        "id": "JMpgb7mBB6pU",
        "outputId": "e61e6977-2f94-4863-9e18-9c0ef728c344"
      },
      "execution_count": 48,
      "outputs": [
        {
          "output_type": "execute_result",
          "data": {
            "text/plain": [
              "(2.449660144091265, 2.340717796518243, 1.0073159053829697)"
            ]
          },
          "metadata": {},
          "execution_count": 48
        }
      ]
    },
    {
      "cell_type": "markdown",
      "source": [
        "## **5. Diseñe el experimento.**"
      ],
      "metadata": {
        "id": "6Eq_s5WjsdkL"
      }
    },
    {
      "cell_type": "code",
      "source": [
        "def experimento(T):\n",
        "  sum_prom, counter = 0,1\n",
        "  evol_prom = []\n",
        "  while sum_prom <= T:\n",
        "    sum_prom += sum(observacion())/3\n",
        "    evol_prom.append(sum_prom/counter) \n",
        "    counter += 1\n",
        "  return evol_prom"
      ],
      "metadata": {
        "id": "-lGvaYfnTpDl"
      },
      "execution_count": 49,
      "outputs": []
    },
    {
      "cell_type": "code",
      "source": [
        "evol_prom = experimento(300000)"
      ],
      "metadata": {
        "id": "a6EsT9eHDWJP"
      },
      "execution_count": 50,
      "outputs": []
    },
    {
      "cell_type": "code",
      "source": [
        "plt.plot(evol_prom, 'r')   \n",
        "plt.xlabel('Minutos transcurridos')    \n",
        "plt.ylabel('Tiempo promedio de respuesta')\n",
        "plt.grid(True)\n",
        "plt.title('Evolución del tiempo promedio de respuesta conforme pasa el tiempo')\n",
        "plt.show()"
      ],
      "metadata": {
        "colab": {
          "base_uri": "https://localhost:8080/",
          "height": 472
        },
        "id": "H-tHyLDXqzNX",
        "outputId": "8fa3b9da-e388-4a38-e741-25d1ddd520b0"
      },
      "execution_count": 51,
      "outputs": [
        {
          "output_type": "display_data",
          "data": {
            "text/plain": [
              "<Figure size 640x480 with 1 Axes>"
            ],
            "image/png": "[encoded data removed]"
          },
          "metadata": {}
        }
      ]
    },
    {
      "cell_type": "code",
      "source": [
        "T = 60000"
      ],
      "metadata": {
        "id": "75ALTPQhZFew"
      },
      "execution_count": 52,
      "outputs": []
    },
    {
      "cell_type": "code",
      "source": [
        "print('mu =', np.mean(evol_prom), ', sigma =', np.std(evol_prom))"
      ],
      "metadata": {
        "colab": {
          "base_uri": "https://localhost:8080/"
        },
        "id": "CXrgF9ZVF-4f",
        "outputId": "35c26c34-1311-4e9c-ffb0-1db69f69198c"
      },
      "execution_count": 53,
      "outputs": [
        {
          "output_type": "stream",
          "name": "stdout",
          "text": [
            "mu = 2.000216064962924 , sigma = 0.002226052496992187\n"
          ]
        }
      ]
    },
    {
      "cell_type": "markdown",
      "source": [
        "## **6. Repita el experimento $N$ veces.**\n",
        "\n",
        "Primero, necesitamos determinar el número $N$ de veces necesarias que se debe simular el experimento para que la probabilidad estimada de que ocurra la observación deseada difiera de su valor verdadero en menos de $\\epsilon$ con un nivel de confianza del $(1 − \\alpha)\\%$.\n",
        "\n",
        "Este número $N$ está dado por\n",
        "\n",
        "  \\begin{align*}\n",
        "  N > \\left( \\frac{2 \\sigma Z_{\\alpha/2}}{\\epsilon} \\right)^2\n",
        "  \\end{align*}\n",
        "\n",
        "Implementamos el siguiente código:"
      ],
      "metadata": {
        "id": "Zg7GTd8gG-PQ"
      }
    },
    {
      "cell_type": "code",
      "source": [
        "epsilon = 0.01    # Establecer la cota superior epsilon para el error del promedio estimado.\n",
        "alpha = 0.05      # Indicar el grado de significancia que tendrá el valor establecido para epsilon."
      ],
      "metadata": {
        "id": "otd0n7UzLhH0"
      },
      "execution_count": 54,
      "outputs": []
    },
    {
      "cell_type": "code",
      "source": [
        "N = int(np.ceil((2*np.std(evol_prom)*norm.ppf(1-alpha/2)/epsilon)**2))\n",
        "print(N)"
      ],
      "metadata": {
        "colab": {
          "base_uri": "https://localhost:8080/"
        },
        "id": "mWy2tO5QWQtP",
        "outputId": "f5edbef4-8ff1-4d5a-e8dd-0b3860a73bce"
      },
      "execution_count": 55,
      "outputs": [
        {
          "output_type": "stream",
          "name": "stdout",
          "text": [
            "1\n"
          ]
        }
      ]
    },
    {
      "cell_type": "code",
      "source": [
        "def simulacion(N, T):\n",
        "  prom = []\n",
        "  for i in range(N):\n",
        "    evol_prom = experimento(T)\n",
        "    prom.append(np.mean(evol_prom))\n",
        "  return prom"
      ],
      "metadata": {
        "id": "T4XBtClLHfZC"
      },
      "execution_count": 56,
      "outputs": []
    },
    {
      "cell_type": "code",
      "source": [
        "prom = simulacion(N, T)"
      ],
      "metadata": {
        "id": "UHeTo4KtgiXh"
      },
      "execution_count": 57,
      "outputs": []
    },
    {
      "cell_type": "code",
      "source": [
        "plt.hist(evol_prom, color = 'g', alpha = 0.85)\n",
        "plt.title('Distribución del tiempo de respuesta promedio')\n",
        "plt.show()"
      ],
      "metadata": {
        "colab": {
          "base_uri": "https://localhost:8080/",
          "height": 453
        },
        "id": "-BWyI8S7g1I2",
        "outputId": "fea69816-3293-4b70-933f-2a39fd8422f0"
      },
      "execution_count": 58,
      "outputs": [
        {
          "output_type": "display_data",
          "data": {
            "text/plain": [
              "<Figure size 640x480 with 1 Axes>"
            ],
            "image/png": "[encoded data removed]"
          },
          "metadata": {}
        }
      ]
    },
    {
      "cell_type": "code",
      "source": [
        "print('mu =', np.mean(prom), ', sigma =', np.std(prom))"
      ],
      "metadata": {
        "colab": {
          "base_uri": "https://localhost:8080/"
        },
        "id": "Sexk4jTzh_E4",
        "outputId": "67b3d472-dd79-48c0-f986-b96d31774ec1"
      },
      "execution_count": 59,
      "outputs": [
        {
          "output_type": "stream",
          "name": "stdout",
          "text": [
            "mu = 1.999060822752074 , sigma = 0.0\n"
          ]
        }
      ]
    },
    {
      "cell_type": "markdown",
      "source": [
        "## **7. Hallamos el intervalo de confianza.**\n",
        "\n",
        "Utilizamos la fórmula\n",
        "  \\begin{align*}\n",
        "  \\bar{x} - Z_{\\frac{\\alpha}{2}}\\frac{s}{\\sqrt{n}} < \\mu < \\bar{x} + Z_{\\frac{\\alpha}{2}}\\frac{s}{\\sqrt{n}}\n",
        "  \\end{align*}\n",
        "\n",
        "Implementamos el siguiente código:"
      ],
      "metadata": {
        "id": "Gm9gpcrGiIDM"
      }
    },
    {
      "cell_type": "code",
      "source": [
        "mu = np.mean(prom)\n",
        "li = mu - norm.ppf(1-alpha/2) * np.std(prom)/np.sqrt(T)\n",
        "ls = mu + norm.ppf(1-alpha/2) * np.std(prom)/np.sqrt(T)\n",
        "print(li, '<', mu, '<', ls)"
      ],
      "metadata": {
        "colab": {
          "base_uri": "https://localhost:8080/"
        },
        "id": "lAbFdrdljIDX",
        "outputId": "53087046-b4ff-43b0-c775-7737d557ebc9"
      },
      "execution_count": 60,
      "outputs": [
        {
          "output_type": "stream",
          "name": "stdout",
          "text": [
            "1.999060822752074 < 1.999060822752074 < 1.999060822752074\n"
          ]
        }
      ]
    },
    {
      "cell_type": "markdown",
      "source": [
        "## **8. Comparamos con la solución analítica.**\n",
        "\n",
        "Gracias al teorema de la adición se sigue que\n",
        "\n",
        "$$d_1 + d_2 + d_3 \\sim \\mathrm{N}(2 + 2.1 + 1.9, \\sqrt{0.4^2 + 0.3^2 + 0.5^2}) = \\mathrm{N}\\left(6, \\frac{\\sqrt{2}}{2}\\right)$$\n",
        "\n",
        "Y gracias a las propiedades de la distribución normal obtenemos que\n",
        "\n",
        "$$\\frac{d_1 + d_2 + d_3}{3} \\sim \\mathrm{N}\\left(\\frac{1}{3}\\cdot 6\\,,\\; \\frac{1}{3}\\cdot\\frac{\\sqrt{2}}{2}\\right) = \\mathrm{N}\\left(2\\,, \\frac{\\sqrt{2}}{6}\\right)$$\n",
        "\n",
        "En otras palabras, el tiempo promedio que tarda en terminar de atender una llamada un solo operador de la línea de emergencia es de dos minutos.\n",
        "\n",
        "Por lo tanto, el tiempo promedio de respuesta de la central de emergencias es de $\\,2\\,$ minutos.\n"
      ],
      "metadata": {
        "id": "waDgbDvYlkYJ"
      }
    },
    {
      "cell_type": "code",
      "source": [
        "mu_ana = 2\n",
        "print(mu_ana)"
      ],
      "metadata": {
        "colab": {
          "base_uri": "https://localhost:8080/"
        },
        "id": "DAVrBEbel5sD",
        "outputId": "6890f07e-3734-4044-ca94-e245c3dea61d"
      },
      "execution_count": 61,
      "outputs": [
        {
          "output_type": "stream",
          "name": "stdout",
          "text": [
            "2\n"
          ]
        }
      ]
    },
    {
      "cell_type": "markdown",
      "source": [
        "# **Solución**"
      ],
      "metadata": {
        "id": "DWUmqLmk7yEJ"
      }
    },
    {
      "cell_type": "code",
      "source": [
        "print('El tiempo de respuesta promedio de la central de emergencias, estimado mediante simulación, es')\n",
        "print('de ' + str(mu) + ' minutos.\\n')\n",
        "print('El cual difiere en un ' + str(abs(mu - mu_ana)*100 / mu_ana) + '% de la solución analítica.')"
      ],
      "metadata": {
        "colab": {
          "base_uri": "https://localhost:8080/"
        },
        "id": "MRF_an7-8ngY",
        "outputId": "6fb627a3-c83a-47b0-9c40-e6d8a0048a64"
      },
      "execution_count": 62,
      "outputs": [
        {
          "output_type": "stream",
          "name": "stdout",
          "text": [
            "El tiempo de respuesta promedio de la central de emergencias, estimado mediante simulación, es\n",
            "de 1.999060822752074 minutos.\n",
            "\n",
            "El cual difiere en un 0.046958862396295764% de la solución analítica.\n"
          ]
        }
      ]
    },
    {
      "cell_type": "code",
      "source": [],
      "metadata": {
        "id": "0NcfxCfMSiqR"
      },
      "execution_count": null,
      "outputs": []
    }
  ]
}