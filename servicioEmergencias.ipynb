{
  "nbformat": 4,
  "nbformat_minor": 0,
  "metadata": {
    "colab": {
      "provenance": [],
      "authorship_tag": "ABX9TyP6odFupgtnNOIzCada45ih",
      "include_colab_link": true
    },
    "kernelspec": {
      "name": "python3",
      "display_name": "Python 3"
    },
    "language_info": {
      "name": "python"
    }
  },
  "cells": [
    {
      "cell_type": "markdown",
      "metadata": {
        "id": "view-in-github",
        "colab_type": "text"
      },
      "source": [
        "<a href=\"https://colab.research.google.com/github/adrianriverar/Simulacion-II/blob/main/servicioEmergencias.ipynb\" target=\"_parent\"><img src=\"https://colab.research.google.com/assets/colab-badge.svg\" alt=\"Open In Colab\"/></a>"
      ]
    },
    {
      "cell_type": "markdown",
      "source": [
        "# **Problema central de emergencias**\n",
        "La central de un servicio de emergencias dispone de tres teléfonos para atender llamadas. La duración de las llamadas sigue una distribución normal con los parámetros que recoge la tabla en minutos.\n",
        "$$$$\n",
        "\n",
        "|Operador teléfono|Media|Desviación|\n",
        "|-|-|-|\n",
        "|1|2.0|0.4|\n",
        "|2|2.1|0.3|\n",
        "|3|1.9|0.5|\n",
        "\n",
        "$$$$\n",
        "Determine el tiempo medio de respuesta de la central de emergencias.\n",
        "\n",
        "# **Resolución**\n",
        "## **1. Identifique las variables.**\n",
        "\n",
        "Tenemos tres: \n",
        "\n",
        "*   $d_i:=$ Duración en minutos de una llamada al operador $\\,i$, con $\\,i = 1,2,3$.\n",
        "\n",
        "## **2. Determine la distribución de probabilidad.**\n",
        "\n",
        "Debido a los datos proporcionados durante el planteamiento del problema, se sigue que las tres variables poseen una distribución normal con diferentes parámetros.\n",
        "\n",
        "## **3. Modele las variables aleatorias.**\n",
        "\n",
        "Habiendo deducido la distribución de cada variable aleatoria, se sigue que\n",
        "\n",
        "  \\begin{align*}\n",
        "  d_1 &\\sim \\mathrm{N}(2.0, 0.4) \\\\\n",
        "  d_2 &\\sim \\mathrm{N}(2.1, 0.3) \\\\\n",
        "  d_3 &\\sim \\mathrm{N}(1.9, 0.5)\n",
        "  \\end{align*}\n",
        "\n",
        "## **4. Defina el modelo del sistema y los objetivos de la simulación.**\n",
        "\n",
        "### **Objetivo:**\n",
        "\n",
        "Por lo tanto, implementamos el siguiente código:"
      ],
      "metadata": {
        "id": "7MaI2Pp0MX1P"
      }
    },
    {
      "cell_type": "code",
      "source": [
        "import random\n",
        "import numpy as np\n",
        "from scipy.stats import norm\n",
        "import matplotlib.pyplot as plt"
      ],
      "metadata": {
        "id": "-9JA9Ha6luMK"
      },
      "execution_count": 9,
      "outputs": []
    },
    {
      "cell_type": "code",
      "source": [
        "def observacion():\n",
        "  d1 = random.gauss(2, 0.4)\n",
        "  d2 = random.gauss(2.1, 0.3)\n",
        "  d3 = random.gauss(1.9, 0.5)\n",
        "  return d1,d2,d3"
      ],
      "metadata": {
        "id": "Sr8t9Jb4mEYr"
      },
      "execution_count": 10,
      "outputs": []
    },
    {
      "cell_type": "code",
      "source": [
        "observacion()"
      ],
      "metadata": {
        "colab": {
          "base_uri": "https://localhost:8080/"
        },
        "id": "JMpgb7mBB6pU",
        "outputId": "05dd1794-bd37-4b4d-893d-a0bbf5d2bd42"
      },
      "execution_count": 18,
      "outputs": [
        {
          "output_type": "execute_result",
          "data": {
            "text/plain": [
              "(1.8793149376007263, 2.11370899813272, 2.33129982485063)"
            ]
          },
          "metadata": {},
          "execution_count": 18
        }
      ]
    },
    {
      "cell_type": "markdown",
      "source": [
        "## **5. Diseñe el experimento.**"
      ],
      "metadata": {
        "id": "6Eq_s5WjsdkL"
      }
    },
    {
      "cell_type": "code",
      "source": [
        "def experimento(T):\n",
        "  sum_prom, counter = 0,1\n",
        "  evol_prom = []\n",
        "  while sum_prom <= T:\n",
        "    sum_prom += sum(observacion())/3\n",
        "    evol_prom.append(sum_prom/counter) \n",
        "    counter += 1\n",
        "  return evol_prom"
      ],
      "metadata": {
        "id": "-lGvaYfnTpDl"
      },
      "execution_count": 19,
      "outputs": []
    },
    {
      "cell_type": "code",
      "source": [
        "evol_prom = experimento(300000)"
      ],
      "metadata": {
        "id": "a6EsT9eHDWJP"
      },
      "execution_count": 25,
      "outputs": []
    },
    {
      "cell_type": "code",
      "source": [
        "plt.plot(evol_prom, 'r')   \n",
        "plt.xlabel('Minutos transcurridos')    \n",
        "plt.ylabel('Tiempo promedio de respuesta')\n",
        "plt.grid(True)\n",
        "plt.title('Evolución del tiempo promedio de respuesta conforme pasa el tiempo')\n",
        "plt.show()"
      ],
      "metadata": {
        "colab": {
          "base_uri": "https://localhost:8080/",
          "height": 472
        },
        "id": "H-tHyLDXqzNX",
        "outputId": "abb0493f-86cb-456d-deb5-3e69a497ab12"
      },
      "execution_count": 27,
      "outputs": [
        {
          "output_type": "display_data",
          "data": {
            "text/plain": [
              "<Figure size 640x480 with 1 Axes>"
            ],
            "image/png": "[encoded data removed]"
          },
          "metadata": {}
        }
      ]
    },
    {
      "cell_type": "code",
      "source": [
        "T = 60000"
      ],
      "metadata": {
        "id": "75ALTPQhZFew"
      },
      "execution_count": 28,
      "outputs": []
    },
    {
      "cell_type": "code",
      "source": [
        "print('mu =', np.mean(evol_prom), ', sigma =', np.std(evol_prom))"
      ],
      "metadata": {
        "colab": {
          "base_uri": "https://localhost:8080/"
        },
        "id": "CXrgF9ZVF-4f",
        "outputId": "25fd1487-6cfd-44df-d0c7-144867388bf5"
      },
      "execution_count": 29,
      "outputs": [
        {
          "output_type": "stream",
          "name": "stdout",
          "text": [
            "mu = 1.9999785807076598 , sigma = 0.0022289668007909793\n"
          ]
        }
      ]
    },
    {
      "cell_type": "markdown",
      "source": [
        "## **6. Repita el experimento $N$ veces.**\n",
        "\n",
        "Primero, necesitamos determinar el número $N$ de veces necesarias que se debe simular el experimento para que la probabilidad estimada de que ocurra la observación deseada difiera de su valor verdadero en menos de $\\epsilon$ con un nivel de confianza del $(1 − \\alpha)\\%$.\n",
        "\n",
        "Este número $N$ está dado por\n",
        "\n",
        "  \\begin{align*}\n",
        "  N > \\left( \\frac{2 \\sigma Z_{\\alpha/2}}{\\epsilon} \\right)^2\n",
        "  \\end{align*}\n",
        "\n",
        "Implementamos el siguiente código:"
      ],
      "metadata": {
        "id": "Zg7GTd8gG-PQ"
      }
    },
    {
      "cell_type": "code",
      "source": [
        "epsilon = 0.01    # Establecer la cota superior epsilon para el error del promedio estimado.\n",
        "alpha = 0.05      # Indicar el grado de significancia que tendrá el valor establecido para epsilon."
      ],
      "metadata": {
        "id": "otd0n7UzLhH0"
      },
      "execution_count": 30,
      "outputs": []
    },
    {
      "cell_type": "code",
      "source": [
        "N = int(np.ceil((2*np.std(evol_prom)*norm.ppf(1-alpha/2)/epsilon)**2))\n",
        "print(N)"
      ],
      "metadata": {
        "colab": {
          "base_uri": "https://localhost:8080/"
        },
        "id": "mWy2tO5QWQtP",
        "outputId": "bf18142f-ee10-42a2-d6c3-35e34b742c2b"
      },
      "execution_count": 32,
      "outputs": [
        {
          "output_type": "stream",
          "name": "stdout",
          "text": [
            "1\n"
          ]
        }
      ]
    },
    {
      "cell_type": "code",
      "source": [
        "def simulacion(N, T):\n",
        "  prom = []\n",
        "  for i in range(N):\n",
        "    evol_prom = experimento(T)\n",
        "    prom.append(np.mean(evol_prom))\n",
        "  return prom"
      ],
      "metadata": {
        "id": "T4XBtClLHfZC"
      },
      "execution_count": 36,
      "outputs": []
    },
    {
      "cell_type": "code",
      "source": [
        "prom = simulacion(N, T)"
      ],
      "metadata": {
        "id": "UHeTo4KtgiXh"
      },
      "execution_count": 37,
      "outputs": []
    },
    {
      "cell_type": "code",
      "source": [
        "plt.hist(evol_prom, color = 'g', alpha = 0.85)\n",
        "plt.title('Distribución del tiempo de respuesta promedio')\n",
        "plt.show()"
      ],
      "metadata": {
        "colab": {
          "base_uri": "https://localhost:8080/",
          "height": 453
        },
        "id": "-BWyI8S7g1I2",
        "outputId": "b23f5c86-564f-4ad2-fc37-a183cd52c1bb"
      },
      "execution_count": 39,
      "outputs": [
        {
          "output_type": "display_data",
          "data": {
            "text/plain": [
              "<Figure size 640x480 with 1 Axes>"
            ],
            "image/png": "[encoded data removed]"
          },
          "metadata": {}
        }
      ]
    },
    {
      "cell_type": "code",
      "source": [
        "print('mu =', np.mean(prom), ', sigma =', np.std(prom))"
      ],
      "metadata": {
        "colab": {
          "base_uri": "https://localhost:8080/"
        },
        "id": "Sexk4jTzh_E4",
        "outputId": "38fb4b70-2e13-4292-9d31-1b1f71682e37"
      },
      "execution_count": 40,
      "outputs": [
        {
          "output_type": "stream",
          "name": "stdout",
          "text": [
            "mu = 2.002108707294582 , sigma = 0.0\n"
          ]
        }
      ]
    },
    {
      "cell_type": "markdown",
      "source": [
        "## **7. Hallamos el intervalo de confianza.**\n",
        "\n",
        "Utilizamos la fórmula\n",
        "  \\begin{align*}\n",
        "  \\bar{x} - Z_{\\frac{\\alpha}{2}}\\frac{s}{\\sqrt{n}} < \\mu < \\bar{x} + Z_{\\frac{\\alpha}{2}}\\frac{s}{\\sqrt{n}}\n",
        "  \\end{align*}\n",
        "\n",
        "Implementamos el siguiente código:"
      ],
      "metadata": {
        "id": "Gm9gpcrGiIDM"
      }
    },
    {
      "cell_type": "code",
      "source": [
        "mu = np.mean(prom)\n",
        "li = mu - norm.ppf(1-alpha/2) * np.std(prom)/np.sqrt(T)\n",
        "ls = mu + norm.ppf(1-alpha/2) * np.std(prom)/np.sqrt(T)\n",
        "print(li, '<', mu, '<', ls)"
      ],
      "metadata": {
        "colab": {
          "base_uri": "https://localhost:8080/"
        },
        "id": "lAbFdrdljIDX",
        "outputId": "2158c29f-503a-41a3-f7db-f4ceea569140"
      },
      "execution_count": 41,
      "outputs": [
        {
          "output_type": "stream",
          "name": "stdout",
          "text": [
            "2.002108707294582 < 2.002108707294582 < 2.002108707294582\n"
          ]
        }
      ]
    },
    {
      "cell_type": "markdown",
      "source": [
        "## **8. Comparamos con la solución analítica.**\n",
        "\n",
        "Gracias al teorema de la adición se sigue que\n",
        "\n",
        "$$d_1 + d_2 + d_3 \\sim \\mathrm{N}(2 + 2.1 + 1.9, \\sqrt{0.4^2 + 0.3^2 + 0.5^2}) = \\mathrm{N}\\left(6, \\frac{\\sqrt{2}}{2}\\right)$$\n",
        "\n",
        "Y gracias a las propiedades de la distribución normal obtenemos que\n",
        "\n",
        "$$\\frac{d_1 + d_2 + d_3}{3} \\sim \\mathrm{N}\\left(\\frac{1}{3}\\cdot 6\\,,\\; \\frac{1}{3}\\cdot\\frac{\\sqrt{2}}{2}\\right) = \\mathrm{N}\\left(2\\,, \\frac{\\sqrt{2}}{6}\\right)$$\n",
        "\n",
        "En otras palabras, el tiempo promedio que tarda en terminar de atender una llamada un solo operador de la línea de emergencia es de dos minutos.\n",
        "\n",
        "Por lo tanto, el tiempo promedio de respuesta de la central de emergencias es de $\\,2\\,$ minutos.\n"
      ],
      "metadata": {
        "id": "waDgbDvYlkYJ"
      }
    },
    {
      "cell_type": "code",
      "source": [
        "mu_ana = 2\n",
        "print(mu_ana)"
      ],
      "metadata": {
        "colab": {
          "base_uri": "https://localhost:8080/"
        },
        "id": "DAVrBEbel5sD",
        "outputId": "9c4a3ad8-5fd5-4f1c-9454-a54b3a412c1c"
      },
      "execution_count": 42,
      "outputs": [
        {
          "output_type": "stream",
          "name": "stdout",
          "text": [
            "2\n"
          ]
        }
      ]
    },
    {
      "cell_type": "markdown",
      "source": [
        "# **Solución**"
      ],
      "metadata": {
        "id": "DWUmqLmk7yEJ"
      }
    },
    {
      "cell_type": "code",
      "source": [
        "print('El tiempo de respuesta promedio de la central de emergencias, estimado mediante simulación, es')\n",
        "print('de ' + str(mu) + ' minutos.\\n')\n",
        "print('El cual difiere en un ' + str(abs(mu - mu_ana)*100 / mu_ana) + '% de la solución analítica.')"
      ],
      "metadata": {
        "colab": {
          "base_uri": "https://localhost:8080/"
        },
        "id": "MRF_an7-8ngY",
        "outputId": "f2f0138a-da09-49ef-e747-352fccb0a788"
      },
      "execution_count": 44,
      "outputs": [
        {
          "output_type": "stream",
          "name": "stdout",
          "text": [
            "El tiempo de respuesta promedio de la central de emergencias, estimado mediante simulación, es\n",
            "de 2.002108707294582 minutos.\n",
            "\n",
            "El cual difiere en un 0.10543536472908954% de la solución analítica.\n"
          ]
        }
      ]
    }
  ]
}