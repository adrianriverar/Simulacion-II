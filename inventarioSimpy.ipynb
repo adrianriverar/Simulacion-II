{
  "nbformat": 4,
  "nbformat_minor": 0,
  "metadata": {
    "colab": {
      "provenance": [],
      "authorship_tag": "ABX9TyM8oXCxAMv6c6IZD8uN1C/f",
      "include_colab_link": true
    },
    "kernelspec": {
      "name": "python3",
      "display_name": "Python 3"
    },
    "language_info": {
      "name": "python"
    }
  },
  "cells": [
    {
      "cell_type": "markdown",
      "metadata": {
        "id": "view-in-github",
        "colab_type": "text"
      },
      "source": [
        "<a href=\"https://colab.research.google.com/github/adrianriverar/Simulacion-II/blob/main/inventarioSimpy.ipynb\" target=\"_parent\"><img src=\"https://colab.research.google.com/assets/colab-badge.svg\" alt=\"Open In Colab\"/></a>"
      ]
    },
    {
      "cell_type": "code",
      "execution_count": 27,
      "metadata": {
        "id": "cExo1IB6kw_R",
        "colab": {
          "base_uri": "https://localhost:8080/"
        },
        "outputId": "97f9f9ac-2668-453c-e8fb-f745d3a96781"
      },
      "outputs": [
        {
          "output_type": "stream",
          "name": "stdout",
          "text": [
            "Looking in indexes: https://pypi.org/simple, https://us-python.pkg.dev/colab-wheels/public/simple/\n",
            "Requirement already satisfied: simpy in /usr/local/lib/python3.10/dist-packages (4.0.1)\n"
          ]
        }
      ],
      "source": [
        "! pip install simpy    # Instalamos la librería Simpy en nuestro entorno de Colab actual."
      ]
    },
    {
      "cell_type": "code",
      "source": [
        "import simpy                       # Instalamos las librerías que utilizaremos durante el ejercicio.\n",
        "import numpy as np\n",
        "import matplotlib.pyplot as plt"
      ],
      "metadata": {
        "id": "aNSlbPzWjsl5"
      },
      "execution_count": 28,
      "outputs": []
    },
    {
      "cell_type": "code",
      "source": [
        "def generar_inter_llegadas():           # Función que genera el tiempo (días) transcurrido entre la llegada de un cliente y el sig.\n",
        "  return np.random.exponential(1./5)    # Tiempo transcurrido."
      ],
      "metadata": {
        "id": "Yjc5w2Pc_iyn"
      },
      "execution_count": 29,
      "outputs": []
    },
    {
      "cell_type": "code",
      "source": [
        "def generar_demanda():              # Función que genera la demanda de un cliente que llegó a la tienda.\n",
        "  return np.random.randint(1, 5)    # Demanda de un cliente."
      ],
      "metadata": {
        "id": "wKw3krZp_i4l"
      },
      "execution_count": 30,
      "outputs": []
    },
    {
      "cell_type": "code",
      "source": [
        "def bodega_run(env, inv_ordenar, inv_max):    # Función (proceso) principal donde se inicializa y ejecuta el sistema estudiado.\n",
        "  global inventario, balance, num_ordenado    # Declaramos variables globales que se utilizarán en cada una de las funciones.\n",
        "\n",
        "  inventario = inv_max    # El inventario inicial es el inventario máximo que la tienda se propone a tener en existencia.\n",
        "  balance = 0.0           # El balance (ganancia) inicial que tiene la tienda es cero, ya que el estudio apenas se iniciará.\n",
        "  num_ordenado = 0        # Al tener en existencia el inventario \"completo\", obviamente aún no se ordena nuevamente ningún producto.\n",
        "\n",
        "  while True:    # Se crea un ciclo infinito para recrear el sistema estudiado.\n",
        "\n",
        "    inter_llegada = generar_inter_llegadas()    # Generamos el tiempo (días) transcurrido entre la llegada de los clientes.\n",
        "    yield env.timeout(inter_llegada)            # El proceso actual se pausa durante el tiempo que tarda en llegar el siguiente\n",
        "                                                #cliente.\n",
        "    balance -= inventario*2*inter_llegada       # Se generan costos por día transcurrido y cantidad de productos en existencia.\n",
        "\n",
        "    demanda = generar_demanda()    # Generamos la demanda de cada cliente que llega.\n",
        "    if demanda < inventario:       # Si la demanda de un cliente es mayor que el inventario en existencia,\n",
        "      balance += 100*demanda       #se generan ganancias por la cantidad demandada de productos\n",
        "      inventario -= demanda        #y se le resta al inventario en existencia la cantidad vendida.\n",
        "\n",
        "      print('{:.2f} se vendió {}'.format(env.now, inventario))    # Imprimimos en qué momento existe cierta cantidad de inventario.\n",
        "\n",
        "    else:                          # Si la demanda de un cliente es menor que el inventario en existencia,\n",
        "      balance += 100*inventario    #se generan ganancias por la cantidad de inventario restante en existencia\n",
        "      inventario = 0               #y ya no existen existencias en el inventario.\n",
        "\n",
        "      print('{:.2f} se vendió {} (sin existencias)'.format(env.now, inventario))   # Se imprime en qué momento ya no hay existencias.\n",
        "\n",
        "    if inventario < inv_ordenar and num_ordenado == 0:    # Si el inventario en existencia es menor que el inventario mínimo que la\n",
        "                                                          #tienda propone siempre tener en existencia y no hay ninguna orden de\n",
        "                                                          #productos pendiente por llegar,\n",
        "      env.process(manejar_orden(env, inv_max))            #agregamos el proceso de ordenar un nuevo lote de productos al ambiente de\n",
        "                                                          #simulación.\n",
        "\n",
        "\n",
        "\n",
        "\n",
        "def manejar_orden(env, inv_max):              # Función (proceso) donde se ordena un nuevo lote de productos.\n",
        "  global inventario, balance, num_ordenado    # Se acceden a las variables globales declaradas anteriormente.\n",
        "\n",
        "  num_ordenado = inv_max - inventario    # El no. de productos a ordenar son los suficientes para volver a tener el no. máximo.\n",
        "  balance -= 50*num_ordenado             # Se generan costos por el no. de productos ordenados.\n",
        "\n",
        "  print('{:.2f} orden solicitada por {}'.format(env.now, num_ordenado))    # En qué momento se solicitaron tantos productos.\n",
        "\n",
        "  yield env.timeout(2.0)        # El proceso de ordenar más productos dura dos días, así que este se \"pausa\".\n",
        "  inventario += num_ordenado    # Al llegar los nuevos productos, estos se agregan al conteo del inventario en existencia actual.\n",
        "  num_ordenado = 0              # Ya no existen productos ordenados en espera a ser recibidos.\n",
        "\n",
        "  print('{:.2f} orden recibida, {} en inventario'.format(env.now, inventario))    # Cuánto se recibió y se tiene ahora (productos)."
      ],
      "metadata": {
        "id": "A2GGdxJHjxtr"
      },
      "execution_count": 33,
      "outputs": []
    },
    {
      "cell_type": "code",
      "source": [
        "def observacion(env):    # Función (proceso) que registra el nivel de inventario en un tiempo determinado.\n",
        "  global inventario      # Accedemos a la variable global \"inventario\" previamente declarada.\n",
        "\n",
        "  while True:    # Creamos un ciclo infinito para recrear la observación al sistema.\n",
        "\n",
        "    obs_tiempos.append(env.now)            # Lista donde almacenamos los tiempos donde se realiza una observación.\n",
        "    nivel_inventario.append(inventario)    # Lista donde almacenamos el nivel de inventario en el tiempo previamente almacenado.\n",
        "    yield env.timeout(0.1)                 # Se registra una observación cada 0.1 días."
      ],
      "metadata": {
        "id": "SGBvao18_zD2"
      },
      "execution_count": 32,
      "outputs": []
    },
    {
      "cell_type": "code",
      "source": [
        "np.random.seed(0)    # Declaramos una semilla específica para poder estudiar el sistema con ciertos números aleatorios.\n",
        "\n",
        "env = simpy.Environment()               # Creamos el entorno o ambiente de simulación para Simpy.\n",
        "env.process(bodega_run(env, 10, 30))    # Agregamos el proceso principal al ambiente de simulación con parámetros específicos.\n",
        "\n",
        "obs_tiempos = []         # Creamos lista vacía para registrar tiempos de cada observación.\n",
        "nivel_inventario = []    # Creamos lista vacía para registrar los niveles de inventario de cada observación.\n",
        "\n",
        "env.process(observacion(env))    # Agregamos el proceso de observación al ambiente de simulación.\n",
        "\n",
        "env.run(until = 5.0)    # Ejecutamos el ambiente de simulación hasta el quinto día."
      ],
      "metadata": {
        "colab": {
          "base_uri": "https://localhost:8080/"
        },
        "id": "UeEo-iF6tFJa",
        "outputId": "98b93def-118a-4060-c6e3-8a730571437b"
      },
      "execution_count": 34,
      "outputs": [
        {
          "output_type": "stream",
          "name": "stdout",
          "text": [
            "0.16 se vendió 28\n",
            "0.53 se vendió 24\n",
            "0.69 se vendió 22\n",
            "0.88 se vendió 19\n",
            "1.00 se vendió 16\n",
            "1.01 se vendió 15\n",
            "1.11 se vendió 12\n",
            "1.44 se vendió 9\n",
            "1.44 orden solicitada por 21\n",
            "1.61 se vendió 7\n",
            "1.97 se vendió 6\n",
            "1.99 se vendió 2\n",
            "2.08 se vendió 0 (sin existencias)\n",
            "2.38 se vendió 0 (sin existencias)\n",
            "2.79 se vendió 0 (sin existencias)\n",
            "3.11 se vendió 0 (sin existencias)\n",
            "3.26 se vendió 0 (sin existencias)\n",
            "3.28 se vendió 0 (sin existencias)\n",
            "3.44 orden recibida, 21 en inventario\n",
            "3.46 se vendió 19\n",
            "4.04 se vendió 15\n",
            "4.06 se vendió 11\n",
            "4.12 se vendió 7\n",
            "4.12 orden solicitada por 23\n",
            "4.39 se vendió 6\n",
            "4.56 se vendió 5\n",
            "4.63 se vendió 3\n",
            "4.82 se vendió 2\n",
            "4.92 se vendió 1\n"
          ]
        }
      ]
    },
    {
      "cell_type": "code",
      "source": [
        "plt.figure()                                               # Imprimimos las observaciones obtenidas con los números aleatorios\n",
        "plt.step(obs_tiempos, nivel_inventario, where = 'post')    #estudiados.\n",
        "plt.xlabel('Tiempo simulado (días)')\n",
        "plt.ylabel('Nivel de inventario')"
      ],
      "metadata": {
        "colab": {
          "base_uri": "https://localhost:8080/",
          "height": 467
        },
        "id": "Gnk4Vllntflk",
        "outputId": "b37206b4-f3de-418e-b863-d3ed4b01572c"
      },
      "execution_count": 35,
      "outputs": [
        {
          "output_type": "execute_result",
          "data": {
            "text/plain": [
              "Text(0, 0.5, 'Nivel de inventario')"
            ]
          },
          "metadata": {},
          "execution_count": 35
        },
        {
          "output_type": "display_data",
          "data": {
            "text/plain": [
              "<Figure size 640x480 with 1 Axes>"
            ],
            "image/png": "[encoded data removed]"
          },
          "metadata": {}
        }
      ]
    }
  ]
}