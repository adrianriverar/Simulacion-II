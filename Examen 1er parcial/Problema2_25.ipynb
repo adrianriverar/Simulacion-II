{
  "nbformat": 4,
  "nbformat_minor": 0,
  "metadata": {
    "colab": {
      "provenance": [],
      "authorship_tag": "ABX9TyMPPhvZi0UKNfPILAtHSC4u",
      "include_colab_link": true
    },
    "kernelspec": {
      "name": "python3",
      "display_name": "Python 3"
    },
    "language_info": {
      "name": "python"
    }
  },
  "cells": [
    {
      "cell_type": "markdown",
      "metadata": {
        "id": "view-in-github",
        "colab_type": "text"
      },
      "source": [
        "<a href=\"https://colab.research.google.com/github/adrianriverar/Simulacion-II/blob/main/Examen%201er%20parcial/Problema2_25.ipynb\" target=\"_parent\"><img src=\"https://colab.research.google.com/assets/colab-badge.svg\" alt=\"Open In Colab\"/></a>"
      ]
    },
    {
      "cell_type": "markdown",
      "source": [
        "# **Problema 25**\n",
        "Un quiosquero vende periódicos a $\\,1.10\\,$ euros cada uno. Cada periódico le cuesta al quiosquero $\\,0.90\\,$ euros. Las ventas de periódicos del quiosquero a partir de su experiencia se refleja en la tabla siguiente:\n",
        "\n",
        "|Periódicos|30|40|50|60|70|\n",
        "|-|-|-|-|-|-|\n",
        "|f(x)|20%|25%|25%|20%|10%|\n",
        "\n",
        "La tabla recoge por ejemplo que el $\\,20\\%\\,$ del tiempo las ventas han sido de $\\,30\\,$ periódicos. Teniendo en cuenta el coste de $\\,0.20\\,$ euros por venta perdida y el coste de $\\,0.10\\,$ euros por el reciclaje de cada periódico no vendido, determine el beneficio promedio diario si pide $\\,50\\,$ periódicos cada día.\n",
        "\n",
        "# **Resolución**\n",
        "## **1. Identifique las variables.**\n",
        "\n",
        "Tenemos dos: \n",
        "\n",
        "1.   $X:=$ Número total de personas en un día que estaban dispuestas a comprarle un periódico al quiosquero.\n",
        "\n",
        "## **2. Determine la distribución de probabilidad.**\n",
        "\n",
        "Debido a los datos proporcionados durante el planteamiento del problema, se sigue que la variable aleatoria $\\,X\\,$ posee una distribución discreta y arbitraria, proporcionada en la tabla presentada en el problema.\n",
        "\n",
        "## **3. Modele las variables aleatorias.**\n",
        "\n",
        "Habiendo deducido la distribución de la variable aleatoria, se sigue que\n",
        "\n",
        "|$X$|30|40|50|60|70|\n",
        "|-|-|-|-|-|-|\n",
        "|$P(X)$|0.20|0.25|0.25|0.20|0.10|\n",
        "\n",
        "## **4. Defina el modelo del sistema y los objetivos de la simulación.**\n",
        "\n",
        "  Sea $\\,N_{p_\\text{p}}\\,$ número de periódicos pedidos en un día por el quiosquero para su posterior venta.\n",
        "\n",
        "### **Objetivo:**\n",
        "Calcular el beneficio diario promedio en euros del quiosquero vendiendo periódicos. El beneficio diario queda modelado por la siguiente fórmula:\n",
        "\n",
        "  \\begin{align}\n",
        "  1.10\\,V_\\text{c} - 0.90\\,N_{p_\\text{p}} - 0.10\\,N_{p_{\\text{nv}}} - 0.20\\,V_\\text{nc}\n",
        "  \\end{align}\n",
        "\n",
        "donde\n",
        "\n",
        "1.   $V_\\text{c}:=$ Número de ventas concluidas (compradores que sí alcanzaron un periódico).\n",
        "2.   $N_{p_\\text{p}}:=$ Número de periódicos pedidos por el quiosquero para su posterior venta.\n",
        "3.   $N_{p_\\text{nv}}:=$ Número de periódicos que no se alcanzaron a vender.\n",
        "4.   $V_\\text{nc}:=$ Número de ventas no concluidas (compradores potenciales que no alcanzaron un periódico).\n",
        "\n",
        "Ahora, se sigue que\n",
        "\n",
        "  \\begin{align}\n",
        "  V_\\text{c} &= \\left\\{\\begin{array}{lcc}\n",
        "                X & \\text{si} & X < N_{p_\\text{p}} \\\\\n",
        "                N_{p_\\text{p}} & \\text{si} & X\\geq N_{p_\\text{p}}\n",
        "                \\end{array}\\right. \\\\\\\\\n",
        "  N_{p_{\\text{nv}}} &= \\left\\{\\begin{array}{lcc}\n",
        "                       N_{p_\\text{p}} - X & \\text{si} & X < N_{p_\\text{p}} \\\\\n",
        "                       0 & \\text{si} & X\\geq N_{p_\\text{p}}\n",
        "                       \\end{array}\\right. \\\\\\\\\n",
        "  V_{\\text{nc}} &= \\left\\{\\begin{array}{lcc}\n",
        "                   0 & \\text{si} & X\\leq N_{p_\\text{p}} \\\\\n",
        "                   X - N_{p_\\text{p}} & \\text{si} & X > N_{p_\\text{p}}\n",
        "                   \\end{array}\\right. \\\\\\\\\n",
        "  \\end{align}\n",
        "\n",
        "Por lo tanto, implementamos el siguiente código:"
      ],
      "metadata": {
        "id": "7MaI2Pp0MX1P"
      }
    },
    {
      "cell_type": "code",
      "source": [
        "import numpy as np\n",
        "import random\n",
        "import matplotlib.pyplot as plt\n",
        "from scipy.stats import norm"
      ],
      "metadata": {
        "id": "-9JA9Ha6luMK"
      },
      "execution_count": 121,
      "outputs": []
    },
    {
      "cell_type": "code",
      "source": [
        "def observacion(N_pp):                                                                # Función que devuelve el beneficio de un día,\n",
        "  X = np.random.choice([30, 40, 50, 60, 70], p = [0.20, 0.25, 0.25, 0.20, 0.10])    #dado en número determinado de periódicos pedidos \n",
        "  if X < N_pp:              \n",
        "    V_c = X\n",
        "    N_pnv = N_pp - X\n",
        "    V_nc = 0\n",
        "  elif X == N_pp:\n",
        "    V_c = N_pp\n",
        "    N_pnv = 0\n",
        "    V_nc =  0\n",
        "  else:\n",
        "    V_c = N_pp\n",
        "    N_pnv = 0\n",
        "    V_nc = X - N_pp\n",
        "  return 1.10*V_c - 0.90*N_pp - 0.10*N_pnv - 0.20*V_nc"
      ],
      "metadata": {
        "id": "Sr8t9Jb4mEYr"
      },
      "execution_count": 122,
      "outputs": []
    },
    {
      "cell_type": "code",
      "source": [
        "N_pp = 50  # Número de periódicos pedidos para su posterior venta."
      ],
      "metadata": {
        "id": "cYRPrKIgr0-r"
      },
      "execution_count": 123,
      "outputs": []
    },
    {
      "cell_type": "code",
      "source": [
        "observacion(N_pp)"
      ],
      "metadata": {
        "colab": {
          "base_uri": "https://localhost:8080/"
        },
        "id": "JMpgb7mBB6pU",
        "outputId": "263cc978-a50d-4a83-f549-b308236109ae"
      },
      "execution_count": 124,
      "outputs": [
        {
          "output_type": "execute_result",
          "data": {
            "text/plain": [
              "-2.0"
            ]
          },
          "metadata": {},
          "execution_count": 124
        }
      ]
    },
    {
      "cell_type": "markdown",
      "source": [
        "## **5. Diseñe el experimento.**\n",
        "\n",
        "Para estimar el beneficio diario promedio, ejecutamos $n$ veces la función anterior y calculamos de manera acumulativa el beneficio promedio deseado a estimar."
      ],
      "metadata": {
        "id": "6Eq_s5WjsdkL"
      }
    },
    {
      "cell_type": "code",
      "source": [
        "def experimento(n, N_pp):          # Función que devuelve lista \"evol_ben\" con los beneficios diarios estimados, los cuales se\n",
        "  evol_ben = []                    #calculan utilizando la fórmula que modela presentada anteriormente y luego dividimos esta\n",
        "  obs = 0                          #cantidad entre las veces que se ha repetido la observación del sistema (número de días estudiado). \n",
        "  for i in range(n):               #Todo esto con \"N_pp\" arbitraria y mientras aumenta el número de días a \"n\".\n",
        "    obs += observacion(N_pp)\n",
        "    evol_ben.append(obs/(i+1))\n",
        "  return evol_ben"
      ],
      "metadata": {
        "id": "YHl-3szbtTTb"
      },
      "execution_count": 125,
      "outputs": []
    },
    {
      "cell_type": "code",
      "source": [
        "evol_ben = experimento(3000, N_pp)    # Realizamos el experimento con tamaño de muestra (número de días) grande y arbitraria."
      ],
      "metadata": {
        "id": "a6EsT9eHDWJP"
      },
      "execution_count": 126,
      "outputs": []
    },
    {
      "cell_type": "code",
      "source": [
        "plt.plot(evol_ben, 'r')                            # La gráfica muestra que la convergencia está garantizada con 1500 iteraciones.\n",
        "plt.xlabel('No. de días hábiles transcurridos')    \n",
        "plt.ylabel('Ganancias diarias promedio (en euros)')\n",
        "plt.grid(True)\n",
        "plt.title('Evolución del beneficio diario promedio conforme pasan más días laborales')\n",
        "plt.show()"
      ],
      "metadata": {
        "colab": {
          "base_uri": "https://localhost:8080/",
          "height": 472
        },
        "id": "ZtUewuG_D_zz",
        "outputId": "3ae509ea-c80e-4b06-a6d3-466923d3ebc7"
      },
      "execution_count": 127,
      "outputs": [
        {
          "output_type": "display_data",
          "data": {
            "text/plain": [
              "<Figure size 640x480 with 1 Axes>"
            ],
            "image/png": "[encoded data removed]"
          },
          "metadata": {}
        }
      ]
    },
    {
      "cell_type": "code",
      "source": [
        "n = 1500    # Definiendo tamaño de muestra \"n\" para cada experimento a simular."
      ],
      "metadata": {
        "id": "75ALTPQhZFew"
      },
      "execution_count": 128,
      "outputs": []
    },
    {
      "cell_type": "code",
      "source": [
        "print('mu =', np.mean(evol_ben), ', sigma =', np.std(evol_ben))"
      ],
      "metadata": {
        "colab": {
          "base_uri": "https://localhost:8080/"
        },
        "id": "CXrgF9ZVF-4f",
        "outputId": "32e8883e-768a-4328-ad8f-f4459e3616be"
      },
      "execution_count": 129,
      "outputs": [
        {
          "output_type": "stream",
          "name": "stdout",
          "text": [
            "mu = 1.6370290123435665 , sigma = 0.3601851592842277\n"
          ]
        }
      ]
    },
    {
      "cell_type": "markdown",
      "source": [
        "## **6. Repita el experimento $N$ veces.**\n",
        "\n",
        "Primero, necesitamos determinar el número $N$ de veces necesarias que se debe simular el experimento para que la probabilidad estimada de que ocurra la observación deseada difiera de su valor verdadero en menos de $\\epsilon$ con un nivel de confianza del $(1 − \\alpha)\\%$.\n",
        "\n",
        "Este número $N$ está dado por\n",
        "\n",
        "  \\begin{align}\n",
        "  N > \\left( \\frac{2 \\sigma Z_{\\alpha/2}}{\\epsilon} \\right)^2\n",
        "  \\end{align}\n",
        "\n",
        "Implementamos el siguiente código:"
      ],
      "metadata": {
        "id": "Zg7GTd8gG-PQ"
      }
    },
    {
      "cell_type": "code",
      "source": [
        "epsilon = 0.05    # Establecer la cota superior epsilon para el error del beneficio diario promedio.\n",
        "alpha = 0.05      # Indicar el grado de significancia que tendrá el valor establecido para epsilon."
      ],
      "metadata": {
        "id": "otd0n7UzLhH0"
      },
      "execution_count": 130,
      "outputs": []
    },
    {
      "cell_type": "code",
      "source": [
        "N = int(np.ceil((2*np.std(evol_ben)*norm.ppf(1-alpha/2)/epsilon)**2))    # Cálculo del número de simulaciones del experimento\n",
        "print(N)"
      ],
      "metadata": {
        "colab": {
          "base_uri": "https://localhost:8080/"
        },
        "id": "mWy2tO5QWQtP",
        "outputId": "e238c097-f59e-4447-d8ba-4793b3c78283"
      },
      "execution_count": 131,
      "outputs": [
        {
          "output_type": "stream",
          "name": "stdout",
          "text": [
            "798\n"
          ]
        }
      ]
    },
    {
      "cell_type": "code",
      "source": [
        "def simulacion(N, N_pp):               # Función que devuelve una lista con los beneficios diarios promedio estimados de los N\n",
        "  ben = []                             #experimentos realizados para el número de periódicos pedidos N_pp indicado.\n",
        "  for i in range(N):\n",
        "    evol_ben = experimento(n, N_pp)    \n",
        "    ben.append(np.mean(evol_ben))\n",
        "  return ben"
      ],
      "metadata": {
        "id": "T4XBtClLHfZC"
      },
      "execution_count": 132,
      "outputs": []
    },
    {
      "cell_type": "code",
      "source": [
        "ben = simulacion(N, N_pp)    # Realizamos la simulación."
      ],
      "metadata": {
        "id": "UHeTo4KtgiXh"
      },
      "execution_count": 133,
      "outputs": []
    },
    {
      "cell_type": "code",
      "source": [
        "plt.hist(ben, color = 'g', alpha = 0.85)    # La gráfica nos sugiere que la distribución del beneficio diario promedio\n",
        "plt.grid(False)                             #aparentemente es normal.\n",
        "plt.title('Distribución de las ganancias diarias promedio')\n",
        "plt.show()"
      ],
      "metadata": {
        "colab": {
          "base_uri": "https://localhost:8080/",
          "height": 453
        },
        "id": "-BWyI8S7g1I2",
        "outputId": "d3b8808c-1771-424d-a2f0-cf176e227068"
      },
      "execution_count": 134,
      "outputs": [
        {
          "output_type": "display_data",
          "data": {
            "text/plain": [
              "<Figure size 640x480 with 1 Axes>"
            ],
            "image/png": "[encoded data removed]"
          },
          "metadata": {}
        }
      ]
    },
    {
      "cell_type": "code",
      "source": [
        "print('mu =', np.mean(ben), ', sigma =', np.std(ben))"
      ],
      "metadata": {
        "colab": {
          "base_uri": "https://localhost:8080/"
        },
        "id": "Sexk4jTzh_E4",
        "outputId": "03b0e10f-865d-44c3-c1fd-576ab5a7ff54"
      },
      "execution_count": 135,
      "outputs": [
        {
          "output_type": "stream",
          "name": "stdout",
          "text": [
            "mu = 1.406091620291649 , sigma = 0.31434737759953657\n"
          ]
        }
      ]
    },
    {
      "cell_type": "markdown",
      "source": [
        "## **7. Hallamos el intervalo de confianza.**\n",
        "\n",
        "Utilizamos la fórmula\n",
        "  \\begin{align}\n",
        "  \\bar{x} - Z_{\\frac{\\alpha}{2}}\\frac{s}{\\sqrt{n}} < \\mu < \\bar{x} + Z_{\\frac{\\alpha}{2}}\\frac{s}{\\sqrt{n}}\n",
        "  \\end{align}\n",
        "\n",
        "Implementamos el siguiente código:"
      ],
      "metadata": {
        "id": "Gm9gpcrGiIDM"
      }
    },
    {
      "cell_type": "code",
      "source": [
        "mu = np.mean(ben)                                         # Se presentan los intervalos de confianza para la media estimada en\n",
        "li = mu - norm.ppf(1-alpha/2) * np.std(ben)/np.sqrt(n)    #cada caso de la forma: \n",
        "ls = mu + norm.ppf(1-alpha/2) * np.std(ben)/np.sqrt(n)    #\n",
        "print(li, '<', mu, '<', ls)                               #       Caso: Límite inferior < Media estimada < Límite superior"
      ],
      "metadata": {
        "colab": {
          "base_uri": "https://localhost:8080/"
        },
        "id": "lAbFdrdljIDX",
        "outputId": "54787d76-ad4f-4924-e5e3-4ac720cb2901"
      },
      "execution_count": 136,
      "outputs": [
        {
          "output_type": "stream",
          "name": "stdout",
          "text": [
            "1.3901837404053843 < 1.406091620291649 < 1.4219995001779135\n"
          ]
        }
      ]
    },
    {
      "cell_type": "markdown",
      "source": [
        "## **8. Comparamos con la solución analítica.**\n",
        "\n",
        "La fórmula para el beneficio diario en el caso $\\,X < N_{p_\\text{p}} = 50\\,$ es\n",
        "\n",
        "  \\begin{align}\n",
        "  B_1(X) &= 1.10\\,X - 0.90\\,N_{p_\\text{p}} - 0.10\\,(N_{p_\\text{p}} - X) - 0.20\\cdot 0 \\\\\n",
        "  &= 1.2\\,X - 50\n",
        "  \\end{align}\n",
        "\n",
        "Ahora, el beneficio para el caso $\\,X = 50$.\n",
        "\n",
        "  \\begin{align}\n",
        "  B_2(X) &= 1.10\\,N_{p_\\text{p}} - 0.90\\,N_{p_\\text{p}} - 0.10\\cdot 0 - 0.20\\cdot 0 \\\\\n",
        "  &= 10\n",
        "  \\end{align}\n",
        "\n",
        "Y por último, el beneficio para el caso $\\,X > 50$.\n",
        "\n",
        "  \\begin{align}\n",
        "  B_3(X) &= 1.10\\,N_{p_\\text{p}} - 0.90\\,N_{p_\\text{p}} - 0.10\\cdot 0 - 0.20\\,(X - N_{p_\\text{p}}) \\\\\n",
        "  &= 20 - 0.2\\,X\n",
        "  \\end{align}\n",
        "\n",
        "Por lo tanto, para , la esperanza del beneficio diario queda definida como\n",
        "\n",
        "  \\begin{align}\n",
        "  E[X] &= 0.20\\cdot B_1(30) + 0.25\\cdot B_1(40) + 0.25\\cdot B_2(50) + 0.20\\cdot B_3(60) + 0.10\\cdot B_3(70) \\\\\n",
        "  &= 0.20(-14) + 0.25(-2) + 0.25(10) + 0.20(8) + 0.10(6) \\\\\n",
        "  &= 1.4\n",
        "  \\end{align}"
      ],
      "metadata": {
        "id": "waDgbDvYlkYJ"
      }
    },
    {
      "cell_type": "code",
      "source": [
        "mu_ana = 1.4     # Solución analítica.   "
      ],
      "metadata": {
        "id": "DAVrBEbel5sD"
      },
      "execution_count": 137,
      "outputs": []
    },
    {
      "cell_type": "markdown",
      "source": [
        "# **Solución**"
      ],
      "metadata": {
        "id": "DWUmqLmk7yEJ"
      }
    },
    {
      "cell_type": "code",
      "source": [
        "print('Si el quiosquero pide ' + str(N_pp) + ' periódicos por día para su posterior venta,\\n\\n')\n",
        "\n",
        "print('El beneficio diario promedio, estimado mediante simulación, por la venta de los periódicos es de ' + str(mu) + ' euros.\\n')\n",
        "print('El cual difiere en un ' + str(np.abs(mu - mu_ana)*100 / mu_ana) + '% de la solución analítica.')"
      ],
      "metadata": {
        "colab": {
          "base_uri": "https://localhost:8080/"
        },
        "id": "MRF_an7-8ngY",
        "outputId": "146a60be-9307-4dd2-f8eb-fc790699275c"
      },
      "execution_count": 138,
      "outputs": [
        {
          "output_type": "stream",
          "name": "stdout",
          "text": [
            "Si el quiosquero pide 50 periódicos por día para su posterior venta,\n",
            "\n",
            "\n",
            "El beneficio diario promedio, estimado mediante simulación, por la venta de los periódicos es de 1.406091620291649 euros.\n",
            "\n",
            "El cual difiere en un 0.4351157351177859% de la solución analítica.\n"
          ]
        }
      ]
    },
    {
      "cell_type": "markdown",
      "source": [
        "# **Optimización**\n",
        "\n",
        "Sabemos que\n",
        "\n",
        "  \\begin{align}\n",
        "  E[X]_{N_{p_\\text{p}}} = B(N_{p_\\text{p}}) &= 0.20\\cdot B_1(30, N_{p_\\text{p}}) + 0.25\\cdot B_1(40, N_{p_\\text{p}}) + 0.25\\cdot B_2(50, N_{p_\\text{p}}) + 0.20\\cdot B_3(60, N_{p_\\text{p}}) + 0.10\\cdot B_3(70, N_{p_\\text{p}}) \\\\\n",
        "  &= 0.20(36 - N_{p_\\text{p}}) + 0.25(48 - N_{p_\\text{p}}) + 0.25(0.2\\,N_{p_\\text{p}}) + 0.20(0.4\\,N_{p_\\text{p}} - 12) + 0.10(0.4\\,N_{p_\\text{p}} - 14) \\\\\n",
        "  &= 15.4 - 0.28\\,N_{p_\\text{p}}\n",
        "  \\end{align}\n",
        "\n",
        "Ahora procedemos a maximizar $\\,B(N_{p_\\text{p}})\\,$ mediante una optimización Montecarlo.\n",
        "\n",
        "Implementamos el siguiente código:"
      ],
      "metadata": {
        "id": "mrBxS3oy7dOz"
      }
    },
    {
      "cell_type": "code",
      "source": [
        "N_mc = 1000000          # Ingresamos el número de veces que se repetira la optimización Montecarlo (\"búsqueda aleatoria pura\")."
      ],
      "metadata": {
        "id": "bXqhUJWt8JcA"
      },
      "execution_count": 139,
      "outputs": []
    },
    {
      "cell_type": "code",
      "source": [
        "Bmax = float('-inf')            # Proponemos nuestro primer valor optimal: el más pequeño posible.\n",
        "xplt, yplt = [], []\n",
        "for i in range(N_mc):           # Se implementa una optimización Montecarlo para encontrar el número de periódicos que hay que pedir\n",
        "  u = random.uniform(30, 70)    #para maximizar el beneficio diario promedio.\n",
        "  Bu = 15.4 - 0.28*u\n",
        "  xplt.append(u)\n",
        "  yplt.append(Bu)\n",
        "  if Bu > Bmax:\n",
        "    Bmax = Bu\n",
        "    N_ppmax = u\n",
        "print('Número de periódicos optimal: ' + str(N_ppmax))\n",
        "print('Máximo beneficio diario promedio: ' + str(Bmax))"
      ],
      "metadata": {
        "colab": {
          "base_uri": "https://localhost:8080/"
        },
        "id": "COOnpQ-O_nf4",
        "outputId": "d3740c0c-e11d-4dc4-c5c9-debcca425b49"
      },
      "execution_count": 140,
      "outputs": [
        {
          "output_type": "stream",
          "name": "stdout",
          "text": [
            "Número de periódicos optimal: 30.000013692326867\n",
            "Máximo beneficio diario promedio: 6.9999961661484775\n"
          ]
        }
      ]
    },
    {
      "cell_type": "code",
      "source": [
        "plt.plot(np.array(xplt), np.array(yplt), 'b')    # Graficamos la función optimizada y corroboramos visualmente los valores obtenidos.\n",
        "plt.xlabel('No. de periódicos a pedir diariamente')    \n",
        "plt.ylabel('Ganancias diarias promedio (en euros)')\n",
        "plt.grid(True)\n",
        "plt.title('Relación del beneficio diario promedio con respecto al no. de periódicos que se piden diariamente') \n",
        "plt.show()"
      ],
      "metadata": {
        "colab": {
          "base_uri": "https://localhost:8080/",
          "height": 473
        },
        "id": "hB5CVtKjY-yO",
        "outputId": "2a9266ba-5317-484b-fcff-b0a56e591ad9"
      },
      "execution_count": 141,
      "outputs": [
        {
          "output_type": "display_data",
          "data": {
            "text/plain": [
              "<Figure size 640x480 with 1 Axes>"
            ],
            "image/png": "[encoded data removed]"
          },
          "metadata": {}
        }
      ]
    },
    {
      "cell_type": "code",
      "source": [
        "print('El quiosquero debe pedir ' + str(round(N_ppmax)) + ' periódicos diariamente para maximizar sus ganancias.\\n\\n')\n",
        "print('Así estaría ganando ' + str(round(15.4 - 0.28*round(N_ppmax), 2)) + ' euros diariamente.')"
      ],
      "metadata": {
        "colab": {
          "base_uri": "https://localhost:8080/"
        },
        "id": "TNFO0AoWDpxS",
        "outputId": "c344425b-eea2-4c68-b8ab-dfc0b7c28517"
      },
      "execution_count": 142,
      "outputs": [
        {
          "output_type": "stream",
          "name": "stdout",
          "text": [
            "El quiosquero debe pedir 30 periódicos diariamente para maximizar sus ganancias.\n",
            "\n",
            "\n",
            "Así estaría ganando 7.0 euros diariamente.\n"
          ]
        }
      ]
    }
  ]
}