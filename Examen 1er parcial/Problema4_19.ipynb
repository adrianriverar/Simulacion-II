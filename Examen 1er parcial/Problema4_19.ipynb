{
  "nbformat": 4,
  "nbformat_minor": 0,
  "metadata": {
    "colab": {
      "provenance": [],
      "authorship_tag": "ABX9TyMNLQsxbEbBeeyHo7Ya7xoO",
      "include_colab_link": true
    },
    "kernelspec": {
      "name": "python3",
      "display_name": "Python 3"
    },
    "language_info": {
      "name": "python"
    }
  },
  "cells": [
    {
      "cell_type": "markdown",
      "metadata": {
        "id": "view-in-github",
        "colab_type": "text"
      },
      "source": [
        "<a href=\"https://colab.research.google.com/github/adrianriverar/Simulacion-II/blob/main/Examen%201er%20parcial/Problema4_19.ipynb\" target=\"_parent\"><img src=\"https://colab.research.google.com/assets/colab-badge.svg\" alt=\"Open In Colab\"/></a>"
      ]
    },
    {
      "cell_type": "markdown",
      "source": [
        "# **Problema 19**\n",
        "Las bombillas eléctricas de un fabricante $\\mathrm{A}$ tienen una duración media de $1400$ horas con una desviación típica de $200$ horas, mientras que las de otro fabricante $\\mathrm{B}$ tienen una duración media de $1200$ horas con una desviación típica de $100$ horas.\n",
        "\n",
        "Si se toman muestras al azar de $125$ bombillas de cada fabricante, ¿cuál es la probabilidad de que las bombillas de $\\mathrm{A}$ tengan una duración media que sea al menos \n",
        "\n",
        "*a*) $160$ horas\n",
        "\n",
        "*b*) $250$ horas \n",
        "\n",
        "mayor que la duración media de las bombillas de $\\mathrm{B}$?\n",
        "\n",
        "# **Resolución**\n",
        "## **1. Identifique las variables.**\n",
        "\n",
        "Tenemos dos: \n",
        "\n",
        "1.   $A:=$ Duración en horas de una bombilla del fabricante $\\mathrm{A}$.\n",
        "2.   $B:=$ Duración en horas de una bombilla del fabricante $\\mathrm{B}$.\n",
        "\n",
        "## **2. Determine la distribución de probabilidad.**\n",
        "\n",
        "Debido a los datos proporcionados durante el planteamiento del problema y la naturaleza industrializada o hasta artesanal del mismo, se sigue que las dos variables poseen una distribución normal $\\,\\mathrm{N}(\\mu,\\sigma)$.\n",
        "\n",
        "## **3. Modele las variables aleatorias.**\n",
        "\n",
        "Habiendo deducido la distribución de cada variable aleatoria, se sigue que\n",
        "\n",
        "  \\begin{align}\n",
        "  A &\\sim \\mathrm{N}(1400, 200) \\\\\n",
        "  B &\\sim \\mathrm{N}(1200, 100)\n",
        "  \\end{align}\n",
        "\n",
        "## **4. Defina el modelo del sistema y los objetivos de la simulación.**\n",
        "\n",
        "La diferencia $\\,A - B\\,$ modela adecuadamente el sistema.\n",
        "\n",
        "Si $\\,A - B\\,$ es mayor que alguna de las dos cotas inferiores que se plantearon para cada caso a analizar, se considerará como una observación exitosa y viceversa.\n",
        "\n",
        "### **Objetivo:**\n",
        "\n",
        "Sean $d_{1,2} = \\{ 160,250 \\}$. Entonces, para analizar ambos casos *a*) y *b*), se determinará la frecuencia con la que ocurre\n",
        "\n",
        "  \\begin{align}\n",
        "  A - B \\geq d_{1,2}\n",
        "  \\end{align}\n",
        "\n",
        "para obtener una estimación de la probabilidad de que las bombillas de $\\mathrm{A}$ tengan una duración media que sea al menos $\\,d_{1,2}\\,$ horas mayor que la de las bombillas de $\\mathrm{B}$.\n",
        "\n",
        "Por lo tanto, implementamos el siguiente código:"
      ],
      "metadata": {
        "id": "7MaI2Pp0MX1P"
      }
    },
    {
      "cell_type": "code",
      "source": [
        "import numpy as np\n",
        "import random\n",
        "import matplotlib.pyplot as plt\n",
        "from scipy.stats import norm"
      ],
      "metadata": {
        "id": "-9JA9Ha6luMK"
      },
      "execution_count": 27,
      "outputs": []
    },
    {
      "cell_type": "code",
      "source": [
        "def observacion(d):              # Función que devuelve 1 si A - B >= d, con d arbitrario, o 0 si caso contrario.\n",
        "  A = random.gauss(1400, 200)     # Generamos variables aleatorias A y B según su distribución especificada anteriormente.\n",
        "  B = random.gauss(1200, 100)  \n",
        "  if A - B >= d:                  # Aquí se analiza la condición a estudiar A - B >= d_{1,2}.\n",
        "    obs = 1\n",
        "  else:\n",
        "    obs = 0\n",
        "  return obs"
      ],
      "metadata": {
        "id": "Sr8t9Jb4mEYr"
      },
      "execution_count": 28,
      "outputs": []
    },
    {
      "cell_type": "code",
      "source": [
        "a = 160    # Ingresamos a = d_1 para analizar el caso a).\n",
        "b = 250    # Ahora a = d_2 para analizar el caso b)."
      ],
      "metadata": {
        "id": "cYRPrKIgr0-r"
      },
      "execution_count": 29,
      "outputs": []
    },
    {
      "cell_type": "code",
      "source": [
        "print(observacion(a))\n",
        "print(observacion(b))"
      ],
      "metadata": {
        "colab": {
          "base_uri": "https://localhost:8080/"
        },
        "id": "JMpgb7mBB6pU",
        "outputId": "ca374862-f2de-4daf-b4a2-cb9a1f894468"
      },
      "execution_count": 30,
      "outputs": [
        {
          "output_type": "stream",
          "name": "stdout",
          "text": [
            "0\n",
            "1\n"
          ]
        }
      ]
    },
    {
      "cell_type": "markdown",
      "source": [
        "## **5. Diseñe el experimento.**\n",
        "\n",
        "Para estimar la probabilidad de que ocurra $\\,A - B\\geq d_{1,2}\\,$, ejecutamos $\\,n = 125\\,$ veces, por lo solicitado en el planteamiento del problema, la función anterior y calculamos de manera acumulativa la probabilidad deseada a estimar."
      ],
      "metadata": {
        "id": "6Eq_s5WjsdkL"
      }
    },
    {
      "cell_type": "code",
      "source": [
        "n = 125    # Definiendo tamaño de muestra \"n\" para cada experimento a simular en ambos casos."
      ],
      "metadata": {
        "id": "zu5S0dDGC0Kj"
      },
      "execution_count": 31,
      "outputs": []
    },
    {
      "cell_type": "code",
      "source": [
        "def experimento(n, d):             # Función que devuelve lista \"evol_prob\" con los valores de la probabilidad estimada, la cual se\n",
        "  evol_prob = []                   #calcula contando las veces que se cumple la condición planteada en el objetivo de la simulación y\n",
        "  obs = 0                          #dividir esta cantidad entre las veces que se ha repetido la observación del sistema. Todo esto con\n",
        "  for i in range(n):               #\"d\" arbitraria y mientras aumenta el número de observaciones hasta llegar a \"n\".\n",
        "    obs += observacion(d)\n",
        "    evol_prob.append(obs/(i+1))\n",
        "  return evol_prob"
      ],
      "metadata": {
        "id": "YHl-3szbtTTb"
      },
      "execution_count": 32,
      "outputs": []
    },
    {
      "cell_type": "code",
      "source": [
        "evol_prob_a = experimento(n, a)    # Realizamos el experimento para el caso a).\n",
        "evol_prob_b = experimento(n, b)    # Hacemos lo mismo para el caso b)."
      ],
      "metadata": {
        "id": "a6EsT9eHDWJP"
      },
      "execution_count": 33,
      "outputs": []
    },
    {
      "cell_type": "code",
      "source": [
        "plt.plot(evol_prob_a, 'r')    # La gráficas muestran que la convergencia está comenzando a apreciarse con el tamaño de muestra \"n\"\n",
        "plt.plot(evol_prob_b, 'm')    #propuesto en el planteamiento del problema.\n",
        "plt.xlabel('No. de bombillas')    \n",
        "plt.ylabel('$P(A - B\\geq d_{1,2})$')\n",
        "plt.grid(True)\n",
        "plt.title('Evolución de la probabilidad conforme se toman muestras de bombillas más grandes')\n",
        "plt.legend(['Fabricante A', 'Fabricante B'])\n",
        "plt.show()"
      ],
      "metadata": {
        "colab": {
          "base_uri": "https://localhost:8080/",
          "height": 472
        },
        "id": "ZtUewuG_D_zz",
        "outputId": "187a47f8-7775-4175-a3c6-da0182f55eab"
      },
      "execution_count": 34,
      "outputs": [
        {
          "output_type": "display_data",
          "data": {
            "text/plain": [
              "<Figure size 640x480 with 1 Axes>"
            ],
            "image/png": "[encoded data removed]"
          },
          "metadata": {}
        }
      ]
    },
    {
      "cell_type": "code",
      "source": [
        "print('a: mu =', np.mean(evol_prob_a), ', sigma =', np.std(evol_prob_a))\n",
        "print('b: mu =', np.mean(evol_prob_b), ', sigma =', np.std(evol_prob_b))"
      ],
      "metadata": {
        "colab": {
          "base_uri": "https://localhost:8080/"
        },
        "id": "CXrgF9ZVF-4f",
        "outputId": "e93cbaae-d7cf-4427-f23c-974a2c6efeb8"
      },
      "execution_count": 35,
      "outputs": [
        {
          "output_type": "stream",
          "name": "stdout",
          "text": [
            "a: mu = 0.5223442309587754 , sigma = 0.058635497234492136\n",
            "b: mu = 0.3773987175382953 , sigma = 0.0765984722055605\n"
          ]
        }
      ]
    },
    {
      "cell_type": "markdown",
      "source": [
        "## **6. Repita el experimento $N$ veces.**\n",
        "\n",
        "Primero, necesitamos determinar el número $N$ de veces necesarias que se debe simular el experimento para que la probabilidad estimada de que ocurra la observación deseada difiera de su valor verdadero en menos de $\\epsilon$ con un nivel de confianza del $(1 − \\alpha)\\%$.\n",
        "\n",
        "Este número $N$ está dado por\n",
        "\n",
        "  \\begin{align}\n",
        "  N > \\left( \\frac{2 \\sigma Z_{\\alpha/2}}{\\epsilon} \\right)^2\n",
        "  \\end{align}\n",
        "\n",
        "Implementamos el siguiente código:"
      ],
      "metadata": {
        "id": "Zg7GTd8gG-PQ"
      }
    },
    {
      "cell_type": "code",
      "source": [
        "epsilon = 0.01    # Establecer la cota superior epsilon para el error de la probabilidad estimada.\n",
        "alpha = 0.05      # Indicar el grado de significancia que tendrá el valor establecido para epsilon."
      ],
      "metadata": {
        "id": "otd0n7UzLhH0"
      },
      "execution_count": 36,
      "outputs": []
    },
    {
      "cell_type": "code",
      "source": [
        "N_a = int(np.ceil((2*np.std(evol_prob_a)*norm.ppf(1-alpha/2)/epsilon)**2))    # Cálculo del número de simulaciones del experimento\n",
        "N_b = int(np.ceil((2*np.std(evol_prob_b)*norm.ppf(1-alpha/2)/epsilon)**2))    #necesarias para ambos casos a) y b).\n",
        "print(N_a)\n",
        "print(N_b)"
      ],
      "metadata": {
        "colab": {
          "base_uri": "https://localhost:8080/"
        },
        "id": "mWy2tO5QWQtP",
        "outputId": "51021a30-9e3a-4e55-9a06-5a6b94f1e640"
      },
      "execution_count": 37,
      "outputs": [
        {
          "output_type": "stream",
          "name": "stdout",
          "text": [
            "529\n",
            "902\n"
          ]
        }
      ]
    },
    {
      "cell_type": "code",
      "source": [
        "def simulacion(N, d):                  # Función que devuelve una lista con las probabilidades estimadas promedio de los N\n",
        "  prob = []                            #experimentos realizados para el caso indicado con \"d\".\n",
        "  for i in range(N):\n",
        "    evol_prob = experimento(n, d)\n",
        "    prob.append(np.mean(evol_prob))\n",
        "  return prob"
      ],
      "metadata": {
        "id": "T4XBtClLHfZC"
      },
      "execution_count": 38,
      "outputs": []
    },
    {
      "cell_type": "code",
      "source": [
        "prob_a = simulacion(N_a, a)    # Realizamos la simulación para cada caso.\n",
        "prob_b = simulacion(N_b, b)"
      ],
      "metadata": {
        "id": "UHeTo4KtgiXh"
      },
      "execution_count": 39,
      "outputs": []
    },
    {
      "cell_type": "code",
      "source": [
        "plt.hist(prob_a, color = 'g', alpha = 0.9)    # Las gráficas nos sugieren que la distribución de A - B aparentemente es normal\n",
        "plt.hist(prob_b, color = 'c', alpha = 0.8)    #en ambos casos.\n",
        "plt.grid(False)\n",
        "plt.legend(['Caso a)' , 'Caso b)'])\n",
        "plt.title('Distribución de $A - B$')\n",
        "plt.show()\n",
        "plt.show()"
      ],
      "metadata": {
        "colab": {
          "base_uri": "https://localhost:8080/",
          "height": 453
        },
        "id": "-BWyI8S7g1I2",
        "outputId": "ff101c0b-d4d4-45a4-be3a-5e914733d48b"
      },
      "execution_count": 40,
      "outputs": [
        {
          "output_type": "display_data",
          "data": {
            "text/plain": [
              "<Figure size 640x480 with 1 Axes>"
            ],
            "image/png": "[encoded data removed]"
          },
          "metadata": {}
        }
      ]
    },
    {
      "cell_type": "code",
      "source": [
        "print('a: mu =', np.mean(prob_a), ', sigma =', np.std(prob_a))\n",
        "print('b: mu =', np.mean(prob_b), ', sigma =', np.std(prob_b))"
      ],
      "metadata": {
        "colab": {
          "base_uri": "https://localhost:8080/"
        },
        "id": "Sexk4jTzh_E4",
        "outputId": "c1954305-9aa8-46c7-8b1f-c1d9f6637104"
      },
      "execution_count": 41,
      "outputs": [
        {
          "output_type": "stream",
          "name": "stdout",
          "text": [
            "a: mu = 0.5713660953133838 , sigma = 0.05957617832399765\n",
            "b: mu = 0.41215833760532583 , sigma = 0.06163382687495083\n"
          ]
        }
      ]
    },
    {
      "cell_type": "markdown",
      "source": [
        "## **7. Hallamos el intervalo de confianza.**\n",
        "\n",
        "Utilizamos la fórmula\n",
        "  \\begin{align}\n",
        "  \\bar{x} - Z_{\\frac{\\alpha}{2}}\\frac{s}{\\sqrt{n}} < \\mu < \\bar{x} + Z_{\\frac{\\alpha}{2}}\\frac{s}{\\sqrt{n}}\n",
        "  \\end{align}\n",
        "\n",
        "Implementamos el siguiente código:"
      ],
      "metadata": {
        "id": "Gm9gpcrGiIDM"
      }
    },
    {
      "cell_type": "code",
      "source": [
        "mu_a = np.mean(prob_a)                                           # Se presentan los intervalos de confianza para la media estimada en\n",
        "li_a = mu_a - norm.ppf(1-alpha/2) * np.std(prob_a)/np.sqrt(n)    #cada caso de la forma: \n",
        "ls_a = mu_a + norm.ppf(1-alpha/2) * np.std(prob_a)/np.sqrt(n)    #\n",
        "print('a:', li_a, '<', mu_a, '<', ls_a)                          #       Caso: Límite inferior < Media estimada < Límite superior\n",
        "\n",
        "mu_b = np.mean(prob_b)\n",
        "li_b = mu_b - norm.ppf(1-alpha/2) * np.std(prob_b)/np.sqrt(n)\n",
        "ls_b = mu_b + norm.ppf(1-alpha/2) * np.std(prob_b)/np.sqrt(n)\n",
        "print('b:', li_b, '<', mu_b, '<', ls_b)"
      ],
      "metadata": {
        "colab": {
          "base_uri": "https://localhost:8080/"
        },
        "id": "lAbFdrdljIDX",
        "outputId": "167d7f22-26c7-4546-ce9a-a238c4320283"
      },
      "execution_count": 42,
      "outputs": [
        {
          "output_type": "stream",
          "name": "stdout",
          "text": [
            "a: 0.560922122676905 < 0.5713660953133838 < 0.5818100679498626\n",
            "b: 0.401353649901748 < 0.41215833760532583 < 0.4229630253089037\n"
          ]
        }
      ]
    },
    {
      "cell_type": "markdown",
      "source": [
        "## **8. Comparamos con la solución analítica.**\n",
        "\n",
        "Se planteó que la diferencia $\\,A - B\\,$ modela adecuadamente el sistema y, gracias al teorema de la adición, se sigue que\n",
        "\n",
        "  \\begin{align}\n",
        "  A - B \\sim \\mathrm{N}\\left( 200, \\sqrt{50000} \\right)\n",
        "  \\end{align}\n",
        "\n",
        "Por lo tanto, para calcular $\\,P(A - B \\geq d_{1,2})$, gracias a la continuidad de la función de distribución de $\\,A - B\\,$, sabemos que\n",
        "\n",
        "  \\begin{align}\n",
        "  P(A - B \\geq d_{1,2}) = P(A - B > d_{1,2}) = 1 - P(A - B \\leq d_{1,2})\n",
        "  \\end{align}\n",
        "\n",
        "Implementamos el siguiente código:"
      ],
      "metadata": {
        "id": "waDgbDvYlkYJ"
      }
    },
    {
      "cell_type": "code",
      "source": [
        "mu_a_ana = norm.sf(a, 200, np.sqrt(50000))    # Soluciones analíticas de ambos casos.\n",
        "mu_b_ana = norm.sf(b, 200, np.sqrt(50000))\n",
        "\n",
        "print('a:', mu_a_ana)\n",
        "print('b:', mu_b_ana)"
      ],
      "metadata": {
        "colab": {
          "base_uri": "https://localhost:8080/"
        },
        "id": "DAVrBEbel5sD",
        "outputId": "1fe4d1f0-60e8-4411-9afc-c49d54253efc"
      },
      "execution_count": 43,
      "outputs": [
        {
          "output_type": "stream",
          "name": "stdout",
          "text": [
            "a: 0.5709861715062394\n",
            "b: 0.41153163687906075\n"
          ]
        }
      ]
    },
    {
      "cell_type": "markdown",
      "source": [
        "# **Solución**"
      ],
      "metadata": {
        "id": "DWUmqLmk7yEJ"
      }
    },
    {
      "cell_type": "code",
      "source": [
        "print('Si se toman muestras al azar de ' + str(n) + ' bombillas de cada fabricante,\\n\\n')\n",
        "\n",
        "print('CASO A: La probabilidad estimada mediante simulación de que las bombillas de A tengan una duración media que sea al menos ')\n",
        "print(str(a) + ' horas mayor que la duración media de las bombillas de B es del ' + str(mu_a*100) + '%.\\n')\n",
        "print('La cual difiere en un ' + str(abs(mu_a - mu_a_ana)*100 / mu_a_ana) + '% de la solución analítica.\\n\\n\\n')\n",
        "\n",
        "print('CASO B: La probabilidad estimada mediante simulación de que las bombillas de A tengan una duración media que sea al menos ')\n",
        "print(str(b) + ' horas mayor que la duración media de las bombillas de B es del ' + str(mu_b*100) + '%.\\n')\n",
        "print('La cual difiere en un ' + str(abs(mu_b - mu_b_ana)*100 / mu_b_ana) + '% de la solución analítica.')"
      ],
      "metadata": {
        "colab": {
          "base_uri": "https://localhost:8080/"
        },
        "id": "MRF_an7-8ngY",
        "outputId": "39e6d7c9-df41-4eca-eb3f-6090a72c372c"
      },
      "execution_count": 44,
      "outputs": [
        {
          "output_type": "stream",
          "name": "stdout",
          "text": [
            "Si se toman muestras al azar de 125 bombillas de cada fabricante,\n",
            "\n",
            "\n",
            "CASO A: La probabilidad estimada mediante simulación de que las bombillas de A tengan una duración media que sea al menos \n",
            "160 horas mayor que la duración media de las bombillas de B es del 57.13660953133838%.\n",
            "\n",
            "La cual difiere en un 0.06653818010025205% de la solución analítica.\n",
            "\n",
            "\n",
            "\n",
            "CASO B: La probabilidad estimada mediante simulación de que las bombillas de A tengan una duración media que sea al menos \n",
            "250 horas mayor que la duración media de las bombillas de B es del 41.21583376053258%.\n",
            "\n",
            "La cual difiere en un 0.1522849448508514% de la solución analítica.\n"
          ]
        }
      ]
    }
  ]
}