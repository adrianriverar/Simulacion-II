{
  "nbformat": 4,
  "nbformat_minor": 0,
  "metadata": {
    "colab": {
      "provenance": [],
      "authorship_tag": "ABX9TyPmEcWSvCpg0xZTRtYf3sUR",
      "include_colab_link": true
    },
    "kernelspec": {
      "name": "python3",
      "display_name": "Python 3"
    },
    "language_info": {
      "name": "python"
    }
  },
  "cells": [
    {
      "cell_type": "markdown",
      "metadata": {
        "id": "view-in-github",
        "colab_type": "text"
      },
      "source": [
        "<a href=\"https://colab.research.google.com/github/adrianriverar/Simulacion-II/blob/main/Examen%201er%20parcial/Problema1_16.ipynb\" target=\"_parent\"><img src=\"https://colab.research.google.com/assets/colab-badge.svg\" alt=\"Open In Colab\"/></a>"
      ]
    },
    {
      "cell_type": "markdown",
      "source": [
        "# **Problema 16**\n",
        "Dos personas han quedado citas en un determinado lugar. Ambas tienen la misma probabilidad de llegar al lugar de la cita en el intervalo de tiempo $[0, 30]$.\n",
        "\n",
        "Determínese la probabilidad de que el tiempo que una persona espere a la otra sea como máximo $10$.\n",
        "\n",
        "# **Resolución**\n",
        "## **1. Identifique las variables.**\n",
        "\n",
        "Tenemos dos: \n",
        "\n",
        "1.   $X_1:=$ Tiempo en el que llega la persona $1$ al lugar de la cita.\n",
        "2.   $X_2:=$ Tiempo en el que llega la persona $2$ al lugar de la cita.\n",
        "\n",
        "## **2. Determine la distribución de probabilidad.**\n",
        "\n",
        "Debido a los datos proporcionados durante el planteamiento del problema y la naturaleza meramente aleatoria y equiprobable del mismo, se sigue que las dos variables poseen una distribución uniforme $\\,\\mathrm{U}(0, 30)$.\n",
        "\n",
        "## **3. Modele las variables aleatorias.**\n",
        "\n",
        "Habiendo deducido la distribución de cada variable aleatoria, se sigue que\n",
        "\n",
        "  \\begin{align}\n",
        "  X_1 &\\sim \\mathrm{U}(0, 30) \\\\\n",
        "  X_2 &\\sim \\mathrm{U}(0, 30)\n",
        "  \\end{align}\n",
        "\n",
        "## **4. Defina el modelo del sistema y los objetivos de la simulación.**\n",
        "\n",
        "La diferencia absoluta $\\,|X_1 - X_2|\\,$ modela adecuadamente el sistema.\n",
        "\n",
        "Si $\\,|X_1 - X_2|\\,$ es menor que la cota superior propuesta en el problema, es decir, $10$; se considerará como una observación exitosa y viceversa.\n",
        "\n",
        "### **Objetivo:**\n",
        "\n",
        "Entonces se determinará la frecuencia con la que ocurre\n",
        "\n",
        "  \\begin{align}\n",
        "  |X_1 - X_2| \\leq 10\n",
        "  \\end{align}\n",
        "\n",
        "para obtener una estimación de la probabilidad de que el tiempo que alguna de las dos personas espere a la otra sea como máximo $10$.\n",
        "\n",
        "Por lo tanto, implementamos el siguiente código:"
      ],
      "metadata": {
        "id": "7MaI2Pp0MX1P"
      }
    },
    {
      "cell_type": "code",
      "source": [
        "import numpy as np\n",
        "import random\n",
        "import matplotlib.pyplot as plt\n",
        "from scipy.stats import norm"
      ],
      "metadata": {
        "id": "-9JA9Ha6luMK"
      },
      "execution_count": 113,
      "outputs": []
    },
    {
      "cell_type": "code",
      "source": [
        "def observacion():              # Función que devuelve 1 si |X1 - X2| <= 10 o 0 si caso contrario.\n",
        "  X1 = random.uniform(0, 30)     # Generamos variables aleatorias X1 y X2 según su distribución especificada anteriormente.\n",
        "  X2 = random.uniform(0, 30)  \n",
        "  if abs(X1 - X2) <= 10:         # Aquí se analiza la condición a estudiar |X1 - X2| <= 10.\n",
        "    obs = 1\n",
        "  else:\n",
        "    obs = 0\n",
        "  return obs"
      ],
      "metadata": {
        "id": "Sr8t9Jb4mEYr"
      },
      "execution_count": 114,
      "outputs": []
    },
    {
      "cell_type": "code",
      "source": [
        "observacion()"
      ],
      "metadata": {
        "colab": {
          "base_uri": "https://localhost:8080/"
        },
        "id": "JMpgb7mBB6pU",
        "outputId": "d2fd0a32-b394-4b47-cb6c-bef5b224e9fd"
      },
      "execution_count": 115,
      "outputs": [
        {
          "output_type": "execute_result",
          "data": {
            "text/plain": [
              "1"
            ]
          },
          "metadata": {},
          "execution_count": 115
        }
      ]
    },
    {
      "cell_type": "markdown",
      "source": [
        "## **5. Diseñe el experimento.**\n",
        "\n",
        "Para estimar la probabilidad de que ocurra $\\,|X_1 - X_2|\\leq 10\\,$, ejecutamos $n$ veces la función anterior y calculamos de manera acumulativa la probabilidad deseada a estimar."
      ],
      "metadata": {
        "id": "6Eq_s5WjsdkL"
      }
    },
    {
      "cell_type": "code",
      "source": [
        "def experimento(n):                # Función que devuelve lista \"evol_prob\" con los valores de la probabilidad estimada, la cual se\n",
        "  evol_prob = []                   #calcula contando las veces que se cumple la condición planteada en el objetivo de la simulación y\n",
        "  obs = 0                          #dividir esta cantidad entre las veces que se ha repetido la observación del sistema. Todo esto\n",
        "  for i in range(n):               #mientras aumenta el número de observaciones hasta llegar a \"n\".\n",
        "    obs += observacion()\n",
        "    evol_prob.append(obs/(i+1))\n",
        "  return evol_prob"
      ],
      "metadata": {
        "id": "YHl-3szbtTTb"
      },
      "execution_count": 116,
      "outputs": []
    },
    {
      "cell_type": "code",
      "source": [
        "evol_prob = experimento(3000)    # Realizamos un experimento con tamaño de muestra grande y arbitraria."
      ],
      "metadata": {
        "id": "a6EsT9eHDWJP"
      },
      "execution_count": 117,
      "outputs": []
    },
    {
      "cell_type": "code",
      "source": [
        "plt.plot(evol_prob, 'r')                         # La gráfica muestra que la convergencia está garantizada con 1500 iteraciones.\n",
        "plt.xlabel('No. de observaciones al sistema')    \n",
        "plt.ylabel('$P(|X_1 - X_2|\\leq 10)$')\n",
        "plt.grid(True)\n",
        "plt.title('Evolución de la probabilidad conforme aumenta no. de observaciones')\n",
        "plt.show()"
      ],
      "metadata": {
        "colab": {
          "base_uri": "https://localhost:8080/",
          "height": 472
        },
        "id": "ZtUewuG_D_zz",
        "outputId": "65499bc8-2b29-4d9b-b89f-dbf56d9242f5"
      },
      "execution_count": 118,
      "outputs": [
        {
          "output_type": "display_data",
          "data": {
            "text/plain": [
              "<Figure size 640x480 with 1 Axes>"
            ],
            "image/png": "[encoded data removed]"
          },
          "metadata": {}
        }
      ]
    },
    {
      "cell_type": "code",
      "source": [
        "n = 1500    # Definiendo tamaño de muestra \"n\" para cada experimento a simular."
      ],
      "metadata": {
        "id": "75ALTPQhZFew"
      },
      "execution_count": 119,
      "outputs": []
    },
    {
      "cell_type": "code",
      "source": [
        "print('mu =', np.mean(evol_prob), ', sigma =', np.std(evol_prob))"
      ],
      "metadata": {
        "colab": {
          "base_uri": "https://localhost:8080/"
        },
        "id": "CXrgF9ZVF-4f",
        "outputId": "679ba588-6766-4b8e-fbfa-42503c3eb233"
      },
      "execution_count": 120,
      "outputs": [
        {
          "output_type": "stream",
          "name": "stdout",
          "text": [
            "mu = 0.5240615088106462 , sigma = 0.024468551591340846\n"
          ]
        }
      ]
    },
    {
      "cell_type": "markdown",
      "source": [
        "## **6. Repita el experimento $N$ veces.**\n",
        "\n",
        "Primero, necesitamos determinar el número $N$ de veces necesarias que se debe simular el experimento para que la probabilidad estimada de que ocurra la observación deseada difiera de su valor verdadero en menos de $\\epsilon$ con un nivel de confianza del $(1 − \\alpha)\\%$.\n",
        "\n",
        "Este número $N$ está dado por\n",
        "\n",
        "  \\begin{align}\n",
        "  N > \\left( \\frac{2 \\sigma Z_{\\alpha/2}}{\\epsilon} \\right)^2\n",
        "  \\end{align}\n",
        "\n",
        "Implementamos el siguiente código:"
      ],
      "metadata": {
        "id": "Zg7GTd8gG-PQ"
      }
    },
    {
      "cell_type": "code",
      "source": [
        "epsilon = 0.01    # Establecer la cota superior epsilon para el error de la probabilidad estimada.\n",
        "alpha = 0.05      # Indicar el grado de significancia que tendrá el valor establecido para epsilon."
      ],
      "metadata": {
        "id": "otd0n7UzLhH0"
      },
      "execution_count": 121,
      "outputs": []
    },
    {
      "cell_type": "code",
      "source": [
        "N = int(np.ceil((2*np.std(evol_prob)*norm.ppf(1-alpha/2)/epsilon)**2))  # Cálculo del número necesario de simulaciones del experimento\n",
        "print(N)"
      ],
      "metadata": {
        "colab": {
          "base_uri": "https://localhost:8080/"
        },
        "id": "mWy2tO5QWQtP",
        "outputId": "c73c9929-14d6-48ad-dbde-3f21d5f2d237"
      },
      "execution_count": 122,
      "outputs": [
        {
          "output_type": "stream",
          "name": "stdout",
          "text": [
            "92\n"
          ]
        }
      ]
    },
    {
      "cell_type": "code",
      "source": [
        "def simulacion(N):                     # Función que devuelve una lista con las probabilidades estimadas promedio de los N\n",
        "  prob = []                            #experimentos realizados.\n",
        "  for i in range(N):\n",
        "    evol_prob = experimento(n)\n",
        "    prob.append(np.mean(evol_prob))\n",
        "  return prob"
      ],
      "metadata": {
        "id": "T4XBtClLHfZC"
      },
      "execution_count": 123,
      "outputs": []
    },
    {
      "cell_type": "code",
      "source": [
        "prob = simulacion(N)    # Realizamos la simulación."
      ],
      "metadata": {
        "id": "UHeTo4KtgiXh"
      },
      "execution_count": 124,
      "outputs": []
    },
    {
      "cell_type": "code",
      "source": [
        "plt.hist(prob, color = 'g', alpha = 0.85)         # La gráfica nos sugiere que la distribución de |X1 - X2| aparentemente es normal.\n",
        "plt.grid(False)\n",
        "plt.title('Distribución de $|X_1 - X_2|$')\n",
        "plt.show()"
      ],
      "metadata": {
        "colab": {
          "base_uri": "https://localhost:8080/",
          "height": 455
        },
        "id": "-BWyI8S7g1I2",
        "outputId": "e649f018-d02a-4c7a-bf1d-ea0f2ab8eeca"
      },
      "execution_count": 125,
      "outputs": [
        {
          "output_type": "display_data",
          "data": {
            "text/plain": [
              "<Figure size 640x480 with 1 Axes>"
            ],
            "image/png": "[encoded data removed]"
          },
          "metadata": {}
        }
      ]
    },
    {
      "cell_type": "code",
      "source": [
        "print('mu =', np.mean(prob), ', sigma =', np.std(prob))"
      ],
      "metadata": {
        "colab": {
          "base_uri": "https://localhost:8080/"
        },
        "id": "Sexk4jTzh_E4",
        "outputId": "9556201e-84ec-459c-ea57-08474fdd4c3f"
      },
      "execution_count": 126,
      "outputs": [
        {
          "output_type": "stream",
          "name": "stdout",
          "text": [
            "mu = 0.5532459350574693 , sigma = 0.019811028876109398\n"
          ]
        }
      ]
    },
    {
      "cell_type": "markdown",
      "source": [
        "## **7. Hallamos el intervalo de confianza.**\n",
        "\n",
        "Utilizamos la fórmula\n",
        "  \\begin{align}\n",
        "  \\bar{x} - Z_{\\frac{\\alpha}{2}}\\frac{s}{\\sqrt{n}} < \\mu < \\bar{x} + Z_{\\frac{\\alpha}{2}}\\frac{s}{\\sqrt{n}}\n",
        "  \\end{align}\n",
        "\n",
        "Implementamos el siguiente código:"
      ],
      "metadata": {
        "id": "Gm9gpcrGiIDM"
      }
    },
    {
      "cell_type": "code",
      "source": [
        "mu = np.mean(prob)                                         # Se presenta el intervalos de confianza para la media estimada, de la\n",
        "li = mu - norm.ppf(1-alpha/2) * np.std(prob)/np.sqrt(n)    #forma: \n",
        "ls = mu + norm.ppf(1-alpha/2) * np.std(prob)/np.sqrt(n)    #\n",
        "print(li, '<', mu, '<', ls)                                #        Límite inferior < Media estimada < Límite superior"
      ],
      "metadata": {
        "colab": {
          "base_uri": "https://localhost:8080/"
        },
        "id": "lAbFdrdljIDX",
        "outputId": "d4b541b5-3767-430d-ed87-301907a50196"
      },
      "execution_count": 127,
      "outputs": [
        {
          "output_type": "stream",
          "name": "stdout",
          "text": [
            "0.5522433770905759 < 0.5532459350574693 < 0.5542484930243627\n"
          ]
        }
      ]
    },
    {
      "cell_type": "markdown",
      "source": [
        "## **8. Comparamos con la solución analítica.**\n",
        "\n",
        "Se planteó que la diferencia absoluta $\\,|X_1 - X_2|\\,$ modela adecuadamente el sistema.\n",
        "\n",
        "Para la resolución analítica de este problema, nos respaldaremos del trabajo de Cantor donde demuestra que existen infinitos más grandes que otros infinitos. También ignoraremos la naturaleza probabilística de los valores que pueden tomar $\\,X_1\\,$ y $\\,X_2\\,$, al ser estas totalmente equiprobables para ambas variables.\n",
        "\n",
        "Ahora, se puede intuir que el resultado (número) $\\,r\\,$ que más se repetirá en $\\,|X_1 - X_2|\\,$ será $\\,r = 0$, existiendo $\\,\\infty_0\\,$ posibilidades para que salga.\n",
        "\n",
        "Conforme van saliendo otros resultados mayores que cero, $\\,r>0$, implica que se van \"borrando\" subintervalos de tamaño $\\,r\\,$ a través de todo el intervalo $\\,[0,30]$, dejando así sólo $\\,\\infty_r\\,$ posibilidades para el respectivo resultado. \n",
        "\n",
        "Se deduce que cada nuevo $\\,\\infty_r\\,$ es menor que el anterior conforme $\\,r\\,$ incrementa, siendo $\\,\\infty_0\\,$ el mayor de todos.\n",
        "\n",
        "Todo esto se repite hasta llegar al resultado $\\,r = 30$, el cual sólo tiene dos posibilidades: $\\,\\{X_{1,2} = \\{0,30\\}\\colon X_1\\neq X_2 \\}$; por lo que este será el resultado que menos veces se repetirá.\n",
        "\n",
        "Esta descripción del comportamiento de la distribución de los posibles resultados de $\\,|X_1 - X_2|\\,$ sugiere un aparente decrecimiento lineal de $\\,\\infty_r\\,$ inversamente proporcional a $\\,r\\,$. Por lo tanto, $\\,|X_1 - X_2|\\,$ posee una distribución triangular con moda igual a $\\,0\\,$ y límites inferior y superior iguales a $\\,0\\,$ y $\\,30\\,$ respectivamente; es decir,\n",
        "\n",
        "  \\begin{align}\n",
        "  |X_1 - X_2|\\sim \\mathrm{T}(0, 30, 0)\n",
        "  \\end{align}\n",
        "\n",
        "Por lo tanto, siendo $\\,c < 10 < b\\,$, aplicamos la siguiente fórmula de la función de distribución acumulativa de la distribución triangular:\n",
        "\n",
        "  \\begin{align}\n",
        "  P(|X_1 - X_2|\\leq 10) = F(10) = 1 - \\frac{(b - 10)^2}{(b - a)(b - c)} = 1 - \\frac{20^2}{30^2} = \\frac{5}{9} = 0.\\bar{5} = 0.5555\\ldots\n",
        "  \\end{align}"
      ],
      "metadata": {
        "id": "waDgbDvYlkYJ"
      }
    },
    {
      "cell_type": "code",
      "source": [
        "mu_ana = 5/9     # Solución analítica del problema.\n",
        "print(mu_ana)    "
      ],
      "metadata": {
        "colab": {
          "base_uri": "https://localhost:8080/"
        },
        "id": "DAVrBEbel5sD",
        "outputId": "e7be70a7-9cbd-4b7f-8cc5-efef78dd36e4"
      },
      "execution_count": 128,
      "outputs": [
        {
          "output_type": "stream",
          "name": "stdout",
          "text": [
            "0.5555555555555556\n"
          ]
        }
      ]
    },
    {
      "cell_type": "markdown",
      "source": [
        "# **Solución**"
      ],
      "metadata": {
        "id": "DWUmqLmk7yEJ"
      }
    },
    {
      "cell_type": "code",
      "source": [
        "print('La probabilidad estimada mediante simulación de que el tiempo que una de las dos personas llegue a esperar a la otra sea ')\n",
        "print('como máximo 10 es del ' + str(mu*100) + '%.\\n')\n",
        "print('La cual difiere en un ' + str(np.abs(mu - mu_ana)*100 / mu_ana) + '% de la solución analítica.')"
      ],
      "metadata": {
        "colab": {
          "base_uri": "https://localhost:8080/"
        },
        "id": "MRF_an7-8ngY",
        "outputId": "5cfbf289-79af-4da8-a5ff-12c7176fbf77"
      },
      "execution_count": 129,
      "outputs": [
        {
          "output_type": "stream",
          "name": "stdout",
          "text": [
            "La probabilidad estimada mediante simulación de que el tiempo que una de las dos personas llegue a esperar a la otra sea \n",
            "como máximo 10 es del 55.32459350574693%.\n",
            "\n",
            "La cual difiere en un 0.4157316896555252% de la solución analítica.\n"
          ]
        }
      ]
    }
  ]
}