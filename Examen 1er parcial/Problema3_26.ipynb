{
  "nbformat": 4,
  "nbformat_minor": 0,
  "metadata": {
    "colab": {
      "provenance": [],
      "authorship_tag": "ABX9TyMHYtVikTwSjOL1AVtaADAv",
      "include_colab_link": true
    },
    "kernelspec": {
      "name": "python3",
      "display_name": "Python 3"
    },
    "language_info": {
      "name": "python"
    }
  },
  "cells": [
    {
      "cell_type": "markdown",
      "metadata": {
        "id": "view-in-github",
        "colab_type": "text"
      },
      "source": [
        "<a href=\"https://colab.research.google.com/github/adrianriverar/Simulacion-II/blob/main/Examen%201er%20parcial/Problema3_26.ipynb\" target=\"_parent\"><img src=\"https://colab.research.google.com/assets/colab-badge.svg\" alt=\"Open In Colab\"/></a>"
      ]
    },
    {
      "cell_type": "markdown",
      "source": [
        "# **Problema 26**\n",
        "Una empresa dispone de varias máquinas herramienta cuyas herramientas de corte se desgastan constantemente. Cuando esto ocurre, la máquina es inservible. En la actualidad, el mantenimiento es correctivo: reemplazándose una herramienta cuando falla.\n",
        "\n",
        "Dado que cada máquina dispone de una torre con cinco herramientas, se propone reemplazar toda la torre de herramientas (las cinco herramientas de golpe) cada vez que falle una; lo que debería reducir la frecuencia de desgaste de las herramientas.\n",
        "\n",
        "El tiempo necesario para el reemplazo de una herramienta es de una hora. Las cinco pueden reemplazarse en dos horas.\n",
        "\n",
        "El coste de una hora de máquina parada es de cien euros. Cada herramienta cuesta diez euros.\n",
        "\n",
        "La tabla siguiente recoge los datos de averías en el caso de sustituir una sola herramienta cada vez.\n",
        "\n",
        "|Horas entre averías si sustituye una herramienta|20|30|40|50|60|70|80|\n",
        "|-|-|-|-|-|-|-|-|\n",
        "|Probabilidad|0.05|0.15|0.15|0.20|0.20|0.15|0.10|\n",
        "\n",
        "Si las cinco herramientas se cambian cada vez que una falla, la distribución de probabilidad entre fallos es la siguiente:\n",
        "\n",
        "|Horas entre averías si sustituyen cinco herramientas|30|40|50|60|70|80|90|\n",
        "|-|-|-|-|-|-|-|-|\n",
        "|Probabilidad|0.05|0.15|0.15|0.20|0.20|0.15|0.10|\n",
        "\n",
        "Determine mediante simulación la mejor política de reemplazo de las herramientas de corte.\n",
        "\n",
        "# **Resolución**\n",
        "## **1. Identifique las variables.**\n",
        "\n",
        "Tenemos dos: \n",
        "\n",
        "1.   $T_1:=$ Horas entre averías aplicando la primera política (sustituir una herramienta cada vez).\n",
        "2.   $T_2:=$ Horas entre averías aplicando la segunda política (sustituir las cinco herramientas cada vez).\n",
        "\n",
        "## **2. Determine la distribución de probabilidad.**\n",
        "\n",
        "Debido a los datos proporcionados durante el planteamiento del problema, se sigue que las dos variables aleatorias poseen una distribuciones distintas, discretas y arbitrarias, proporcionadas en las dos tablas presentadas en el problema.\n",
        "\n",
        "## **3. Modele las variables aleatorias.**\n",
        "\n",
        "La distribución de probabilidad de $\\,T_1\\,$ es\n",
        "\n",
        "|$T_1$|20|30|40|50|60|70|80|\n",
        "|-|-|-|-|-|-|-|-|\n",
        "|$P(T_1)$|0.05|0.15|0.15|0.20|0.20|0.15|0.10|\n",
        "\n",
        "Y la distribución de probabilidad de $\\,T_2\\,$ es\n",
        "\n",
        "|$T_2$|30|40|50|60|70|80|90|\n",
        "|-|-|-|-|-|-|-|-|\n",
        "|$P(T_2)$|0.05|0.15|0.15|0.20|0.20|0.15|0.10|\n",
        "\n",
        "## **4. Defina el modelo del sistema y los objetivos de la simulación.**\n",
        "\n",
        "Se calculará el costo por hora promedio por el funcionamiento de una máquina. Se analizará esto aplicando cada una de las dos políticas para la reparación de las mismas.\n",
        "\n",
        "Así se compararán los costos del funcionamiento de una máquina acorde a cada política con respecto a una misma unidad de tiempo; es decir, se verificará cuál política provoca que una máquina genere un costo por hora útil mayor.\n",
        "\n",
        "### **Objetivo:**\n",
        "\n",
        "Al estarse analizando la disminución de los costos que la nueva propuesta (la segunda política) supuestamente trae consigo, con respecto a los de la ya implementada (la primera política). Entonces se intentará verificar la veracidad de la siguiente desigualdad:\n",
        "\n",
        "  \\begin{align}\n",
        "  \\frac{C_1}{T_{p1}} < \\frac{C_2}{T_{p2}}\n",
        "  \\end{align}\n",
        "\n",
        "Donde\n",
        "\n",
        "1.   $C_i:=$ Costo generado por avería acorde a política $\\,i$.\n",
        "2.   $T_{pi}:=$ Tiempo promedio de funcionamiento de una máquina acorde a política $\\,i$.\n",
        "\n",
        "Por lo tanto, implementamos el siguiente código:"
      ],
      "metadata": {
        "id": "7MaI2Pp0MX1P"
      }
    },
    {
      "cell_type": "code",
      "source": [
        "import numpy as np\n",
        "import random as rand\n",
        "import matplotlib.pyplot as plt\n",
        "from scipy.stats import norm"
      ],
      "metadata": {
        "id": "zqVwYQ8nIyPU"
      },
      "execution_count": 85,
      "outputs": []
    },
    {
      "cell_type": "code",
      "source": [
        "def observacion(p):     # Función que devuelve una v.a. que representa el costo por hora del funcionamiento de una máquina\n",
        "  if p == 1:            #acorde a cada política, señalada con \"p\".\n",
        "    C = 110\n",
        "    T = np.random.choice([20, 30, 40, 50, 60, 70, 80], p = [0.05, 0.15, 0.15, 0.20, 0.20, 0.15, 0.10])    # Política 1.\n",
        "  else:                     \n",
        "    C = 250                                                                              \n",
        "    T = np.random.choice([30, 40, 50, 60, 70, 80, 90], p = [0.05, 0.15, 0.15, 0.20, 0.20, 0.15, 0.10])    # Política 2.\n",
        "  return C/T"
      ],
      "metadata": {
        "id": "Sr8t9Jb4mEYr"
      },
      "execution_count": 86,
      "outputs": []
    },
    {
      "cell_type": "code",
      "source": [
        "print(observacion(1))\n",
        "print(observacion(2))"
      ],
      "metadata": {
        "colab": {
          "base_uri": "https://localhost:8080/"
        },
        "id": "JMpgb7mBB6pU",
        "outputId": "ce88efa5-a6cd-46bf-8049-583e6948df9e"
      },
      "execution_count": 87,
      "outputs": [
        {
          "output_type": "stream",
          "name": "stdout",
          "text": [
            "3.6666666666666665\n",
            "2.7777777777777777\n"
          ]
        }
      ]
    },
    {
      "cell_type": "markdown",
      "source": [
        "## **5. Diseñe el experimento.**\n",
        "\n",
        "Para estimar el costo por hora promedio del funcionamiento de una máquina, ejecutamos $n$ veces la función anterior para estudiar el caso de $n$ averías y calculamos de manera acumulativa el costo por hora promedio deseado a estimar."
      ],
      "metadata": {
        "id": "6Eq_s5WjsdkL"
      }
    },
    {
      "cell_type": "code",
      "source": [
        "def experimento(n, p):             # Función que devuelve lista \"evol_prom\" con los valores del costo promedio estimado, el cual se\n",
        "  evol_prom = []                   #calcula sumando iteradamente los costos por hora promedio por el funcionamiento de una máquina y\n",
        "  obs = 0                          #dividir esta cantidad entre las veces que se ha repetido la observación del sistema. Todo esto con\n",
        "  for i in range(n):               #\"p\" política estudiada y mientras aumenta el número de observaciones hasta llegar a \"n\".\n",
        "    obs += observacion(p)\n",
        "    evol_prom.append(obs/(i+1))\n",
        "  return evol_prom"
      ],
      "metadata": {
        "id": "YHl-3szbtTTb"
      },
      "execution_count": 88,
      "outputs": []
    },
    {
      "cell_type": "code",
      "source": [
        "evol_prom_1 = experimento(3000, 1)    # Realizamos el experimento para la política 1 con tamaño de muestra grande y arbitraria.\n",
        "evol_prom_2 = experimento(3000, 2)    # Hacemos lo mismo para la política 2."
      ],
      "metadata": {
        "id": "a6EsT9eHDWJP"
      },
      "execution_count": 89,
      "outputs": []
    },
    {
      "cell_type": "code",
      "source": [
        "plt.plot(evol_prom_1, 'r')    # La gráficas muestran que la convergencia está garantizada con 1000 iteraciones para ambas políticas.\n",
        "plt.plot(evol_prom_2, 'm')\n",
        "plt.xlabel('No. de averías')    \n",
        "plt.ylabel('Costo por hora útil (en euros)')\n",
        "plt.grid(True)\n",
        "plt.title('Evolución del costo por hora útil promedio conforme suceden más averías')\n",
        "plt.legend(['Política 1', 'Política 2'])\n",
        "plt.show()"
      ],
      "metadata": {
        "colab": {
          "base_uri": "https://localhost:8080/",
          "height": 472
        },
        "id": "ZtUewuG_D_zz",
        "outputId": "abb847b2-c739-4b5b-a8f3-8b13f9b0f243"
      },
      "execution_count": 90,
      "outputs": [
        {
          "output_type": "display_data",
          "data": {
            "text/plain": [
              "<Figure size 640x480 with 1 Axes>"
            ],
            "image/png": "[encoded data removed]"
          },
          "metadata": {}
        }
      ]
    },
    {
      "cell_type": "code",
      "source": [
        "n = 1000    # Definiendo tamaño de muestra (número de averías) \"n\" para cada experimento a simular en ambos casos."
      ],
      "metadata": {
        "id": "75ALTPQhZFew"
      },
      "execution_count": 91,
      "outputs": []
    },
    {
      "cell_type": "code",
      "source": [
        "print('1: mu =', np.mean(evol_prom_1), ', sigma =', np.std(evol_prom_1))\n",
        "print('2: mu =', np.mean(evol_prom_2), ', sigma =', np.std(evol_prom_2))"
      ],
      "metadata": {
        "colab": {
          "base_uri": "https://localhost:8080/"
        },
        "id": "CXrgF9ZVF-4f",
        "outputId": "bef9fb45-4103-406c-af7a-ac92a95ac18a"
      },
      "execution_count": 92,
      "outputs": [
        {
          "output_type": "stream",
          "name": "stdout",
          "text": [
            "1: mu = 2.4574229719502414 , sigma = 0.041178812198628206\n",
            "2: mu = 4.380361221987229 , sigma = 0.05116117017725883\n"
          ]
        }
      ]
    },
    {
      "cell_type": "markdown",
      "source": [
        "## **6. Repita el experimento $N$ veces.**\n",
        "\n",
        "Primero, necesitamos determinar el número $N$ de veces necesarias que se debe simular el experimento para que la probabilidad estimada de que ocurra la observación deseada difiera de su valor verdadero en menos de $\\epsilon$ con un nivel de confianza del $(1 − \\alpha)\\%$.\n",
        "\n",
        "Este número $N$ está dado por\n",
        "\n",
        "  \\begin{align}\n",
        "  N > \\left( \\frac{2 \\sigma Z_{\\alpha/2}}{\\epsilon} \\right)^2\n",
        "  \\end{align}\n",
        "\n",
        "Implementamos el siguiente código:"
      ],
      "metadata": {
        "id": "Zg7GTd8gG-PQ"
      }
    },
    {
      "cell_type": "code",
      "source": [
        "epsilon = 0.01    # Establecer la cota superior epsilon para el error del costo promedio estimado.\n",
        "alpha = 0.05      # Indicar el grado de significancia que tendrá el valor establecido para epsilon."
      ],
      "metadata": {
        "id": "otd0n7UzLhH0"
      },
      "execution_count": 93,
      "outputs": []
    },
    {
      "cell_type": "code",
      "source": [
        "N_1 = int(np.ceil((2*np.std(evol_prom_1)*norm.ppf(1-alpha/2)/epsilon)**2))    # Cálculo del número de simulaciones del experimento\n",
        "N_2 = int(np.ceil((2*np.std(evol_prom_2)*norm.ppf(1-alpha/2)/epsilon)**2))    #necesarias para ambas políticas 1 y 2.\n",
        "print(N_1)\n",
        "print(N_2)"
      ],
      "metadata": {
        "colab": {
          "base_uri": "https://localhost:8080/"
        },
        "id": "mWy2tO5QWQtP",
        "outputId": "9fe5ab0d-da0b-4a7a-b47e-6337d8bb6629"
      },
      "execution_count": 94,
      "outputs": [
        {
          "output_type": "stream",
          "name": "stdout",
          "text": [
            "261\n",
            "403\n"
          ]
        }
      ]
    },
    {
      "cell_type": "code",
      "source": [
        "def simulacion(N, p):                  # Función que devuelve una lista con los promedios de los costos promedio estimados de los N\n",
        "  prom = []                            #experimentos realizados para el caso indicado con \"p\".\n",
        "  for i in range(N):\n",
        "    evol_prom = experimento(n, p)\n",
        "    prom.append(np.mean(evol_prom))\n",
        "  return prom"
      ],
      "metadata": {
        "id": "T4XBtClLHfZC"
      },
      "execution_count": 95,
      "outputs": []
    },
    {
      "cell_type": "code",
      "source": [
        "prom_1 = simulacion(N_1, 1)    # Realizamos la simulación para cada caso.\n",
        "prom_2 = simulacion(N_2, 2)"
      ],
      "metadata": {
        "id": "UHeTo4KtgiXh"
      },
      "execution_count": 96,
      "outputs": []
    },
    {
      "cell_type": "code",
      "source": [
        "plt.hist(prom_1, color = 'g', alpha = 0.85)    # Las gráficas nos sugieren que las distribuciones de los costos promedio\n",
        "plt.hist(prom_2, color = 'c', alpha = 0.85)    #aparentemente son normales.\n",
        "plt.grid(False)\n",
        "plt.legend(['Política 1' , 'Política 2'])\n",
        "plt.title('Distribución del costo por hora útil promedio')\n",
        "plt.show()"
      ],
      "metadata": {
        "colab": {
          "base_uri": "https://localhost:8080/",
          "height": 453
        },
        "id": "-BWyI8S7g1I2",
        "outputId": "fb1973eb-7b5d-4465-fec5-b0c1477a0edf"
      },
      "execution_count": 97,
      "outputs": [
        {
          "output_type": "display_data",
          "data": {
            "text/plain": [
              "<Figure size 640x480 with 1 Axes>"
            ],
            "image/png": "[encoded data removed]"
          },
          "metadata": {}
        }
      ]
    },
    {
      "cell_type": "code",
      "source": [
        "print('a: mu =', np.mean(prom_1), ', sigma =', np.std(prom_1))\n",
        "print('b: mu =', np.mean(prom_2), ', sigma =', np.std(prom_2))"
      ],
      "metadata": {
        "colab": {
          "base_uri": "https://localhost:8080/"
        },
        "id": "Sexk4jTzh_E4",
        "outputId": "c4b4d4b0-23a9-4a2c-a542-c59ce9dcc10f"
      },
      "execution_count": 98,
      "outputs": [
        {
          "output_type": "stream",
          "name": "stdout",
          "text": [
            "a: mu = 2.415232301431439 , sigma = 0.0410593621354426\n",
            "b: mu = 4.403931038573729 , sigma = 0.06223921957388508\n"
          ]
        }
      ]
    },
    {
      "cell_type": "markdown",
      "source": [
        "## **7. Hallamos el intervalo de confianza.**\n",
        "\n",
        "Utilizamos la fórmula\n",
        "  \\begin{align}\n",
        "  \\bar{x} - Z_{\\frac{\\alpha}{2}}\\frac{s}{\\sqrt{n}} < \\mu < \\bar{x} + Z_{\\frac{\\alpha}{2}}\\frac{s}{\\sqrt{n}}\n",
        "  \\end{align}\n",
        "\n",
        "Implementamos el siguiente código:"
      ],
      "metadata": {
        "id": "Gm9gpcrGiIDM"
      }
    },
    {
      "cell_type": "code",
      "source": [
        "mu_1 = np.mean(prom_1)                                           # Se presentan los intervalos de confianza para la media estimada en\n",
        "li_1 = mu_1 - norm.ppf(1-alpha/2) * np.std(prom_1)/np.sqrt(n)    #cada política de la forma: \n",
        "ls_1 = mu_1 + norm.ppf(1-alpha/2) * np.std(prom_1)/np.sqrt(n)    #\n",
        "print('1:', li_1, '<', mu_1, '<', ls_1)                          #       Caso: Límite inferior < Media estimada < Límite superior\n",
        "\n",
        "mu_2 = np.mean(prom_2)\n",
        "li_2 = mu_2 - norm.ppf(1-alpha/2) * np.std(prom_2)/np.sqrt(n)\n",
        "ls_2 = mu_2 + norm.ppf(1-alpha/2) * np.std(prom_2)/np.sqrt(n)\n",
        "print('2:', li_2, '<', mu_2, '<', ls_2)"
      ],
      "metadata": {
        "colab": {
          "base_uri": "https://localhost:8080/"
        },
        "id": "lAbFdrdljIDX",
        "outputId": "b6943eea-a330-4988-cb59-e27bf91cf5e7"
      },
      "execution_count": 99,
      "outputs": [
        {
          "output_type": "stream",
          "name": "stdout",
          "text": [
            "1: 2.412687462563325 < 2.415232301431439 < 2.417777140299553\n",
            "2: 4.400073482663088 < 4.403931038573729 < 4.40778859448437\n"
          ]
        }
      ]
    },
    {
      "cell_type": "markdown",
      "source": [
        "# **Solución**"
      ],
      "metadata": {
        "id": "DWUmqLmk7yEJ"
      }
    },
    {
      "cell_type": "code",
      "source": [
        "print('Si se consideran ' + str(n) + ' averías,\\n')\n",
        "\n",
        "print('Política 1: El costo por hora promedio por el funcionamiento de una máquina acorde a la primera política,')\n",
        "print('estimada mediante simulación, es de ' + str(round(mu_1, 2)) + ' euros.\\n')\n",
        "\n",
        "print('Política 2: El costo por hora promedio por el funcionamiento de una máquina acorde a la segunda política,')\n",
        "print('estimada mediante simulación, es de ' + str(round(mu_2, 2)) + ' euros.\\n\\n')\n",
        "\n",
        "print('Por lo tanto, ', end='')\n",
        "if mu_2 < mu_1:\n",
        "  print('la nueva política (la segunda) debería ser implementada en cuanto antes, ya que genera costos menores que la actual.')\n",
        "elif mu_2 == mu_1:\n",
        "  print('es indiferente cuál política sea aplicada.')\n",
        "else:\n",
        "  print('la política actualmente implementada (la primera), deberá permanecer vigente, ya que genera costos menores que la nueva.')"
      ],
      "metadata": {
        "colab": {
          "base_uri": "https://localhost:8080/"
        },
        "id": "MRF_an7-8ngY",
        "outputId": "e2ec38e7-b33d-44ff-92bb-eb153cc3adde"
      },
      "execution_count": 100,
      "outputs": [
        {
          "output_type": "stream",
          "name": "stdout",
          "text": [
            "Si se consideran 1000 averías,\n",
            "\n",
            "Política 1: El costo por hora promedio por el funcionamiento de una máquina acorde a la primera política,\n",
            "estimada mediante simulación, es de 2.42 euros.\n",
            "\n",
            "Política 2: El costo por hora promedio por el funcionamiento de una máquina acorde a la segunda política,\n",
            "estimada mediante simulación, es de 4.4 euros.\n",
            "\n",
            "\n",
            "Por lo tanto, la política actualmente implementada (la primera), deberá permanecer vigente, ya que genera costos menores que la nueva.\n"
          ]
        }
      ]
    }
  ]
}