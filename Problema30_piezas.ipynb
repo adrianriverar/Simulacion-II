{
  "nbformat": 4,
  "nbformat_minor": 0,
  "metadata": {
    "colab": {
      "provenance": [],
      "authorship_tag": "ABX9TyNG6XdBOi9AcfVzRCSEfCzF",
      "include_colab_link": true
    },
    "kernelspec": {
      "name": "python3",
      "display_name": "Python 3"
    },
    "language_info": {
      "name": "python"
    }
  },
  "cells": [
    {
      "cell_type": "markdown",
      "metadata": {
        "id": "view-in-github",
        "colab_type": "text"
      },
      "source": [
        "<a href=\"https://colab.research.google.com/github/adrianriverar/Simulacion-II/blob/main/Problema30_piezas.ipynb\" target=\"_parent\"><img src=\"https://colab.research.google.com/assets/colab-badge.svg\" alt=\"Open In Colab\"/></a>"
      ]
    },
    {
      "cell_type": "markdown",
      "source": [
        "# **Problema 30**\n",
        "El tiempo entre llegadas de piezas a una estación de ensamblado sigue una distribución exponencial con media $2$ minutos. La duración de la tarea llevada a cabo por el operario en dicha estación adopta una distribución exponencial con media $1$ minuto por pieza. Determine el tiempo medio de permanencia de las piezas en dicho proceso.\n",
        "\n",
        "# **Resolución**\n",
        "## **1. Identifique las variables.**\n",
        "\n",
        "Tenemos dos: \n",
        "\n",
        "1.   $t_1:=$ Tiempo entre llegadas de piezas a la estación de ensamblado.\n",
        "2.   $t_2:=$ Tiempo que tarda el operario en concluir su trabajo para una pieza.\n",
        "\n",
        "## **2. Determine la distribución de probabilidad.**\n",
        "\n",
        "Debido a los datos proporcionados durante el planteamiento del problema, se sigue que las dos variables poseen una distribución exponencial $\\,\\mathrm{Exp}(\\lambda_1)\\,$ y $\\,\\mathrm{Exp}(\\lambda_2)$ respectivamente.\n",
        "\n",
        "**Nota:** Unidades de $\\,\\lambda_i\\,$ piezas por minuto.\n",
        "\n",
        "## **3. Modele las variables aleatorias.**\n",
        "\n",
        "Habiendo deducido la distribución de cada variable aleatoria, se sigue que\n",
        "\n",
        "  \\begin{align*}\n",
        "  t_1 &\\sim \\mathrm{Exp}(0.5) \\\\\n",
        "  t_2 &\\sim \\mathrm{Exp}(1)\n",
        "  \\end{align*}\n",
        "\n",
        "## **4. Defina el modelo del sistema y los objetivos de la simulación.**\n",
        "\n",
        "Cada pieza $\\,i\\,$ arribará al sistema en el tiempo $\\,\\sum_{i=1}^n {t_1}_i$, con $\\,n\\,$ número total de piezas en el sistema que arribaron en el lapso estudiado.\n",
        "\n",
        "Se seguirá un criterio de priorización FCFS (\"*First Come, First Served*\") o FIFO (\"*First In, First Out*\"); lo que significa que la primera pieza que entre al sistema será la primera atendida por el operario para su ensamble y así sucesivamente con las siguientes piezas.\n",
        "\n",
        "Por lo tanto, cada pieza $\\,i\\,$ será atendida por el operario durante un tiempo $\\,{t_2}_i$; sin embargo, el tiempo que tardarán en ser atendidas por el operario (tiempo de permanencia en el sistema) depende de cada tiempo $\\,{t_2}_i\\,$ y de lo largo que se vaya volviendo la cola de las piezas que siguen en espera; es decir, si una pieza llega cuando el operario sigue ensamblando una, entonces el tiempo de permanencia en el sistema de la pieza recién llegada será igual a $\\,{t_2}_i\\,$ más la diferencia de $\\,{t_2}_i\\,$ menos el tiempo de llegada de la nueva pieza. \n",
        "\n",
        "### **Objetivo:**\n",
        "\n",
        "Con el modelo descrito anteriormente, calcularemos el tiempo de permanencia en el sistema para $\\,n\\,$ piezas e iremos calculando acumulativamente el tiempo de permanencia promedio.\n",
        "\n",
        "Por lo tanto, implementamos el siguiente código:"
      ],
      "metadata": {
        "id": "7MaI2Pp0MX1P"
      }
    },
    {
      "cell_type": "code",
      "source": [
        "import random\n",
        "import numpy as np\n",
        "from math import log\n",
        "from scipy.stats import norm\n",
        "import matplotlib.pyplot as plt"
      ],
      "metadata": {
        "id": "-9JA9Ha6luMK"
      },
      "execution_count": null,
      "outputs": []
    },
    {
      "cell_type": "code",
      "source": [
        "def observacion():                   # Función que nos da el tiempo en minutos que tardó en llegar una pieza al sistema después de la\n",
        "                                     #anterior (lapso entre piezas) y el tiempo que el operario tardó en ensamblarla.\n",
        "  t1 = - 2 * log(random.random())     # Fórmula para v.a. distribuidas exponencialmente a partir de v.a. uniformemente distribuidas:\n",
        "  t2 = - log(random.random())         #     x = - (1/lambda) * ln(u),       con  x ~ Exp(lambda)  y  u ~ U(0,1)\n",
        "  return t1,t2"
      ],
      "metadata": {
        "id": "Sr8t9Jb4mEYr"
      },
      "execution_count": 133,
      "outputs": []
    },
    {
      "cell_type": "code",
      "source": [
        "observacion()"
      ],
      "metadata": {
        "colab": {
          "base_uri": "https://localhost:8080/"
        },
        "id": "JMpgb7mBB6pU",
        "outputId": "33ca6d53-7035-4c76-f951-fda1250114af"
      },
      "execution_count": 134,
      "outputs": [
        {
          "output_type": "execute_result",
          "data": {
            "text/plain": [
              "(4.131343963186314, 0.24968114469790567)"
            ]
          },
          "metadata": {},
          "execution_count": 134
        }
      ]
    },
    {
      "cell_type": "markdown",
      "source": [
        "## **5. Diseñe el experimento.**"
      ],
      "metadata": {
        "id": "6Eq_s5WjsdkL"
      }
    },
    {
      "cell_type": "code",
      "source": [
        "def experimento(n):                      # Función que calcula el tiempo de permanencia acumulada en el sistema de cada pieza. Al\n",
        "  t1,t2 = [],[]                          #final retorna una lista con la evolución del tiempo de permanencia promedio conforme se van\n",
        "  for i in range(n):                     #observando más piezas.\n",
        "    obs1,obs2 = observacion()\n",
        "    t1.append(obs1)                       # Lista con los tiempos de llegada de cada pieza con respecto a la anterior.\n",
        "    t2.append(obs2)                       # Lista con los tiempos que el operario tardó en ensamblar cada pieza.\n",
        "  evol_prom = []\n",
        "  sum_perma,acum = 0,0\n",
        "  for i in range(n-1):\n",
        "    sum_perma += t2[i] + acum             # Suma acumulada \"sum_perma\" de los tiempos de permanencia de cada pieza.\n",
        "    evol_prom.append(sum_perma/(i+1))     # Promedio del tiempo de permanencia de cada pieza conforme se observan más piezas.\n",
        "    if t2[i] + acum <= t1[i+1]:           # Condición que analiza el tiempo extra \"acum\" que se necesita para sacar una pieza del\n",
        "      acum = 0                            #sistema gracias a un retraso por parte del operario.\n",
        "    else:\n",
        "      acum += t2[i] - t1[i+1]\n",
        "  sum_perma += t2[i] + acum               # Suma del tiempo de permanencia de la última pieza.\n",
        "  evol_prom.append(sum_perma/(i+1))       # Tiempo de permanencia promedio en el sistema tomando en cuenta todas las piezas.\n",
        "  return evol_prom                        # Lista \"evol_prom\" con la evolución del tiempo de permanencia promedio."
      ],
      "metadata": {
        "id": "-lGvaYfnTpDl"
      },
      "execution_count": 153,
      "outputs": []
    },
    {
      "cell_type": "code",
      "source": [
        "evol_prom = experimento(200000)    # Realizamos un experimento con número de piezas grande y arbitrario."
      ],
      "metadata": {
        "id": "a6EsT9eHDWJP"
      },
      "execution_count": 154,
      "outputs": []
    },
    {
      "cell_type": "code",
      "source": [
        "plt.plot(evol_prom, 'r')   \n",
        "plt.xlabel('No. de piezas')    \n",
        "plt.ylabel('Tiempo de permanencia promedio en minutos')\n",
        "plt.grid(True)\n",
        "plt.title('Evolución del tiempo de permanencia promedio en el sistema conforme aumenta no. de piezas')\n",
        "plt.show()"
      ],
      "metadata": {
        "colab": {
          "base_uri": "https://localhost:8080/",
          "height": 472
        },
        "id": "ZtUewuG_D_zz",
        "outputId": "816cc15e-18b9-424f-e566-22f93f36807b"
      },
      "execution_count": 155,
      "outputs": [
        {
          "output_type": "display_data",
          "data": {
            "text/plain": [
              "<Figure size 640x480 with 1 Axes>"
            ],
            "image/png": "[encoded data removed]"
          },
          "metadata": {}
        }
      ]
    },
    {
      "cell_type": "code",
      "source": [
        "n = 75000    # Definiendo número de piezas \"n\" para cada experimento a simular."
      ],
      "metadata": {
        "id": "75ALTPQhZFew"
      },
      "execution_count": 156,
      "outputs": []
    },
    {
      "cell_type": "code",
      "source": [
        "print('mu =', np.mean(evol_prom), ', sigma =', np.std(evol_prom))"
      ],
      "metadata": {
        "colab": {
          "base_uri": "https://localhost:8080/"
        },
        "id": "CXrgF9ZVF-4f",
        "outputId": "f8987df9-b668-494b-e2a1-6cbcfe7e9298"
      },
      "execution_count": 157,
      "outputs": [
        {
          "output_type": "stream",
          "name": "stdout",
          "text": [
            "mu = 2.000322326009784 , sigma = 0.04941884220809481\n"
          ]
        }
      ]
    },
    {
      "cell_type": "markdown",
      "source": [
        "## **6. Repita el experimento $N$ veces.**\n",
        "\n",
        "Primero, necesitamos determinar el número $N$ de veces necesarias que se debe simular el experimento para que la probabilidad estimada de que ocurra la observación deseada difiera de su valor verdadero en menos de $\\epsilon$ con un nivel de confianza del $(1 − \\alpha)\\%$.\n",
        "\n",
        "Este número $N$ está dado por\n",
        "\n",
        "  \\begin{align*}\n",
        "  N > \\left( \\frac{2 \\sigma Z_{\\alpha/2}}{\\epsilon} \\right)^2\n",
        "  \\end{align*}\n",
        "\n",
        "Implementamos el siguiente código:"
      ],
      "metadata": {
        "id": "Zg7GTd8gG-PQ"
      }
    },
    {
      "cell_type": "code",
      "source": [
        "epsilon = 0.01    # Establecer la cota superior epsilon para el error de la probabilidad estimada.\n",
        "alpha = 0.05      # Indicar el grado de significancia que tendrá el valor establecido para epsilon."
      ],
      "metadata": {
        "id": "otd0n7UzLhH0"
      },
      "execution_count": 158,
      "outputs": []
    },
    {
      "cell_type": "code",
      "source": [
        "N = int(np.ceil((2*np.std(evol_prom)*norm.ppf(1-alpha/2)/epsilon)**2))  # Cálculo del no. necesario de simulaciones del experimento\n",
        "print(N)"
      ],
      "metadata": {
        "colab": {
          "base_uri": "https://localhost:8080/"
        },
        "id": "mWy2tO5QWQtP",
        "outputId": "c6c94988-2791-4e92-8259-0daa3224b27c"
      },
      "execution_count": 160,
      "outputs": [
        {
          "output_type": "stream",
          "name": "stdout",
          "text": [
            "376\n"
          ]
        }
      ]
    },
    {
      "cell_type": "code",
      "source": [
        "def simulacion(N):                     # Función que devuelve una lista con los tiempos de permanencia promedio estimados en los N\n",
        "  prom = []                            #experimentos realizados.\n",
        "  for i in range(N):\n",
        "    evol_prom = experimento(n)\n",
        "    prom.append(np.mean(evol_prom))\n",
        "  return prom"
      ],
      "metadata": {
        "id": "T4XBtClLHfZC"
      },
      "execution_count": 161,
      "outputs": []
    },
    {
      "cell_type": "code",
      "source": [
        "prom = simulacion(N)    # Realizamos la simulación."
      ],
      "metadata": {
        "id": "UHeTo4KtgiXh"
      },
      "execution_count": 162,
      "outputs": []
    },
    {
      "cell_type": "code",
      "source": [
        "plt.hist(prom, color = 'g', alpha = 0.85)         # La gráfica nos sugiere que la distribución es aparentemente normal.\n",
        "plt.grid(False)\n",
        "plt.title('Distribución del tiempo de permanencia promedio en el sistema')\n",
        "plt.show()"
      ],
      "metadata": {
        "colab": {
          "base_uri": "https://localhost:8080/",
          "height": 453
        },
        "id": "-BWyI8S7g1I2",
        "outputId": "bef4a138-ada7-4395-b044-0ff81fc1a5fb"
      },
      "execution_count": 163,
      "outputs": [
        {
          "output_type": "display_data",
          "data": {
            "text/plain": [
              "<Figure size 640x480 with 1 Axes>"
            ],
            "image/png": "[encoded data removed]"
          },
          "metadata": {}
        }
      ]
    },
    {
      "cell_type": "code",
      "source": [
        "print('mu =', np.mean(prom), ', sigma =', np.std(prom))"
      ],
      "metadata": {
        "colab": {
          "base_uri": "https://localhost:8080/"
        },
        "id": "Sexk4jTzh_E4",
        "outputId": "24514846-f568-41da-9a5a-d50ac289dccb"
      },
      "execution_count": 164,
      "outputs": [
        {
          "output_type": "stream",
          "name": "stdout",
          "text": [
            "mu = 1.9978776935582898 , sigma = 0.03236640023156324\n"
          ]
        }
      ]
    },
    {
      "cell_type": "markdown",
      "source": [
        "## **7. Hallamos el intervalo de confianza.**\n",
        "\n",
        "Utilizamos la fórmula\n",
        "  \\begin{align*}\n",
        "  \\bar{x} - Z_{\\frac{\\alpha}{2}}\\frac{s}{\\sqrt{n}} < \\mu < \\bar{x} + Z_{\\frac{\\alpha}{2}}\\frac{s}{\\sqrt{n}}\n",
        "  \\end{align*}\n",
        "\n",
        "Implementamos el siguiente código:"
      ],
      "metadata": {
        "id": "Gm9gpcrGiIDM"
      }
    },
    {
      "cell_type": "code",
      "source": [
        "mu = np.mean(prom)                                         # Se presenta el intervalos de confianza para la media estimada, de la\n",
        "li = mu - norm.ppf(1-alpha/2) * np.std(prom)/np.sqrt(n)    #forma: \n",
        "ls = mu + norm.ppf(1-alpha/2) * np.std(prom)/np.sqrt(n)    #\n",
        "print(li, '<', mu, '<', ls)                                #        Límite inferior < Media estimada < Límite superior"
      ],
      "metadata": {
        "colab": {
          "base_uri": "https://localhost:8080/"
        },
        "id": "lAbFdrdljIDX",
        "outputId": "0b5730ea-cfa6-464d-ab2b-cc2d5443a0cc"
      },
      "execution_count": 165,
      "outputs": [
        {
          "output_type": "stream",
          "name": "stdout",
          "text": [
            "1.9976460544632997 < 1.9978776935582898 < 1.99810933265328\n"
          ]
        }
      ]
    },
    {
      "cell_type": "markdown",
      "source": [
        "## **8. Comparamos con la solución analítica.**\n",
        "\n",
        "Al estarse trabajando un problema de líneas de espera con sólo una fila de clientes, un solo servidor y criterio de prioridad FIFO; la fórmula ya conocida para calcular el tiempo de permanencia promedio $\\,W\\,$ en el sistema de un solo cliente es \n",
        "\n",
        "$$W = \\frac{1}{\\mu - \\lambda}$$\n",
        "\n",
        "donde $\\,\\lambda\\,$ es el número promedio de llegadas de clientes por periodo y $\\,\\mu\\,$ es el número medio de clientes que completan el servicio en cada periodo.\n",
        "\n",
        "Por lo planteado anteriormente a lo largo de la resolución del problema, se deduce fácilmente que\n",
        "\n",
        "  \\begin{align*}\n",
        "  \\lambda &= \\lambda_1 = 0.5\\;\\,\\text{piezas/minuto} \\\\\n",
        "  \\mu &= \\lambda_2 = 1\\;\\,\\text{pieza/minuto}\n",
        "  \\end{align*}\n",
        "\n",
        "Por lo tanto, el tiempo de permanencia promedio $\\,W\\,$ en el sistema es de\n",
        "\n",
        "$$W = \\frac{1}{1 - 0.5} = \\frac{1}{0.5} = 2\\;\\,\\text{minutos}$$"
      ],
      "metadata": {
        "id": "waDgbDvYlkYJ"
      }
    },
    {
      "cell_type": "code",
      "source": [
        "mu_ana = 2     # Solución analítica del problema.\n",
        "print(mu_ana)    "
      ],
      "metadata": {
        "colab": {
          "base_uri": "https://localhost:8080/"
        },
        "id": "DAVrBEbel5sD",
        "outputId": "f0acdb66-e9ac-4ec5-b369-4cc1e6389b7f"
      },
      "execution_count": 166,
      "outputs": [
        {
          "output_type": "stream",
          "name": "stdout",
          "text": [
            "2\n"
          ]
        }
      ]
    },
    {
      "cell_type": "markdown",
      "source": [
        "# **Solución**"
      ],
      "metadata": {
        "id": "DWUmqLmk7yEJ"
      }
    },
    {
      "cell_type": "code",
      "source": [
        "print('El tiempo de permanencia promedio en el sistema, estimado mediante simulación, para una sola pieza es')\n",
        "print('de ' + str(mu) + ' minutos.\\n')\n",
        "print('El cual difiere en un ' + str(abs(mu - mu_ana)*100 / mu_ana) + '% de la solución analítica.')"
      ],
      "metadata": {
        "colab": {
          "base_uri": "https://localhost:8080/"
        },
        "id": "MRF_an7-8ngY",
        "outputId": "9336fd81-a131-42b5-dc8e-a5eaa4a9bf02"
      },
      "execution_count": 171,
      "outputs": [
        {
          "output_type": "stream",
          "name": "stdout",
          "text": [
            "El tiempo de permanencia promedio en el sistema, estimado mediante simulación, para una sola pieza es\n",
            "de 1.9978776935582898 minutos.\n",
            "\n",
            "El cual difiere en un 0.10611532208550933% de la solución analítica.\n"
          ]
        }
      ]
    }
  ]
}