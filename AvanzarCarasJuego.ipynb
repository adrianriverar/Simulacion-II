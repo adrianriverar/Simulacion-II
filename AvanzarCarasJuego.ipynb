{
  "nbformat": 4,
  "nbformat_minor": 0,
  "metadata": {
    "colab": {
      "provenance": [],
      "authorship_tag": "ABX9TyOE/Kj6NTML+jbQ5W2aKF4M",
      "include_colab_link": true
    },
    "kernelspec": {
      "name": "python3",
      "display_name": "Python 3"
    },
    "language_info": {
      "name": "python"
    }
  },
  "cells": [
    {
      "cell_type": "markdown",
      "metadata": {
        "id": "view-in-github",
        "colab_type": "text"
      },
      "source": [
        "<a href=\"https://colab.research.google.com/github/adrianriverar/Simulacion-II/blob/main/AvanzarCarasJuego.ipynb\" target=\"_parent\"><img src=\"https://colab.research.google.com/assets/colab-badge.svg\" alt=\"Open In Colab\"/></a>"
      ]
    },
    {
      "cell_type": "markdown",
      "source": [
        "# **Problema de juego con tablero redondo**\n",
        "\n",
        "Lanzamos dos monedas y avanzamos a través de los colores, en sentido horario, el número de caras que aparezca.\n",
        "\n",
        "Si repetimos el procedimiento, ¿son todos los colores igual de probables cuando se paso mucho tiempo jugando?\n",
        "\n",
        "![Tablero juego avanzar caras.png](data:image/png;base64,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)"
      ],
      "metadata": {
        "id": "7MaI2Pp0MX1P"
      }
    },
    {
      "cell_type": "markdown",
      "source": [
        "# **Resolución**\n",
        "## **1. Identifique las variables.**\n",
        "\n",
        "Tenemos una: \n",
        "\n",
        "1.   $X:=$ Número de caras posibles que puede haber al lanzar dos monedas.\n",
        "\n",
        "## **2. Determine la distribución de probabilidad.**\n",
        "\n",
        "Debido a los datos proporcionados durante el planteamiento del problema y a su naturaleza misma, se sigue que la variable $\\,X\\,$ posee una distribución discreta.\n",
        "\n",
        "## **3. Modele las variables aleatorias.**\n",
        "\n",
        "Habiendo deducido la distribución de la variable aleatoria, se sigue que\n",
        "\n",
        "|$X$|0|1|2|\n",
        "|-|-|-|-|\n",
        "|$P(X)$|0.25|0.5|0.25|\n",
        "\n",
        "## **4. Defina el modelo del sistema y los objetivos de la simulación.**\n",
        "\n",
        "$X\\,$ básicamente modela la cantidad de casillas que uno avanza por turno y nuestro tiempo $\\,t\\,$ será modelado como el número del turno (lanzamiento de dos monedas) en el que nos encontramos.\n",
        "\n",
        "Se deduce que por la misma naturaleza cíclica del tablero, basta con analizar el juego comenzando desde cualquiera de los colores: no es necesario analizar cada caso donde cada color es el punto de inicio.\n",
        "\n",
        "### **Objetivo:**\n",
        "\n",
        "La probabilidad de que uno caiga en cada uno de los colores después de mucho tiempo jugando será estimada con la frecuencia con la que cada uno de los colores va siendo en el cual caigamos conforme avanza el tiempo.\n",
        "\n",
        "Por lo tanto, implementamos el siguiente código:"
      ],
      "metadata": {
        "id": "IuZ7fMEpR_LW"
      }
    },
    {
      "cell_type": "code",
      "source": [
        "import numpy as np\n",
        "import random\n",
        "import matplotlib.pyplot as plt\n",
        "from scipy.stats import norm"
      ],
      "metadata": {
        "id": "-9JA9Ha6luMK"
      },
      "execution_count": 106,
      "outputs": []
    },
    {
      "cell_type": "code",
      "source": [
        "def turno(color_inicial):                                   # Función que devuelve el color en el caíste al finalizar un turno.\n",
        "  X = np.random.choice([0, 1, 2], p = [0.25, 0.5, 0.25])     # Generamos v.a. X según su distribución especificada anteriormente.\n",
        "  color_final = color_inicial + X\n",
        "  if color_final > 4:                                        # El rojo, naranja, azul y verde están respectivamente mapeados en\n",
        "    color_final -= 4                                         #en sentido horario del 1 al 4. Aquí corregimos cuando el mapeo del\n",
        "  return color_final                                         #color en el que caíste es mayor que 4."
      ],
      "metadata": {
        "id": "Sr8t9Jb4mEYr"
      },
      "execution_count": 107,
      "outputs": []
    },
    {
      "cell_type": "code",
      "source": [
        "turno(4)"
      ],
      "metadata": {
        "colab": {
          "base_uri": "https://localhost:8080/"
        },
        "id": "JMpgb7mBB6pU",
        "outputId": "07b7b69b-3bea-4e61-bb78-5235554fa03b"
      },
      "execution_count": 108,
      "outputs": [
        {
          "output_type": "execute_result",
          "data": {
            "text/plain": [
              "1"
            ]
          },
          "metadata": {},
          "execution_count": 108
        }
      ]
    },
    {
      "cell_type": "markdown",
      "source": [
        "## **5. Diseñe el experimento.**\n",
        "\n",
        "Para estimar la probabilidad de caer en cada uno de los colores después de muchos turnos, ejecutamos $\\,n\\,$ veces la función anterior y calculamos de manera acumulativa la probabilidad deseada a estimar."
      ],
      "metadata": {
        "id": "6Eq_s5WjsdkL"
      }
    },
    {
      "cell_type": "code",
      "source": [
        "n = 3000    # Definiendo tamaño de muestra (número de turnos) \"n\" grande y arbitraria."
      ],
      "metadata": {
        "id": "zu5S0dDGC0Kj"
      },
      "execution_count": 109,
      "outputs": []
    },
    {
      "cell_type": "code",
      "source": [
        "def experimento(n, color_inicial):                    # Función que devuelve lista \"evol_prob\", la cual contiene sublistas con los \n",
        "  evol_prob = [[], [], [], []]                        #valores de la probabilidades estimadas de que caigas en cada color.\n",
        "  frec = [0, 0, 0, 0]\n",
        "  for i in range(n):\n",
        "    color = turno(color_inicial)\n",
        "    frec[color - 1] += 1\n",
        "    evol_prob[color-1].append(frec[color-1]/(i+1))\n",
        "    color_inicial = color\n",
        "  return evol_prob"
      ],
      "metadata": {
        "id": "YHl-3szbtTTb"
      },
      "execution_count": 110,
      "outputs": []
    },
    {
      "cell_type": "code",
      "source": [
        "evol_prob = experimento(n, 1)    # Realizamos el experimento iniciando en el color 1 (rojo)."
      ],
      "metadata": {
        "id": "a6EsT9eHDWJP"
      },
      "execution_count": 111,
      "outputs": []
    },
    {
      "cell_type": "code",
      "source": [
        "colores = [['Rojo', 'r'], ['Naranja', 'orange'], ['Azul', 'b'], ['Verde', 'g']]    # Nombres colores y claves de color."
      ],
      "metadata": {
        "id": "KBPabKr8wym9"
      },
      "execution_count": 112,
      "outputs": []
    },
    {
      "cell_type": "code",
      "source": [
        "fig, axs = plt.subplots(2, 2, sharex = True, sharey = True)    # Podemos asegurar que existe convergencia con 1000 iteraciones.\n",
        "fig.suptitle('Evolución de la probabilidad estimada de que caigas en cada color después de muchos turnos')\n",
        "color = 0\n",
        "for i in range(2):\n",
        "  for j in range(2):\n",
        "    axs[i, j].plot(evol_prob[color], colores[color][1])\n",
        "    axs[i, j].set(xlabel = 'No. de turnos', ylabel = 'Probabilidad')  \n",
        "    axs[i, j].grid()\n",
        "    color += 1\n",
        "\n",
        "for ax in axs.flat:\n",
        "    ax.label_outer()\n",
        "\n",
        "plt.show()"
      ],
      "metadata": {
        "colab": {
          "base_uri": "https://localhost:8080/",
          "height": 497
        },
        "id": "ZtUewuG_D_zz",
        "outputId": "d4443433-4e55-4368-b588-1f957b28be75"
      },
      "execution_count": 113,
      "outputs": [
        {
          "output_type": "display_data",
          "data": {
            "text/plain": [
              "<Figure size 640x480 with 4 Axes>"
            ],
            "image/png": "[encoded data removed]"
          },
          "metadata": {}
        }
      ]
    },
    {
      "cell_type": "code",
      "source": [
        "n = 1000    # Definimos el número de turnos con los que se estudiará cada experimento para cada color."
      ],
      "metadata": {
        "id": "zPRvc5J5rhr6"
      },
      "execution_count": 114,
      "outputs": []
    },
    {
      "cell_type": "code",
      "source": [
        "for color in range(4):\n",
        "  print(colores[color][0],': mu =', np.mean(evol_prob[color]), ', sigma =', np.std(evol_prob[color]))"
      ],
      "metadata": {
        "colab": {
          "base_uri": "https://localhost:8080/"
        },
        "id": "CXrgF9ZVF-4f",
        "outputId": "f02ef8c2-cfc2-4735-90c2-195e4f1b1500"
      },
      "execution_count": 115,
      "outputs": [
        {
          "output_type": "stream",
          "name": "stdout",
          "text": [
            "Rojo : mu = 0.24495810369543491 , sigma = 0.029227717357315802\n",
            "Naranja : mu = 0.2544108614646952 , sigma = 0.020152399415282574\n",
            "Azul : mu = 0.2586369750947851 , sigma = 0.01714423619002212\n",
            "Verde : mu = 0.24852745773747528 , sigma = 0.01706473626992789\n"
          ]
        }
      ]
    },
    {
      "cell_type": "markdown",
      "source": [
        "## **6. Repita el experimento $N$ veces.**\n",
        "\n",
        "Primero, necesitamos determinar el número $N$ de veces necesarias que se debe simular el experimento para que la probabilidad estimada de que ocurra la observación deseada difiera de su valor verdadero en menos de $\\epsilon$ con un nivel de confianza del $(1 − \\alpha)\\%$.\n",
        "\n",
        "Este número $N$ está dado por\n",
        "\n",
        "  \\begin{align}\n",
        "  N > \\left( \\frac{2 \\sigma Z_{\\alpha/2}}{\\epsilon} \\right)^2\n",
        "  \\end{align}\n",
        "\n",
        "Implementamos el siguiente código:"
      ],
      "metadata": {
        "id": "Zg7GTd8gG-PQ"
      }
    },
    {
      "cell_type": "code",
      "source": [
        "epsilon = 0.01    # Establecer la cota superior epsilon para el error de la probabilidad estimada.\n",
        "alpha = 0.05      # Indicar el grado de significancia que tendrá el valor establecido para epsilon."
      ],
      "metadata": {
        "id": "otd0n7UzLhH0"
      },
      "execution_count": 116,
      "outputs": []
    },
    {
      "cell_type": "code",
      "source": [
        "N = []                                                                                   # Cálculo del número de simulaciones\n",
        "for color in range(4):                                                                   #para cada experimento.\n",
        "  N.append(int(np.ceil((2*np.std(evol_prob[color])*norm.ppf(1-alpha/2)/epsilon)**2)))\n",
        "print(N)"
      ],
      "metadata": {
        "colab": {
          "base_uri": "https://localhost:8080/"
        },
        "id": "mWy2tO5QWQtP",
        "outputId": "a7470bf3-7f0b-4411-fb6b-3e84bffe6e2f"
      },
      "execution_count": 117,
      "outputs": [
        {
          "output_type": "stream",
          "name": "stdout",
          "text": [
            "[132, 63, 46, 45]\n"
          ]
        }
      ]
    },
    {
      "cell_type": "code",
      "source": [
        "def simulacion(N_list, color_inicial):                 # Función que devuelve una lista \"prob\", la cual contine las probabilidades\n",
        "  prob = [[], [], [], []]                              #estimadas promedio de los respectivos N experimentos realizados para cada\n",
        "  color = 0                                            #color.\n",
        "  for N in N_list:\n",
        "    for i in range(N):\n",
        "      evol_prob = experimento(n, color_inicial)\n",
        "      prob[color].append(np.mean(evol_prob[color]))\n",
        "    color += 1\n",
        "  return prob"
      ],
      "metadata": {
        "id": "T4XBtClLHfZC"
      },
      "execution_count": 118,
      "outputs": []
    },
    {
      "cell_type": "code",
      "source": [
        "prob = simulacion(N, 1)    # Realizamos la simulación."
      ],
      "metadata": {
        "id": "UHeTo4KtgiXh"
      },
      "execution_count": 119,
      "outputs": []
    },
    {
      "cell_type": "code",
      "source": [
        "fig, axs = plt.subplots(2, 2, sharex = True, sharey = True)\n",
        "fig.suptitle('Distribución de la probabilidad estimada de caer en cada uno de los colores')\n",
        "color = 0\n",
        "for i in range(2):\n",
        "  for j in range(2):\n",
        "    axs[i, j].hist(prob[color], color = colores[color][1], alpha = 0.9)\n",
        "    color += 1\n",
        "\n",
        "for ax in axs.flat:\n",
        "    ax.label_outer()\n",
        "\n",
        "plt.show()"
      ],
      "metadata": {
        "colab": {
          "base_uri": "https://localhost:8080/",
          "height": 478
        },
        "id": "-BWyI8S7g1I2",
        "outputId": "869fe2d3-b418-4e9c-e364-2982cf440d5e"
      },
      "execution_count": 120,
      "outputs": [
        {
          "output_type": "display_data",
          "data": {
            "text/plain": [
              "<Figure size 640x480 with 4 Axes>"
            ],
            "image/png": "[encoded data removed]"
          },
          "metadata": {}
        }
      ]
    },
    {
      "cell_type": "code",
      "source": [
        "for color in range(4):\n",
        "  print(colores[color][0],': mu =', np.mean(prob[color]), ', sigma =', np.std(prob[color]))"
      ],
      "metadata": {
        "colab": {
          "base_uri": "https://localhost:8080/"
        },
        "id": "Sexk4jTzh_E4",
        "outputId": "6c429638-2c19-4b29-b060-6617708a3098"
      },
      "execution_count": 121,
      "outputs": [
        {
          "output_type": "stream",
          "name": "stdout",
          "text": [
            "Rojo : mu = 0.2533255496674455 , sigma = 0.017492224459886005\n",
            "Naranja : mu = 0.25335945642943075 , sigma = 0.014683602552581254\n",
            "Azul : mu = 0.2556099800527843 , sigma = 0.016882008804804036\n",
            "Verde : mu = 0.2521399630859444 , sigma = 0.019067125181923807\n"
          ]
        }
      ]
    },
    {
      "cell_type": "markdown",
      "source": [
        "## **7. Hallamos el intervalo de confianza.**\n",
        "\n",
        "Utilizamos la fórmula\n",
        "  \\begin{align}\n",
        "  \\bar{x} - Z_{\\frac{\\alpha}{2}}\\frac{s}{\\sqrt{n}} < \\mu < \\bar{x} + Z_{\\frac{\\alpha}{2}}\\frac{s}{\\sqrt{n}}\n",
        "  \\end{align}\n",
        "\n",
        "Implementamos el siguiente código:"
      ],
      "metadata": {
        "id": "Gm9gpcrGiIDM"
      }
    },
    {
      "cell_type": "code",
      "source": [
        "mu = []\n",
        "for color in range(4):\n",
        "  mu.append(np.mean(prob[color]))\n",
        "  li = mu[color] - norm.ppf(1 - alpha / 2) * np.std(prob[color]) / np.sqrt(n)\n",
        "  ls = mu[color] + norm.ppf(1 - alpha / 2) * np.std(prob[color]) / np.sqrt(n)\n",
        "  print(colores[color][0], ':', li, '<', mu[color], '<', ls)"
      ],
      "metadata": {
        "colab": {
          "base_uri": "https://localhost:8080/"
        },
        "id": "lAbFdrdljIDX",
        "outputId": "64ccb0c7-b69e-450e-ad82-cf7294fdc477"
      },
      "execution_count": 128,
      "outputs": [
        {
          "output_type": "stream",
          "name": "stdout",
          "text": [
            "Rojo : 0.2522413902850262 < 0.2533255496674455 < 0.2544097090498649\n",
            "Naranja : 0.2524493740375883 < 0.25335945642943075 < 0.2542695388212732\n",
            "Azul : 0.25456364153353034 < 0.2556099800527843 < 0.25665631857203824\n",
            "Verde : 0.25095819213913584 < 0.2521399630859444 < 0.25332173403275293\n"
          ]
        }
      ]
    },
    {
      "cell_type": "markdown",
      "source": [
        "## **8. Comparamos con la solución analítica.**\n",
        "\n",
        "Armamos la matriz estocástica para el caso estudiado, basándonos en la distribución de $\\,X\\,$ anteriormente deducida.\n",
        "\n",
        "Definimos cada estado $\\,i\\,$ utilizando el mapeo numérico que utilizamos para cada color a lo largo de la resolución del problema y obtenemos\n",
        "  \n",
        "  \\begin{align}\n",
        "  P = \\begin{bmatrix}\n",
        "      \\frac{1}{4} & \\frac{1}{2} & \\frac{1}{4} & 0 \\\\\n",
        "      0 & \\frac{1}{4} & \\frac{1}{2} & \\frac{1}{4} \\\\\n",
        "      \\frac{1}{4} & 0 & \\frac{1}{4} & \\frac{1}{2} \\\\\n",
        "      \\frac{1}{2} & \\frac{1}{4} & 0 & \\frac{1}{4}\n",
        "      \\end{bmatrix}\n",
        "  \\end{align}\n",
        "\n",
        "Ahora construimos el sistema de ecuaciones que nos permitirá calcular las probabilidades estacionarias o límite $\\,\\pi_i\\,$ de nuestra matriz de transición $\\,P\\,$.\n",
        "\n",
        "  \\begin{align}\n",
        "  \\pi_1 &= \\frac{\\pi_1}{4} + \\frac{\\pi_3}{4} + \\frac{\\pi_4}{2} \\\\\n",
        "  \\pi_2 &= \\frac{\\pi_1}{2} + \\frac{\\pi_2}{4} + \\frac{\\pi_4}{4} \\\\\n",
        "  \\pi_3 &= \\frac{\\pi_1}{4} + \\frac{\\pi_2}{2} + \\frac{\\pi_3}{4} \\\\\n",
        "  \\pi_4 &= \\frac{\\pi_2}{4} + \\frac{\\pi_3}{2} + \\frac{\\pi_4}{4} \\\\\n",
        "  \\pi_1 &+ \\pi_2 + \\pi_3 + \\pi_4 = 1\n",
        "  \\end{align}\n",
        "\n",
        "Resolvemos el sistema mediante Gauss-Jordan y obtenemos $$\\pi_i = \\frac{1}{4}$$\n",
        "\n",
        "Y por la misma definición de la probabilidad límite, donde se afirma que las probabilidades calculadas $\\,\\pi_i\\,$ son la probabilidad de llegar al estado $\\,i\\,$ partiendo desde cualquiera de los estados después de muchísimo tiempo; podemos seguir que todos los casos, en donde se comienza desde cada color, ya están considerados en esta respuesta.\n",
        "\n",
        "Implementamos el siguiente código:"
      ],
      "metadata": {
        "id": "waDgbDvYlkYJ"
      }
    },
    {
      "cell_type": "code",
      "source": [
        "mu_ana = 1 / 4    # Solución analítica.\n",
        "for color in range(4):\n",
        "  print(colores[color][0], ':', mu_ana)"
      ],
      "metadata": {
        "colab": {
          "base_uri": "https://localhost:8080/"
        },
        "id": "DAVrBEbel5sD",
        "outputId": "a513ec17-0c1c-45b1-d32e-6067f1fc5eef"
      },
      "execution_count": 124,
      "outputs": [
        {
          "output_type": "stream",
          "name": "stdout",
          "text": [
            "Rojo : 0.25\n",
            "Naranja : 0.25\n",
            "Azul : 0.25\n",
            "Verde : 0.25\n"
          ]
        }
      ]
    },
    {
      "cell_type": "markdown",
      "source": [
        "# **Solución**"
      ],
      "metadata": {
        "id": "DWUmqLmk7yEJ"
      }
    },
    {
      "cell_type": "code",
      "source": [
        "print('Si se juegan ' + str(n) + ' turnos en la partida jugada,\\n\\n')\n",
        "print('La probabilidad estimada mediante simulación de caer en un color después de muchos turnos jugados es, para cada color, del:\\n')\n",
        "for color in range(4):\n",
        "  print(colores[color][0], ': ' + str(round(mu[color]*100, 2)) + '%.\\n')\n",
        "\n",
        "print('\\nLas cuales difieren respectivamente en un ', end = '')\n",
        "for color in range(3):\n",
        "  print(str(abs(round((mu[color] - mu_ana)*100 / mu_ana, 2))) + '%, ', end = '')\n",
        "print(str(abs(round((mu[3] - mu_ana)*100 / mu_ana, 2))) + '% de la solución analítica.')"
      ],
      "metadata": {
        "colab": {
          "base_uri": "https://localhost:8080/"
        },
        "id": "MRF_an7-8ngY",
        "outputId": "375c9d0a-0891-4b00-82f2-694a0a8a823b"
      },
      "execution_count": 135,
      "outputs": [
        {
          "output_type": "stream",
          "name": "stdout",
          "text": [
            "Si se juegan 1000 turnos en la partida jugada,\n",
            "\n",
            "\n",
            "La probabilidad estimada mediante simulación de caer en un color después de muchos turnos jugados es, para cada color, del:\n",
            "\n",
            "Rojo : 25.33%.\n",
            "\n",
            "Naranja : 25.34%.\n",
            "\n",
            "Azul : 25.56%.\n",
            "\n",
            "Verde : 25.21%.\n",
            "\n",
            "\n",
            "Las cuales difieren respectivamente en un 1.33%, 1.34%, 2.24%, 0.86% de la solución analítica.\n"
          ]
        }
      ]
    }
  ]
}