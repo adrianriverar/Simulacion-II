{
  "nbformat": 4,
  "nbformat_minor": 0,
  "metadata": {
    "colab": {
      "provenance": [],
      "authorship_tag": "ABX9TyMzd6+yDDezP8B0smhxa6z8",
      "include_colab_link": true
    },
    "kernelspec": {
      "name": "python3",
      "display_name": "Python 3"
    },
    "language_info": {
      "name": "python"
    }
  },
  "cells": [
    {
      "cell_type": "markdown",
      "metadata": {
        "id": "view-in-github",
        "colab_type": "text"
      },
      "source": [
        "<a href=\"https://colab.research.google.com/github/adrianriverar/Simulacion-II/blob/main/serpEscaleras.ipynb\" target=\"_parent\"><img src=\"https://colab.research.google.com/assets/colab-badge.svg\" alt=\"Open In Colab\"/></a>"
      ]
    },
    {
      "cell_type": "markdown",
      "source": [
        "# Serpientes y escaleras\n",
        "\n",
        "### Creando el tablero"
      ],
      "metadata": {
        "id": "IJhJ8GLVNIHv"
      }
    },
    {
      "cell_type": "code",
      "execution_count": 18,
      "metadata": {
        "id": "TgZJzd3b_cXs"
      },
      "outputs": [],
      "source": [
        "import numpy as np"
      ]
    },
    {
      "cell_type": "markdown",
      "source": [
        "Ingresamos el número $n$ de filas (*n_row*) y $m$ de columnas (*n_col*) que tendrá nuestro tablero de tamaño $n\\times m$.\n",
        "\n"
      ],
      "metadata": {
        "id": "rkCqjy_NMW8B"
      }
    },
    {
      "cell_type": "code",
      "source": [
        "n_row = 5\n",
        "n_col = 4 "
      ],
      "metadata": {
        "id": "XBvO6zu4Llj0"
      },
      "execution_count": 19,
      "outputs": []
    },
    {
      "cell_type": "markdown",
      "source": [
        "Ingresamos de dónde a dónde estarán nuestras escaleras y serpientes.\n",
        "\n",
        "***Nota:*** Cada escalera o serpiente deberá de ser ingresada dentro de una lista de forma ascendente y descendente respectivamente, y el conjunto de cada uno de estos en una lista de listas (matriz).\n",
        "\n",
        "\n",
        "\n",
        "```\n",
        "escaleras =  [[casilla de inicio, casilla de término], ..., [casilla de inicio, casilla de término]]\n",
        "\n",
        "serpientes =  [[casilla de inicio, casilla de término], ..., [casilla de inicio, casilla de término]]\n",
        "```\n",
        "\n"
      ],
      "metadata": {
        "id": "wzLVvztbNaNV"
      }
    },
    {
      "cell_type": "code",
      "source": [
        "stairs = [[3, 11], [15, 19]]\n",
        "snakes = [[13, 4], [17, 10]]"
      ],
      "metadata": {
        "id": "5iz9NzEDLs2-"
      },
      "execution_count": 13,
      "outputs": []
    },
    {
      "cell_type": "markdown",
      "source": [
        "Imprimimos nuestro tablero de juego para visualizar mejor lo que está ocurriendo."
      ],
      "metadata": {
        "id": "GkihovqXbRxI"
      }
    },
    {
      "cell_type": "code",
      "source": [
        "size_ver = 400    # Tamaño vertical en pixeles del tablero.\n",
        "\n",
        "from PIL import Image, ImageDraw\n",
        "\n",
        "size_hor = round(size_ver * n_col/n_row)\n",
        "col_spawn = round(size_hor/n_col)\n",
        "row_spawn = round(size_ver/n_row)\n",
        "\n",
        "board = Image.new('RGB', (size_hor, size_ver), (255, 255, 255))    # Generando tablero blanco.\n",
        "draw = ImageDraw.Draw(board)                                       # Creando objeto para poder dibujar el tablero.\n",
        "\n",
        "# Dibujando líneas verticales.\n",
        "bias = 0\n",
        "for i in range(n_col + 1):\n",
        "  if i == n_col:\n",
        "    bias = 1\n",
        "  draw.line([(i * col_spawn - bias, - bias), (i * col_spawn - bias, size_ver - bias)], fill = 0)\n",
        "\n",
        "# Dibujando líneas horizontales.\n",
        "bias = 0\n",
        "for i in range(n_row + 1):\n",
        "  if i == n_row:\n",
        "    bias = 1\n",
        "  draw.line([(- bias, i * row_spawn - bias), (size_hor - bias, i * row_spawn - bias)], fill = 0)  \n",
        "\n",
        "# Dibujando números de cada casilla.\n",
        "bias = 1\n",
        "counter = 0\n",
        "for i in range(n_row):\n",
        "  if i % 2 == 0:\n",
        "    for j in range(n_col):\n",
        "      counter += 1\n",
        "      draw.text((j * col_spawn + bias + 1, (n_row - 1 - i) * row_spawn + bias), str(counter), fill = 0)\n",
        "  else:\n",
        "    for j in range(n_col-1, -1, -1):\n",
        "      counter += 1\n",
        "      draw.text((j * col_spawn + bias + 1, (n_row - 1 - i) * row_spawn + bias), str(counter), fill = 0)\n",
        "\n",
        "# Función para almacenar las coordenadas del centro de cada casilla en una lista.\n",
        "def coordinates(mtr):\n",
        "  stroke = []\n",
        "  for arr in mtr:\n",
        "    coor = []\n",
        "    for square in arr:\n",
        "      flag = 0\n",
        "      for i in range(n_row):\n",
        "        if flag == square:\n",
        "          break\n",
        "        y = (n_row - i - 0.5) * row_spawn\n",
        "        if i % 2 == 0:\n",
        "          for j in range(n_col):\n",
        "            x = (j + 0.5) * col_spawn\n",
        "            flag += 1\n",
        "            if flag == square:\n",
        "              break\n",
        "        else:\n",
        "          for j in range(n_col-1, -1, -1):\n",
        "            x = (j + 0.5) * col_spawn\n",
        "            flag += 1\n",
        "            if flag == square:\n",
        "              break\n",
        "      coor.append((x, y))\n",
        "    stroke.append(coor)\n",
        "  return stroke\n",
        "    \n",
        "# Dibujando serpientes y escaleras.\n",
        "stair_strokes = coordinates(stairs)\n",
        "for stair in stair_strokes:\n",
        "  draw.line(stair, fill = 100, width = 7)\n",
        "\n",
        "snake_strokes = coordinates(snakes)\n",
        "for snake in snake_strokes:\n",
        "  draw.line(snake, fill = (34,139,34), width = 7)\n",
        "\n",
        "# Imprimiendo tablero de juego completo.\n",
        "board.show()"
      ],
      "metadata": {
        "colab": {
          "base_uri": "https://localhost:8080/",
          "height": 417
        },
        "id": "c2xaKWuhbLjL",
        "outputId": "a5ada03c-5e8d-4ee5-b5c2-162dfc68e327"
      },
      "execution_count": 21,
      "outputs": [
        {
          "output_type": "display_data",
          "data": {
            "text/plain": [
              "<PIL.Image.Image image mode=RGB size=320x400 at 0x7F5170119330>"
            ],
            "image/png": "[encoded data removed]"
          },
          "metadata": {}
        }
      ]
    },
    {
      "cell_type": "markdown",
      "source": [
        "\n",
        "\n",
        "### Creando matriz estocástica\n",
        "\n",
        "Ahora creamos nuestra matriz estocástica que modelará nuestro juego de serpientes y escaleras. \n",
        "\n",
        "El estado final (la casilla ganadora, la 20) es un estado absorbente ya que, al ya haber ganado, no hay forma de \"salir\" de esa casilla.\n",
        "\n",
        "$$ \\begin{equation} P =\n",
        "\\begin{pmatrix}\n",
        "0 & 1/6 & 1/6 & 1/6 & 1/6 & 1/6 & 1/6 & 0 & 0 & 0 & 0 & 0 & 0 & 0 & 0 & 0 & 0 & 0 & 0 & 0 \\\\\n",
        "0 & 0 & 1/6 & 1/6 & 1/6 & 1/6 & 1/6 & 1/6 & 0 & 0 & 0 & 0 & 0 & 0 & 0 & 0 & 0 & 0 & 0 & 0 \\\\\n",
        "0 & 0 & 0 & 0 & 0 & 0 & 0 & 0 & 0 & 0 & 1 & 0 & 0 & 0 & 0 & 0 & 0 & 0 & 0 & 0 \\\\\n",
        "0 & 0 & 0 & 0 & 1/6 & 1/6 & 1/6 & 1/6 & 1/6 & 1/6 & 0 & 0 & 0 & 0 & 0 & 0 & 0 & 0 & 0 & 0 \\\\\n",
        "0 & 0 & 0 & 0 & 0 & 1/6 & 1/6 & 1/6 & 1/6 & 1/6 & 1/6 & 0 & 0 & 0 & 0 & 0 & 0 & 0 & 0 & 0 \\\\\n",
        "0 & 0 & 0 & 0 & 0 & 0 & 1/6 & 1/6 & 1/6 & 1/6 & 1/6 & 1/6 & 0 & 0 & 0 & 0 & 0 & 0 & 0 & 0 \\\\\n",
        "0 & 0 & 0 & 0 & 0 & 0 & 0 & 1/6 & 1/6 & 1/6 & 1/6 & 1/6 & 1/6 & 0 & 0 & 0 & 0 & 0 & 0 & 0 \\\\\n",
        "0 & 0 & 0 & 0 & 0 & 0 & 0 & 0 & 1/6 & 1/6 & 1/6 & 1/6 & 1/6 & 1/6 & 0 & 0 & 0 & 0 & 0 & 0 \\\\\n",
        "0 & 0 & 0 & 0 & 0 & 0 & 0 & 0 & 0 & 1/6 & 1/6 & 1/6 & 1/6 & 1/6 & 1/6 & 0 & 0 & 0 & 0 & 0 \\\\\n",
        "0 & 0 & 0 & 0 & 0 & 0 & 0 & 0 & 0 & 0 & 1/6 & 1/6 & 1/6 & 1/6 & 1/6 & 1/6 & 0 & 0 & 0 & 0 \\\\\n",
        "0 & 0 & 0 & 0 & 0 & 0 & 0 & 0 & 0 & 0 & 0 & 1/6 & 1/6 & 1/6 & 1/6 & 1/6 & 1/6 & 0 & 0 & 0 \\\\\n",
        "0 & 0 & 0 & 0 & 0 & 0 & 0 & 0 & 0 & 0 & 0 & 0 & 1/6 & 1/6 & 1/6 & 1/6 & 1/6 & 1/6 & 0 & 0 \\\\\n",
        "0 & 0 & 0 & 1 & 0 & 0 & 0 & 0 & 0 & 0 & 0 & 0 & 0 & 0 & 0 & 0 & 0 & 0 & 0 & 0 \\\\\n",
        "0 & 0 & 0 & 0 & 0 & 0 & 0 & 0 & 0 & 0 & 0 & 0 & 0 & 0 & 1/6 & 1/6 & 1/6 & 1/6 & 1/6 & 1/6 \\\\\n",
        "0 & 0 & 0 & 0 & 0 & 0 & 0 & 0 & 0 & 0 & 0 & 0 & 0 & 0 & 0 & 0 & 0 & 0 & 1 & 0 \\\\\n",
        "0 & 0 & 0 & 0 & 0 & 0 & 0 & 0 & 0 & 0 & 0 & 0 & 0 & 0 & 0 & 0 & 1/6 & 1/6 & 1/6 & 1/2 \\\\\n",
        "0 & 0 & 0 & 0 & 0 & 0 & 0 & 0 & 0 & 1 & 0 & 0 & 0 & 0 & 0 & 0 & 0 & 0 & 0 & 0 \\\\\n",
        "0 & 0 & 0 & 0 & 0 & 0 & 0 & 0 & 0 & 0 & 0 & 0 & 0 & 0 & 0 & 0 & 0 & 0 & 1/6 & 5/6 \\\\\n",
        "0 & 0 & 0 & 0 & 0 & 0 & 0 & 0 & 0 & 0 & 0 & 0 & 0 & 0 & 0 & 0 & 0 & 0 & 0 & 1 \\\\\n",
        "0 & 0 & 0 & 0 & 0 & 0 & 0 & 0 & 0 & 0 & 0 & 0 & 0 & 0 & 0 & 0 & 0 & 0 & 0 & 1 \\\\\n",
        "\\end{pmatrix}\n",
        "\\end{equation} $$\n"
      ],
      "metadata": {
        "id": "HgclGGjpOJW7"
      }
    },
    {
      "cell_type": "code",
      "source": [
        "# Creando matriz de ceros de n x m.\n",
        "n_squares = n_row * n_col\n",
        "M = [[0]*n_squares for _ in range(n_squares)]\n",
        "\n",
        "# Distribuímos las respectivas probabilidades para cada cambio de estado.\n",
        "for i in range(n_squares):\n",
        "  for j in range(n_squares):\n",
        "    if j >= (i + 1) and j <= (i + 6):\n",
        "      M[i][j] = 1 / 6\n",
        "    if (i + 6) >= n_squares:\n",
        "      rest = i + 6 - n_squares + 1\n",
        "      M[i][n_squares - 1] = (rest + 1) / 6\n",
        "    if M[i][j] > 1:\n",
        "      M[i][j] = 1\n",
        "\n",
        "# Colocamos las respectivas distribuciones de probabilidad que representa cada escalera.\n",
        "for stair in stairs:\n",
        "  M[stair[0] - 1] = [0]*n_squares\n",
        "  M[stair[0] - 1][stair[1] - 1] = 1\n",
        "\n",
        "# Colocamos las respectivas distribuciones de probabilidad que representa cada serpiente.\n",
        "for snake in snakes:\n",
        "  M[snake[0] - 1] = [0]*n_squares\n",
        "  M[snake[0] - 1][snake[1] - 1] = 1\n",
        "\n",
        "M = np.array(M)"
      ],
      "metadata": {
        "id": "Zw1TWVDiLxHw"
      },
      "execution_count": 22,
      "outputs": []
    },
    {
      "cell_type": "markdown",
      "source": [
        "### Forma canónica de una matriz estocástica\n",
        "\n",
        "Consideremos cualquier cadena de Markov arbitraria. Reubicamos los estados para poner los transitorios primero. Si hay $r$ estados absorbentes y $t$ transitorios, la matriz de probabilidades de transición tendrá la siguiente forma canónica:\n",
        "\n",
        "$$ \\begin{equation} P =\n",
        "\\begin{pmatrix}\n",
        "Q & R \\\\\n",
        "0 & I\n",
        "\\end{pmatrix}\n",
        "\\end{equation} $$\n",
        "\n",
        "Aquí $I$ es la matriz identidad de orden $r$, $0$ es una matriz nula $r\\times t$, $R$ es una matriz $t\\times r$ y $Q$ es una matriz $t\\times t$.\n",
        "\n",
        "Partiendo de nuestra matriz de transición $P$, se sigue que\n",
        "\n",
        "$$ \\begin{equation} Q_{t\\times t} =\n",
        "\\begin{pmatrix}\n",
        "0 & 1/6 & 1/6 & 1/6 & 1/6 & 1/6 & 1/6 & 0 & 0 & 0 & 0 & 0 & 0 & 0 & 0 & 0 & 0 & 0 & 0  \\\\\n",
        "0 & 0 & 1/6 & 1/6 & 1/6 & 1/6 & 1/6 & 1/6 & 0 & 0 & 0 & 0 & 0 & 0 & 0 & 0 & 0 & 0 & 0 \\\\\n",
        "0 & 0 & 0 & 0 & 0 & 0 & 0 & 0 & 0 & 0 & 1 & 0 & 0 & 0 & 0 & 0 & 0 & 0 & 0 \\\\\n",
        "0 & 0 & 0 & 0 & 1/6 & 1/6 & 1/6 & 1/6 & 1/6 & 1/6 & 0 & 0 & 0 & 0 & 0 & 0 & 0 & 0 & 0 \\\\\n",
        "0 & 0 & 0 & 0 & 0 & 1/6 & 1/6 & 1/6 & 1/6 & 1/6 & 1/6 & 0 & 0 & 0 & 0 & 0 & 0 & 0 & 0 \\\\\n",
        "0 & 0 & 0 & 0 & 0 & 0 & 1/6 & 1/6 & 1/6 & 1/6 & 1/6 & 1/6 & 0 & 0 & 0 & 0 & 0 & 0 & 0 \\\\\n",
        "0 & 0 & 0 & 0 & 0 & 0 & 0 & 1/6 & 1/6 & 1/6 & 1/6 & 1/6 & 1/6 & 0 & 0 & 0 & 0 & 0 & 0 \\\\\n",
        "0 & 0 & 0 & 0 & 0 & 0 & 0 & 0 & 1/6 & 1/6 & 1/6 & 1/6 & 1/6 & 1/6 & 0 & 0 & 0 & 0 & 0 \\\\\n",
        "0 & 0 & 0 & 0 & 0 & 0 & 0 & 0 & 0 & 1/6 & 1/6 & 1/6 & 1/6 & 1/6 & 1/6 & 0 & 0 & 0 & 0 \\\\\n",
        "0 & 0 & 0 & 0 & 0 & 0 & 0 & 0 & 0 & 0 & 1/6 & 1/6 & 1/6 & 1/6 & 1/6 & 1/6 & 0 & 0 & 0 \\\\\n",
        "0 & 0 & 0 & 0 & 0 & 0 & 0 & 0 & 0 & 0 & 0 & 1/6 & 1/6 & 1/6 & 1/6 & 1/6 & 1/6 & 0 & 0 \\\\\n",
        "0 & 0 & 0 & 0 & 0 & 0 & 0 & 0 & 0 & 0 & 0 & 0 & 1/6 & 1/6 & 1/6 & 1/6 & 1/6 & 1/6 & 0 \\\\\n",
        "0 & 0 & 0 & 1 & 0 & 0 & 0 & 0 & 0 & 0 & 0 & 0 & 0 & 0 & 0 & 0 & 0 & 0 & 0 \\\\\n",
        "0 & 0 & 0 & 0 & 0 & 0 & 0 & 0 & 0 & 0 & 0 & 0 & 0 & 0 & 1/6 & 1/6 & 1/6 & 1/6 & 1/6 \\\\\n",
        "0 & 0 & 0 & 0 & 0 & 0 & 0 & 0 & 0 & 0 & 0 & 0 & 0 & 0 & 0 & 0 & 0 & 0 & 1 \\\\\n",
        "0 & 0 & 0 & 0 & 0 & 0 & 0 & 0 & 0 & 0 & 0 & 0 & 0 & 0 & 0 & 0 & 1/6 & 1/6 & 1/6 \\\\\n",
        "0 & 0 & 0 & 0 & 0 & 0 & 0 & 0 & 0 & 1 & 0 & 0 & 0 & 0 & 0 & 0 & 0 & 0 & 0 \\\\\n",
        "0 & 0 & 0 & 0 & 0 & 0 & 0 & 0 & 0 & 0 & 0 & 0 & 0 & 0 & 0 & 0 & 0 & 0 & 1/6 \\\\\n",
        "0 & 0 & 0 & 0 & 0 & 0 & 0 & 0 & 0 & 0 & 0 & 0 & 0 & 0 & 0 & 0 & 0 & 0 & 0 \\\\\n",
        "\\end{pmatrix}\n",
        "\\end{equation} $$\n",
        "\n",
        "\n",
        "$$ \\begin{equation} R_{t\\times r} =\n",
        "\\begin{pmatrix}\n",
        "0 \\\\\n",
        "0 \\\\\n",
        "0 \\\\\n",
        "0 \\\\\n",
        "0 \\\\\n",
        "0 \\\\\n",
        "0 \\\\\n",
        "0 \\\\\n",
        "0 \\\\\n",
        "0 \\\\\n",
        "0 \\\\\n",
        "0 \\\\\n",
        "0 \\\\\n",
        "1/6 \\\\\n",
        "0 \\\\\n",
        "1/2 \\\\\n",
        "0 \\\\\n",
        "5/6 \\\\\n",
        "1\n",
        "\\end{pmatrix}\n",
        "\\end{equation} $$\n",
        "\n",
        "$$ \\begin{equation} 0_{r\\times t} =\n",
        "\\begin{pmatrix}\n",
        "0 & 0 & 0 & 0 & 0 & 0 & 0 & 0 & 0 & 0 & 0 & 0 & 0 & 0 & 0 & 0 & 0 & 0 & 0\n",
        "\\end{pmatrix}\n",
        "\\end{equation} $$\n",
        "\n",
        "$$ \\begin{equation} I_{r\\times r} =\n",
        "\\begin{pmatrix}\n",
        "1\n",
        "\\end{pmatrix}\n",
        "\\end{equation} $$"
      ],
      "metadata": {
        "id": "TYhx_UkSO4pD"
      }
    },
    {
      "cell_type": "markdown",
      "source": [
        "### Matriz fundamental\n",
        "\n",
        "Está definida como\n",
        "\n",
        "$ N = (I - Q)^{-1} $\n",
        "\n",
        "Ahora enunciamos.\n",
        "\n",
        "**Teorema 1.** Dada una cadena que empieza en el estado $s_i$, denotamos por $t_i$ el tiempo promedio del número de pasos antes de que la cadena sea absorbida (i.e., el tiempo medio de absorción de todas las posibles realizaciones de una cadena que empieza en $s_i$).\n",
        "$t_i$ se obtiene sumando todos los elementos de la fila $i$-ésima de la matriz fundamental del proceso.\n",
        "\n",
        "Por lo tanto, calculamos $t_1$."
      ],
      "metadata": {
        "id": "cvj9PI-dZDOW"
      }
    },
    {
      "cell_type": "code",
      "source": [
        "Q = np.delete(np.delete(M, n_squares - 1, axis = 1), n_squares - 1, axis = 0)\n",
        "N = np.linalg.inv(np.eye(n_squares - 1) - Q)\n",
        "sum_vec = np.sum(N, axis = 1)\n",
        "print(sum_vec[0])"
      ],
      "metadata": {
        "colab": {
          "base_uri": "https://localhost:8080/"
        },
        "id": "0UCwHNL4SqDK",
        "outputId": "2fe62250-bb4b-4945-a260-e06ae5a28d0a"
      },
      "execution_count": 23,
      "outputs": [
        {
          "output_type": "stream",
          "name": "stdout",
          "text": [
            "8.291379520352613\n"
          ]
        }
      ]
    },
    {
      "cell_type": "markdown",
      "source": [
        "En conclusión, el número promedio $t_i$ de tiros del dado para ganar el juego es igual a $8.3$."
      ],
      "metadata": {
        "id": "PvyLMyuNao5J"
      }
    }
  ]
}