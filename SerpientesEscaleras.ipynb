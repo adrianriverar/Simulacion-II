{
  "nbformat": 4,
  "nbformat_minor": 0,
  "metadata": {
    "colab": {
      "provenance": [],
      "authorship_tag": "ABX9TyMfvEMdrHLw16KwMAti+nlv",
      "include_colab_link": true
    },
    "kernelspec": {
      "name": "python3",
      "display_name": "Python 3"
    },
    "language_info": {
      "name": "python"
    }
  },
  "cells": [
    {
      "cell_type": "markdown",
      "metadata": {
        "id": "view-in-github",
        "colab_type": "text"
      },
      "source": [
        "<a href=\"https://colab.research.google.com/github/adrianriverar/Simulacion-II/blob/main/SerpientesEscaleras.ipynb\" target=\"_parent\"><img src=\"https://colab.research.google.com/assets/colab-badge.svg\" alt=\"Open In Colab\"/></a>"
      ]
    },
    {
      "cell_type": "markdown",
      "source": [
        "# **Problema juego serpientes y escaleras**\n",
        "\n",
        "Dado el tablero para jugar serpientes y escaleras que se presenta a continuación, calcule el número promedio de lanzamientos de un dado nivelado de seis caras (un lanzamiento por turno, por avance) que se necesita para terminar el juego.\n",
        "\n",
        "Suponer que en esta versión del clásico juego uno no avanza en dirección contraria desde la última casilla si el lanzamiento que se hizo indicó un número de pasos que excedió a la localización de la ya mencionada casilla ganadora.\n",
        "\n",
        "Representamos el tablero gráficamente. Implementamos el siguiente código:"
      ],
      "metadata": {
        "id": "7MaI2Pp0MX1P"
      }
    },
    {
      "cell_type": "code",
      "source": [
        "import numpy as np\n",
        "import random as rand\n",
        "from scipy.stats import norm\n",
        "import matplotlib.pyplot as plt\n",
        "from PIL import Image, ImageDraw"
      ],
      "metadata": {
        "id": "hNShFFZvdiEC"
      },
      "execution_count": 168,
      "outputs": []
    },
    {
      "cell_type": "markdown",
      "source": [
        "Ingresamos el número $n$ de filas (*n_row*) y $m$ de columnas (*n_col*) que tendrá nuestro tablero de tamaño $n\\times m$."
      ],
      "metadata": {
        "id": "Yi6hZ5f4d179"
      }
    },
    {
      "cell_type": "code",
      "source": [
        "n_row = 5                    # Número de filas.\n",
        "n_col = 4                    # Número de columnas.\n",
        "n_squares = n_row * n_col"
      ],
      "metadata": {
        "id": "n3NiO7lgdyYk"
      },
      "execution_count": 170,
      "outputs": []
    },
    {
      "cell_type": "markdown",
      "source": [
        "Ingresamos de dónde a dónde estarán nuestras escaleras y serpientes.\n",
        "\n",
        "***Nota:*** Cada escalera o serpiente deberá de ser ingresada dentro de una lista de forma ascendente y descendente respectivamente, y el conjunto de cada uno de estos en una lista de listas (matriz).\n",
        "\n",
        "\n",
        "\n",
        "```\n",
        "escaleras =  [[casilla de inicio, casilla de término], ... , [casilla de inicio, casilla de término]]\n",
        "\n",
        "serpientes =  [[casilla de inicio, casilla de término], ... , [casilla de inicio, casilla de término]]\n",
        "```"
      ],
      "metadata": {
        "id": "Kqg5AOw9eEOB"
      }
    },
    {
      "cell_type": "code",
      "source": [
        "stairs = [[3, 11], [15, 19]]\n",
        "snakes = [[13, 4], [17, 10]]"
      ],
      "metadata": {
        "id": "HkswVS_rePHF"
      },
      "execution_count": 171,
      "outputs": []
    },
    {
      "cell_type": "markdown",
      "source": [
        "Ahora imprimimos nuestro tablero de juego para visualizar mejor lo que está ocurriendo."
      ],
      "metadata": {
        "id": "If31yCT9eUJX"
      }
    },
    {
      "cell_type": "code",
      "source": [
        "size_ver = 400    # Tamaño vertical en pixeles del tablero.\n",
        "\n",
        "size_hor = round(size_ver * n_col/n_row)\n",
        "col_spawn = round(size_hor/n_col)\n",
        "row_spawn = round(size_ver/n_row)\n",
        "\n",
        "board = Image.new('RGB', (size_hor, size_ver), (255, 255, 255))    # Generando tablero blanco.\n",
        "draw = ImageDraw.Draw(board)                                       # Creando objeto para poder dibujar el tablero.\n",
        "\n",
        "# Dibujando líneas verticales.\n",
        "bias = 0\n",
        "for i in range(n_col + 1):\n",
        "  if i == n_col:\n",
        "    bias = 1\n",
        "  draw.line([(i * col_spawn - bias, - bias), (i * col_spawn - bias, size_ver - bias)], fill = 0)\n",
        "\n",
        "# Dibujando líneas horizontales.\n",
        "bias = 0\n",
        "for i in range(n_row + 1):\n",
        "  if i == n_row:\n",
        "    bias = 1\n",
        "  draw.line([(- bias, i * row_spawn - bias), (size_hor - bias, i * row_spawn - bias)], fill = 0)  \n",
        "\n",
        "# Dibujando números de cada casilla.\n",
        "bias = 1\n",
        "counter = 0\n",
        "for i in range(n_row):\n",
        "  if i % 2 == 0:\n",
        "    for j in range(n_col):\n",
        "      counter += 1\n",
        "      draw.text((j * col_spawn + bias + 1, (n_row - 1 - i) * row_spawn + bias), str(counter), fill = 0)\n",
        "  else:\n",
        "    for j in range(n_col-1, -1, -1):\n",
        "      counter += 1\n",
        "      draw.text((j * col_spawn + bias + 1, (n_row - 1 - i) * row_spawn + bias), str(counter), fill = 0)\n",
        "\n",
        "# Función para almacenar las coordenadas del centro de cada casilla en una lista.\n",
        "def coordinates(mtr):\n",
        "  stroke = []\n",
        "  for arr in mtr:\n",
        "    coor = []\n",
        "    for square in arr:\n",
        "      flag = 0\n",
        "      for i in range(n_row):\n",
        "        if flag == square:\n",
        "          break\n",
        "        y = (n_row - i - 0.5) * row_spawn\n",
        "        if i % 2 == 0:\n",
        "          for j in range(n_col):\n",
        "            x = (j + 0.5) * col_spawn\n",
        "            flag += 1\n",
        "            if flag == square:\n",
        "              break\n",
        "        else:\n",
        "          for j in range(n_col-1, -1, -1):\n",
        "            x = (j + 0.5) * col_spawn\n",
        "            flag += 1\n",
        "            if flag == square:\n",
        "              break\n",
        "      coor.append((x, y))\n",
        "    stroke.append(coor)\n",
        "  return stroke\n",
        "    \n",
        "# Dibujando serpientes y escaleras.\n",
        "stair_strokes = coordinates(stairs)\n",
        "for stair in stair_strokes:\n",
        "  draw.line(stair, fill = 100, width = 7)\n",
        "\n",
        "snake_strokes = coordinates(snakes)\n",
        "for snake in snake_strokes:\n",
        "  draw.line(snake, fill = (34,139,34), width = 7)\n",
        "\n",
        "# Imprimiendo tablero de juego completo.\n",
        "board.show()"
      ],
      "metadata": {
        "colab": {
          "base_uri": "https://localhost:8080/",
          "height": 417
        },
        "id": "H4hYT5AmeWTb",
        "outputId": "1f4975aa-d71b-46ae-8971-e4c97a90b11d"
      },
      "execution_count": 172,
      "outputs": [
        {
          "output_type": "display_data",
          "data": {
            "text/plain": [
              "<PIL.Image.Image image mode=RGB size=320x400 at 0x7FF2B4863BE0>"
            ],
            "image/png": "[encoded data removed]"
          },
          "metadata": {}
        }
      ]
    },
    {
      "cell_type": "markdown",
      "source": [
        "# **Resolución**\n",
        "## **1. Identifique las variables.**\n",
        "\n",
        "Tenemos una: \n",
        "\n",
        "1.   $X:=$ Número de casillas a avanzar (lanzamiento de un dado).\n",
        "\n",
        "## **2. Determine la distribución de probabilidad.**\n",
        "\n",
        "Debido a los datos proporcionados durante el planteamiento del problema, se sigue que la variable aleatoria posee una distribución uniforme discreta.\n",
        "\n",
        "## **3. Modele las variables aleatorias.**\n",
        "\n",
        "La distribución de probabilidad de $\\,X\\,$ es\n",
        "\n",
        "|$X$|1|2|3|4|5|6|\n",
        "|-|-|-|-|-|-|-\n",
        "|$P(X)$|$\\frac{1}{6}$|$\\frac{1}{6}$|$\\frac{1}{6}$|$\\frac{1}{6}$|$\\frac{1}{6}$|$\\frac{1}{6}$|\n",
        "\n",
        "## **4. Defina el modelo del sistema y los objetivos de la simulación.**\n",
        "\n",
        "$X\\,$ determina el número de casillas que avanzamos por turno.\n",
        "\n",
        "### **Objetivo:**\n",
        "\n",
        "Generar suficientes $\\,X\\,$ hasta ganar una partida. Contaremos el número de tiros que se necesitaron para ganar muchas partidas y determinaremos el número promedio de tiros para ganar el juego con el tablero especificado. \n",
        "\n",
        "Por lo tanto, implementamos el siguiente código:"
      ],
      "metadata": {
        "id": "4L17jnY1di7l"
      }
    },
    {
      "cell_type": "code",
      "source": [
        "def partida():                                                                      # Función que simula una partida del juego y\n",
        "  casilla = 1                                                                       #devuelve el número de lanzamientos que se\n",
        "  turno = 0                                                                         #necesitaron para que un jugador gane.\n",
        "  while casilla < n_squares:\n",
        "    X = np.random.choice([1, 2, 3, 4, 5, 6], p = [1/6, 1/6, 1/6, 1/6, 1/6, 1/6])\n",
        "    casilla += X\n",
        "    turno += 1\n",
        "    for stair,snake in stairs,snakes:\n",
        "      if casilla == stair[0]:\n",
        "        casilla = stair[1]\n",
        "      elif casilla == snake[0]:\n",
        "        casilla = snake[1]\n",
        "  return turno"
      ],
      "metadata": {
        "id": "Sr8t9Jb4mEYr"
      },
      "execution_count": 184,
      "outputs": []
    },
    {
      "cell_type": "code",
      "source": [
        "partida()"
      ],
      "metadata": {
        "colab": {
          "base_uri": "https://localhost:8080/"
        },
        "id": "JMpgb7mBB6pU",
        "outputId": "b0eed5d5-8cec-4009-d62f-6bbcafd48681"
      },
      "execution_count": 208,
      "outputs": [
        {
          "output_type": "execute_result",
          "data": {
            "text/plain": [
              "5"
            ]
          },
          "metadata": {},
          "execution_count": 208
        }
      ]
    },
    {
      "cell_type": "markdown",
      "source": [
        "## **5. Diseñe el experimento.**\n",
        "\n",
        "Para estimar el número promedio de turnos necesarios para ganar el juego, ejecutamos $n$ veces la función anterior para simular $n$ partidas del juego y calculamos de manera acumulativa el número de tiros promedio necesarios para ganar una partida."
      ],
      "metadata": {
        "id": "6Eq_s5WjsdkL"
      }
    },
    {
      "cell_type": "code",
      "source": [
        "def experimento(n):                   # Función que devuelve lista \"evol_prom\" con los valores del número promedio de tiros estimado,\n",
        "  evol_prom = []                      #el cual se calcula sumando iteradamente los tiros promedio que se hicieron para ganar cada\n",
        "  turnos = 0                          #partida y dividir esta cantidad entre las veces que se ha jugado una partida. Todo esto con\n",
        "  for i in range(n):                  #mientras aumenta el número de observaciones hasta llegar a \"n\".\n",
        "    turnos += partida()\n",
        "    evol_prom.append(turnos/(i+1))    \n",
        "  return evol_prom"
      ],
      "metadata": {
        "id": "YHl-3szbtTTb"
      },
      "execution_count": 189,
      "outputs": []
    },
    {
      "cell_type": "code",
      "source": [
        "evol_prom = experimento(10000)    # Realizamos el experimento con tamaño de muestra grande y arbitraria."
      ],
      "metadata": {
        "id": "a6EsT9eHDWJP"
      },
      "execution_count": 209,
      "outputs": []
    },
    {
      "cell_type": "code",
      "source": [
        "plt.plot(evol_prom, 'r')                     # La gráfica muestra que la convergencia está garantizada con 1000 iteraciones.\n",
        "plt.xlabel('No. de partidas')    \n",
        "plt.ylabel('Número de tiros por partida')\n",
        "plt.grid(True)\n",
        "plt.title('Evolución del número promedio de tiros necesarios para ganar conforme se juegan más partidas')\n",
        "plt.show()"
      ],
      "metadata": {
        "colab": {
          "base_uri": "https://localhost:8080/",
          "height": 472
        },
        "id": "ZtUewuG_D_zz",
        "outputId": "796368f8-a306-44e4-e077-9aa3803f7e5d"
      },
      "execution_count": 210,
      "outputs": [
        {
          "output_type": "display_data",
          "data": {
            "text/plain": [
              "<Figure size 640x480 with 1 Axes>"
            ],
            "image/png": "[encoded data removed]"
          },
          "metadata": {}
        }
      ]
    },
    {
      "cell_type": "code",
      "source": [
        "n = 1000    # Definiendo tamaño de muestra (número de partidas) \"n\" para cada experimento a simular."
      ],
      "metadata": {
        "id": "75ALTPQhZFew"
      },
      "execution_count": 211,
      "outputs": []
    },
    {
      "cell_type": "code",
      "source": [
        "print('mu =', np.mean(evol_prom), ', sigma =', np.std(evol_prom))"
      ],
      "metadata": {
        "colab": {
          "base_uri": "https://localhost:8080/"
        },
        "id": "CXrgF9ZVF-4f",
        "outputId": "305cdbcb-a733-4b96-eee3-7ee16ec0d522"
      },
      "execution_count": 212,
      "outputs": [
        {
          "output_type": "stream",
          "name": "stdout",
          "text": [
            "mu = 6.939133513724647 , sigma = 0.14084154800255333\n"
          ]
        }
      ]
    },
    {
      "cell_type": "markdown",
      "source": [
        "## **6. Repita el experimento $N$ veces.**\n",
        "\n",
        "Primero, necesitamos determinar el número $N$ de veces necesarias que se debe simular el experimento para que la probabilidad estimada de que ocurra la observación deseada difiera de su valor verdadero en menos de $\\epsilon$ con un nivel de confianza del $(1 − \\alpha)\\%$.\n",
        "\n",
        "Este número $N$ está dado por\n",
        "\n",
        "  \\begin{align}\n",
        "  N > \\left( \\frac{2 \\sigma Z_{\\alpha/2}}{\\epsilon} \\right)^2\n",
        "  \\end{align}\n",
        "\n",
        "Implementamos el siguiente código:"
      ],
      "metadata": {
        "id": "Zg7GTd8gG-PQ"
      }
    },
    {
      "cell_type": "code",
      "source": [
        "epsilon = 0.01    # Establecer la cota superior epsilon para el error del número promedio estimado de tiros.\n",
        "alpha = 0.05      # Indicar el grado de significancia que tendrá el valor establecido para epsilon."
      ],
      "metadata": {
        "id": "otd0n7UzLhH0"
      },
      "execution_count": 196,
      "outputs": []
    },
    {
      "cell_type": "code",
      "source": [
        "N = int(np.ceil((2*np.std(evol_prom)*norm.ppf(1-alpha/2)/epsilon)**2))    # Cálculo del número de simulaciones necesarias del\n",
        "print(N)                                                                  #experimento."
      ],
      "metadata": {
        "colab": {
          "base_uri": "https://localhost:8080/"
        },
        "id": "mWy2tO5QWQtP",
        "outputId": "f14292be-120b-4733-f890-19e9a824ab75"
      },
      "execution_count": 213,
      "outputs": [
        {
          "output_type": "stream",
          "name": "stdout",
          "text": [
            "3049\n"
          ]
        }
      ]
    },
    {
      "cell_type": "code",
      "source": [
        "def simulacion(N):                     # Función que devuelve una lista con los promedios del número de tiros estimados de los N\n",
        "  prom = []                            #experimentos realizados.\n",
        "  for i in range(N):\n",
        "    evol_prom = experimento(n)\n",
        "    prom.append(np.mean(evol_prom))\n",
        "  return prom"
      ],
      "metadata": {
        "id": "T4XBtClLHfZC"
      },
      "execution_count": 201,
      "outputs": []
    },
    {
      "cell_type": "code",
      "source": [
        "prom = simulacion(N)    # Realizamos la simulación."
      ],
      "metadata": {
        "id": "UHeTo4KtgiXh"
      },
      "execution_count": 214,
      "outputs": []
    },
    {
      "cell_type": "code",
      "source": [
        "plt.hist(prom, color = 'g', alpha = 0.85)    # Las gráfica nos sugiere que la distribución del número de tiros promedio por partida\n",
        "plt.title('Distribución del número promedio de tiros necesarios para ganar una partida') #es aparentemente normal.\n",
        "plt.show()"
      ],
      "metadata": {
        "colab": {
          "base_uri": "https://localhost:8080/",
          "height": 453
        },
        "id": "-BWyI8S7g1I2",
        "outputId": "962e4e6c-377e-45c4-9d8f-54e91ca57c5e"
      },
      "execution_count": 215,
      "outputs": [
        {
          "output_type": "display_data",
          "data": {
            "text/plain": [
              "<Figure size 640x480 with 1 Axes>"
            ],
            "image/png": "[encoded data removed]"
          },
          "metadata": {}
        }
      ]
    },
    {
      "cell_type": "code",
      "source": [
        "print('mu =', np.mean(prom), ', sigma =', np.std(prom))"
      ],
      "metadata": {
        "colab": {
          "base_uri": "https://localhost:8080/"
        },
        "id": "Sexk4jTzh_E4",
        "outputId": "d90bf164-0dd4-4d37-c38c-3b804c0a99b9"
      },
      "execution_count": 216,
      "outputs": [
        {
          "output_type": "stream",
          "name": "stdout",
          "text": [
            "mu = 6.896423692649525 , sigma = 0.13760127400714128\n"
          ]
        }
      ]
    },
    {
      "cell_type": "markdown",
      "source": [
        "## **7. Hallamos el intervalo de confianza.**\n",
        "\n",
        "Utilizamos la fórmula\n",
        "  \\begin{align}\n",
        "  \\bar{x} - Z_{\\frac{\\alpha}{2}}\\frac{s}{\\sqrt{n}} < \\mu < \\bar{x} + Z_{\\frac{\\alpha}{2}}\\frac{s}{\\sqrt{n}}\n",
        "  \\end{align}\n",
        "\n",
        "Implementamos el siguiente código:"
      ],
      "metadata": {
        "id": "Gm9gpcrGiIDM"
      }
    },
    {
      "cell_type": "code",
      "source": [
        "mu = np.mean(prom)                                         # Se presentan los intervalos de confianza para el promedio estimado\n",
        "li = mu - norm.ppf(1-alpha/2) * np.std(prom)/np.sqrt(n)    #de la forma: \n",
        "ls = mu + norm.ppf(1-alpha/2) * np.std(prom)/np.sqrt(n)    #\n",
        "print(li, '<', mu, '<', ls)                                #       Caso: Límite inferior < Promedio estimado < Límite superior"
      ],
      "metadata": {
        "colab": {
          "base_uri": "https://localhost:8080/"
        },
        "id": "lAbFdrdljIDX",
        "outputId": "3de8ea05-9c3f-4f7e-a6ea-e19c1efe177a"
      },
      "execution_count": 217,
      "outputs": [
        {
          "output_type": "stream",
          "name": "stdout",
          "text": [
            "6.887895234042684 < 6.896423692649525 < 6.904952151256365\n"
          ]
        }
      ]
    },
    {
      "cell_type": "markdown",
      "source": [
        "## **8. Comparamos con la solución analítica.**\n",
        "\n",
        "Creamos nuestra matriz estocástica p de transición que modelará nuestro juego de serpientes y escaleras.\n",
        "\n",
        "El estado final (la casilla ganadora: la 20) es un estado absorbente ya que, al ya haber ganado, no hay forma de \"salir\" de esa casilla.\n",
        "$\\hspace{5cm}$\n",
        "\n",
        "\\begin{equation*} M =\n",
        "\\begin{pmatrix}\n",
        "0 & 1/6 & 1/6 & 1/6 & 1/6 & 1/6 & 1/6 & 0 & 0 & 0 & 0 & 0 & 0 & 0 & 0 & 0 & 0 & 0 & 0 & 0 \\\\\n",
        "0 & 0 & 1/6 & 1/6 & 1/6 & 1/6 & 1/6 & 1/6 & 0 & 0 & 0 & 0 & 0 & 0 & 0 & 0 & 0 & 0 & 0 & 0 \\\\\n",
        "0 & 0 & 0 & 0 & 0 & 0 & 0 & 0 & 0 & 0 & 1 & 0 & 0 & 0 & 0 & 0 & 0 & 0 & 0 & 0 \\\\\n",
        "0 & 0 & 0 & 0 & 1/6 & 1/6 & 1/6 & 1/6 & 1/6 & 1/6 & 0 & 0 & 0 & 0 & 0 & 0 & 0 & 0 & 0 & 0 \\\\\n",
        "0 & 0 & 0 & 0 & 0 & 1/6 & 1/6 & 1/6 & 1/6 & 1/6 & 1/6 & 0 & 0 & 0 & 0 & 0 & 0 & 0 & 0 & 0 \\\\\n",
        "0 & 0 & 0 & 0 & 0 & 0 & 1/6 & 1/6 & 1/6 & 1/6 & 1/6 & 1/6 & 0 & 0 & 0 & 0 & 0 & 0 & 0 & 0 \\\\\n",
        "0 & 0 & 0 & 0 & 0 & 0 & 0 & 1/6 & 1/6 & 1/6 & 1/6 & 1/6 & 1/6 & 0 & 0 & 0 & 0 & 0 & 0 & 0 \\\\\n",
        "0 & 0 & 0 & 0 & 0 & 0 & 0 & 0 & 1/6 & 1/6 & 1/6 & 1/6 & 1/6 & 1/6 & 0 & 0 & 0 & 0 & 0 & 0 \\\\\n",
        "0 & 0 & 0 & 0 & 0 & 0 & 0 & 0 & 0 & 1/6 & 1/6 & 1/6 & 1/6 & 1/6 & 1/6 & 0 & 0 & 0 & 0 & 0 \\\\\n",
        "0 & 0 & 0 & 0 & 0 & 0 & 0 & 0 & 0 & 0 & 1/6 & 1/6 & 1/6 & 1/6 & 1/6 & 1/6 & 0 & 0 & 0 & 0 \\\\\n",
        "0 & 0 & 0 & 0 & 0 & 0 & 0 & 0 & 0 & 0 & 0 & 1/6 & 1/6 & 1/6 & 1/6 & 1/6 & 1/6 & 0 & 0 & 0 \\\\\n",
        "0 & 0 & 0 & 0 & 0 & 0 & 0 & 0 & 0 & 0 & 0 & 0 & 1/6 & 1/6 & 1/6 & 1/6 & 1/6 & 1/6 & 0 & 0 \\\\\n",
        "0 & 0 & 0 & 1 & 0 & 0 & 0 & 0 & 0 & 0 & 0 & 0 & 0 & 0 & 0 & 0 & 0 & 0 & 0 & 0 \\\\\n",
        "0 & 0 & 0 & 0 & 0 & 0 & 0 & 0 & 0 & 0 & 0 & 0 & 0 & 0 & 1/6 & 1/6 & 1/6 & 1/6 & 1/6 & 1/6 \\\\\n",
        "0 & 0 & 0 & 0 & 0 & 0 & 0 & 0 & 0 & 0 & 0 & 0 & 0 & 0 & 0 & 0 & 0 & 0 & 1 & 0 \\\\\n",
        "0 & 0 & 0 & 0 & 0 & 0 & 0 & 0 & 0 & 0 & 0 & 0 & 0 & 0 & 0 & 0 & 1/6 & 1/6 & 1/6 & 1/2 \\\\\n",
        "0 & 0 & 0 & 0 & 0 & 0 & 0 & 0 & 0 & 1 & 0 & 0 & 0 & 0 & 0 & 0 & 0 & 0 & 0 & 0 \\\\\n",
        "0 & 0 & 0 & 0 & 0 & 0 & 0 & 0 & 0 & 0 & 0 & 0 & 0 & 0 & 0 & 0 & 0 & 0 & 1/6 & 5/6 \\\\\n",
        "0 & 0 & 0 & 0 & 0 & 0 & 0 & 0 & 0 & 0 & 0 & 0 & 0 & 0 & 0 & 0 & 0 & 0 & 0 & 1 \\\\\n",
        "0 & 0 & 0 & 0 & 0 & 0 & 0 & 0 & 0 & 0 & 0 & 0 & 0 & 0 & 0 & 0 & 0 & 0 & 0 & 1\n",
        "\\end{pmatrix}\n",
        "\\end{equation*}$\\hspace{5cm}$\n",
        "\n",
        "Ahora generamos esta matriz de manera generalizada con el siguiente código:"
      ],
      "metadata": {
        "id": "lNtEHDhFx3-g"
      }
    },
    {
      "cell_type": "code",
      "source": [
        "# Creando matriz de ceros de n x m.\n",
        "M = [[0]*n_squares for _ in range(n_squares)]\n",
        "\n",
        "# Distribuímos las respectivas probabilidades para cada cambio de estado.\n",
        "for i in range(n_squares):\n",
        "  for j in range(n_squares):\n",
        "    if j >= (i + 1) and j <= (i + 6):\n",
        "      M[i][j] = 1 / 6\n",
        "    if (i + 6) >= n_squares:\n",
        "      rest = i + 6 - n_squares + 1\n",
        "      M[i][n_squares - 1] = (rest + 1) / 6\n",
        "    if M[i][j] > 1:\n",
        "      M[i][j] = 1\n",
        "\n",
        "# Colocamos las respectivas distribuciones de probabilidad que representa cada escalera.\n",
        "for stair in stairs:\n",
        "  M[stair[0] - 1] = [0]*n_squares\n",
        "  M[stair[0] - 1][stair[1] - 1] = 1\n",
        "\n",
        "# Colocamos las respectivas distribuciones de probabilidad que representa cada serpiente.\n",
        "for snake in snakes:\n",
        "  M[snake[0] - 1] = [0]*n_squares\n",
        "  M[snake[0] - 1][snake[1] - 1] = 1\n",
        "\n",
        "M = np.array(M)"
      ],
      "metadata": {
        "id": "5onUm4iJy_-o"
      },
      "execution_count": 218,
      "outputs": []
    },
    {
      "cell_type": "markdown",
      "source": [
        "### Forma canónica de una matriz estocástica\n",
        "\n",
        "Consideremos cualquier cadena de Markov arbitraria. Reubicamos los estados para poner los transitorios primero. Si hay $\\,r\\,$ estados absorbentes y $\\,t\\,$ transitorios, la matriz de probabilidades de transición tendrá la siguiente forma canónica:\n",
        "\n",
        "\\begin{equation*} P =\n",
        "\\begin{pmatrix}\n",
        "Q & R \\\\\n",
        "\\mathbf{0} & I\n",
        "\\end{pmatrix}\n",
        "\\end{equation*}\n",
        "\n",
        "Aquí $\\,I\\,$ es la matriz identidad de orden $\\,r\\,$, $\\,\\mathbf{0}\\,$ es una matriz nula $\\,r\\times t\\,$, $\\,R\\,$ es una matriz $\\,t\\times r\\,$ y $\\,Q\\,$ es una matriz $\\,t\\times t\\,$.\n",
        "\n",
        "Partiendo de nuestra matriz de transición $\\,M$, se sigue que $\\hspace{8cm}$\n",
        "\n",
        "\\begin{equation*} Q_{t\\times t} =\n",
        "\\begin{pmatrix}\n",
        "0 & 1/6 & 1/6 & 1/6 & 1/6 & 1/6 & 1/6 & 0 & 0 & 0 & 0 & 0 & 0 & 0 & 0 & 0 & 0 & 0 & 0  \\\\\n",
        "0 & 0 & 1/6 & 1/6 & 1/6 & 1/6 & 1/6 & 1/6 & 0 & 0 & 0 & 0 & 0 & 0 & 0 & 0 & 0 & 0 & 0 \\\\\n",
        "0 & 0 & 0 & 0 & 0 & 0 & 0 & 0 & 0 & 0 & 1 & 0 & 0 & 0 & 0 & 0 & 0 & 0 & 0 \\\\\n",
        "0 & 0 & 0 & 0 & 1/6 & 1/6 & 1/6 & 1/6 & 1/6 & 1/6 & 0 & 0 & 0 & 0 & 0 & 0 & 0 & 0 & 0 \\\\\n",
        "0 & 0 & 0 & 0 & 0 & 1/6 & 1/6 & 1/6 & 1/6 & 1/6 & 1/6 & 0 & 0 & 0 & 0 & 0 & 0 & 0 & 0 \\\\\n",
        "0 & 0 & 0 & 0 & 0 & 0 & 1/6 & 1/6 & 1/6 & 1/6 & 1/6 & 1/6 & 0 & 0 & 0 & 0 & 0 & 0 & 0 \\\\\n",
        "0 & 0 & 0 & 0 & 0 & 0 & 0 & 1/6 & 1/6 & 1/6 & 1/6 & 1/6 & 1/6 & 0 & 0 & 0 & 0 & 0 & 0 \\\\\n",
        "0 & 0 & 0 & 0 & 0 & 0 & 0 & 0 & 1/6 & 1/6 & 1/6 & 1/6 & 1/6 & 1/6 & 0 & 0 & 0 & 0 & 0 \\\\\n",
        "0 & 0 & 0 & 0 & 0 & 0 & 0 & 0 & 0 & 1/6 & 1/6 & 1/6 & 1/6 & 1/6 & 1/6 & 0 & 0 & 0 & 0 \\\\\n",
        "0 & 0 & 0 & 0 & 0 & 0 & 0 & 0 & 0 & 0 & 1/6 & 1/6 & 1/6 & 1/6 & 1/6 & 1/6 & 0 & 0 & 0 \\\\\n",
        "0 & 0 & 0 & 0 & 0 & 0 & 0 & 0 & 0 & 0 & 0 & 1/6 & 1/6 & 1/6 & 1/6 & 1/6 & 1/6 & 0 & 0 \\\\\n",
        "0 & 0 & 0 & 0 & 0 & 0 & 0 & 0 & 0 & 0 & 0 & 0 & 1/6 & 1/6 & 1/6 & 1/6 & 1/6 & 1/6 & 0 \\\\\n",
        "0 & 0 & 0 & 1 & 0 & 0 & 0 & 0 & 0 & 0 & 0 & 0 & 0 & 0 & 0 & 0 & 0 & 0 & 0 \\\\\n",
        "0 & 0 & 0 & 0 & 0 & 0 & 0 & 0 & 0 & 0 & 0 & 0 & 0 & 0 & 1/6 & 1/6 & 1/6 & 1/6 & 1/6 \\\\\n",
        "0 & 0 & 0 & 0 & 0 & 0 & 0 & 0 & 0 & 0 & 0 & 0 & 0 & 0 & 0 & 0 & 0 & 0 & 1 \\\\\n",
        "0 & 0 & 0 & 0 & 0 & 0 & 0 & 0 & 0 & 0 & 0 & 0 & 0 & 0 & 0 & 0 & 1/6 & 1/6 & 1/6 \\\\\n",
        "0 & 0 & 0 & 0 & 0 & 0 & 0 & 0 & 0 & 1 & 0 & 0 & 0 & 0 & 0 & 0 & 0 & 0 & 0 \\\\\n",
        "0 & 0 & 0 & 0 & 0 & 0 & 0 & 0 & 0 & 0 & 0 & 0 & 0 & 0 & 0 & 0 & 0 & 0 & 1/6 \\\\\n",
        "0 & 0 & 0 & 0 & 0 & 0 & 0 & 0 & 0 & 0 & 0 & 0 & 0 & 0 & 0 & 0 & 0 & 0 & 0 \\\\\n",
        "\\end{pmatrix}\n",
        "\\end{equation*}$\\hspace{5cm}$\n",
        "\n",
        "\n",
        "\\begin{equation*} R_{t\\times r} =\n",
        "\\begin{pmatrix}\n",
        "0 \\\\\n",
        "0 \\\\\n",
        "0 \\\\\n",
        "0 \\\\\n",
        "0 \\\\\n",
        "0 \\\\\n",
        "0 \\\\\n",
        "0 \\\\\n",
        "0 \\\\\n",
        "0 \\\\\n",
        "0 \\\\\n",
        "0 \\\\\n",
        "0 \\\\\n",
        "1/6 \\\\\n",
        "0 \\\\\n",
        "1/2 \\\\\n",
        "0 \\\\\n",
        "5/6 \\\\\n",
        "1\n",
        "\\end{pmatrix}\n",
        "\\end{equation*}$\\hspace{5cm}$\n",
        "\n",
        "\\begin{equation*} 0_{r\\times t} =\n",
        "\\begin{pmatrix}\n",
        "0 & 0 & 0 & 0 & 0 & 0 & 0 & 0 & 0 & 0 & 0 & 0 & 0 & 0 & 0 & 0 & 0 & 0 & 0\n",
        "\\end{pmatrix}\n",
        "\\end{equation*}$\\hspace{5cm}$\n",
        "\n",
        "\\begin{equation*} I_{r\\times r} =\n",
        "\\begin{pmatrix}\n",
        "1\n",
        "\\end{pmatrix}\n",
        "\\end{equation*}$\\hspace{5cm}$\n",
        "\n",
        "### Matriz fundamental\n",
        "\n",
        "Está definida como\n",
        "\n",
        "  \\begin{equation*}\n",
        "  N = (I - Q)^{-1}\n",
        "  \\end{equation*}\n",
        "\n",
        "Ahora enunciamos.\n",
        "\n",
        "**Teorema 1.** Dada una cadena que empieza en el estado $\\,i$, denotamos por $\\,t_i\\,$ el tiempo promedio del número de pasos antes de que la cadena sea absorbida (i.e., el tiempo medio de absorción de todas las posibles realizaciones de una cadena que empieza en el estado $\\,i\\,$). Entonces $\\,t_i\\,$ se obtiene sumando todos los elementos de la fila $i$-ésima de la matriz fundamental $\\,N\\,$ del proceso.\n",
        "\n",
        "Se sigue que al calcular $\\,t_i\\,$, también se considera el paso por el estado $\\,i\\,$. Sin embargo, el estado $1$ (la casilla de inicio) no lo debemos considerar, ya que al haber discretizado el tiempo y definirlo como cada lanzamiento de los dados (cada turno); entonces, al no haber manera de pasar nuevamente por la primera casilla, no existe lanzamiento (tiempo) en el que podamos regresar al estado $1$.\n",
        "\n",
        "Por lo tanto, calculamos $\\,t_1\\,$ utilizando el teorema enunciado; pero sustrayendo el valor $N_{1,1}$, ya que no tomaremos en cuenta el paso por la primera casilla por lo anteriormente mencionado.\n",
        "\n",
        "Implementamos el siguiente código:"
      ],
      "metadata": {
        "id": "DOCTj4BDzU0L"
      }
    },
    {
      "cell_type": "code",
      "source": [
        "Q = np.delete(np.delete(M, n_squares - 1, axis = 1), n_squares - 1, axis = 0)    # Determinamos la matriz Q.\n",
        "N = np.linalg.inv(np.eye(n_squares - 1) - Q)                                     # Calculamos la matriz fundamental N.\n",
        "sum_vec = np.sum(N, axis = 1)                                                    # Sumamos los valores de la primera fila de N.\n",
        "mu_ana = sum_vec[0] - N[0][0]                                                    # Sustraemos el valor asociado a primera casilla.\n",
        "print(mu_ana)"
      ],
      "metadata": {
        "colab": {
          "base_uri": "https://localhost:8080/"
        },
        "id": "r0bxqyID4rJu",
        "outputId": "5dcec578-54fc-413e-a986-5884c230fea4"
      },
      "execution_count": 219,
      "outputs": [
        {
          "output_type": "stream",
          "name": "stdout",
          "text": [
            "7.2913795203526135\n"
          ]
        }
      ]
    },
    {
      "cell_type": "markdown",
      "source": [
        "# **Solución**"
      ],
      "metadata": {
        "id": "DWUmqLmk7yEJ"
      }
    },
    {
      "cell_type": "code",
      "source": [
        "print('Si se juegan ' + str(n) + ' partidas,\\n')\n",
        "\n",
        "print('El número promedio de turnos necesarios para ganar una partida del juego de serpientes y escaleras planteado como problema,')\n",
        "print('estimado mediante simulación, es de ' + str(mu) + ' turnos.\\n')\n",
        "\n",
        "print('La cual difiere en un ' + str(abs(mu - mu_ana)*100 / mu_ana) + '% de la solución analítica. Sin embargo, al tratarse de')\n",
        "print('tiempo discreto, la solución estimada por simulación realmente difiere sólo un ', end = '')\n",
        "print(str(abs(round(mu) - round(mu_ana))*100 / round(mu_ana)) + '% de la solución analítica')"
      ],
      "metadata": {
        "colab": {
          "base_uri": "https://localhost:8080/"
        },
        "id": "MRF_an7-8ngY",
        "outputId": "9a8510e3-1d46-43b6-cc5d-9e652d46e33e"
      },
      "execution_count": 220,
      "outputs": [
        {
          "output_type": "stream",
          "name": "stdout",
          "text": [
            "Si se juegan 1000 partidas,\n",
            "\n",
            "El número promedio de turnos necesarios para ganar una partida del juego de serpientes y escaleras planteado como problema,\n",
            "estimado mediante simulación, es de 6.896423692649525 turnos.\n",
            "\n",
            "La cual difiere en un 5.416750377629342% de la solución analítica. Sin embargo, al tratarse de\n",
            "tiempo discreto, la solución estimada por simulación realmente difiere sólo un 0.0% de la solución analítica\n"
          ]
        }
      ]
    }
  ]
}